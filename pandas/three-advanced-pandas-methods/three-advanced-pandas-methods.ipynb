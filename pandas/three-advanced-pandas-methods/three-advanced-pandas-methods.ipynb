{
 "metadata": {
  "language_info": {
   "codemirror_mode": {
    "name": "ipython",
    "version": 3
   },
   "file_extension": ".py",
   "mimetype": "text/x-python",
   "name": "python",
   "nbconvert_exporter": "python",
   "pygments_lexer": "ipython3",
   "version": "3.8.5-final"
  },
  "orig_nbformat": 2,
  "kernelspec": {
   "name": "python_defaultSpec_1599781423140",
   "display_name": "Python 3.8.5 64-bit ('jpnb_py38': conda)"
  }
 },
 "nbformat": 4,
 "nbformat_minor": 2,
 "cells": [
  {
   "source": [
    "# 3 Advanced Pandas Methods for Data Scientists\n",
    "\n",
    "Source code for Medium's article [\"3 Advanced Pandas Methods for Data Scientists\"](https://towardsdatascience.com/3-advanced-pandas-methods-for-data-scientist-c7935152b2ca) written by [Kaushik Choudhury](https://towardsdatascience.com/@kaushikthoughts)."
   ],
   "cell_type": "markdown",
   "metadata": {}
  },
  {
   "cell_type": "code",
   "execution_count": 1,
   "metadata": {},
   "outputs": [],
   "source": [
    "import pandas as pd"
   ]
  },
  {
   "cell_type": "code",
   "execution_count": 3,
   "metadata": {
    "tags": []
   },
   "outputs": [
    {
     "output_type": "stream",
     "name": "stdout",
     "text": "Software Initial Release           Written In CUDA Support\n1    Keras            2015               Python          Yes\n2     CNTK            2016                  C++          Yes\n3  PlaidML            2017  Python, C++, OpenCL           No\n"
    }
   ],
   "source": [
    "df1 = pd.DataFrame(\n",
    "    [[\"Keras\", \"2015\", \"Python\", \"Yes\"],\n",
    "     [\"CNTK\", \"2016\", \"C++\", \"Yes\"],\n",
    "     [\"PlaidML\", \"2017\", \"Python, C++, OpenCL\", \"No\"]],\n",
    "     index=[1, 2, 3],\n",
    "     columns= [\"Software\", \"Initial Release\", \"Written In\", \"CUDA Support\"])\n",
    "\n",
    "print(df1)     "
   ]
  },
  {
   "cell_type": "code",
   "execution_count": 5,
   "metadata": {
    "tags": []
   },
   "outputs": [
    {
     "output_type": "stream",
     "name": "stdout",
     "text": "Software  Characteristics                value\n0    Keras  Initial Release                 2015\n1     CNTK  Initial Release                 2016\n2  PlaidML  Initial Release                 2017\n3    Keras       Written In               Python\n4     CNTK       Written In                  C++\n5  PlaidML       Written In  Python, C++, OpenCL\n6    Keras     CUDA Support                  Yes\n7     CNTK     CUDA Support                  Yes\n8  PlaidML     CUDA Support                   No\n"
    }
   ],
   "source": [
    "df2 = df1.melt(id_vars=[\"Software\"], var_name=\"Characteristics\")\n",
    "\n",
    "print(df2)"
   ]
  },
  {
   "cell_type": "code",
   "execution_count": 6,
   "metadata": {
    "tags": []
   },
   "outputs": [
    {
     "output_type": "stream",
     "name": "stdout",
     "text": "value                                     \nCharacteristics CUDA Support Initial Release           Written In\nSoftware                                                         \nCNTK                     Yes            2016                  C++\nKeras                    Yes            2015               Python\nPlaidML                   No            2017  Python, C++, OpenCL\n"
    }
   ],
   "source": [
    "df3 = df2.pivot(index=\"Software\", columns=\"Characteristics\")\n",
    "\n",
    "print(df3)"
   ]
  },
  {
   "cell_type": "code",
   "execution_count": 8,
   "metadata": {
    "tags": []
   },
   "outputs": [
    {
     "output_type": "stream",
     "name": "stdout",
     "text": "Creator      License\n1    François Chollet  MIT License\n2  Microsoft Research  MIT License\n3     Vertex.AI,Intel         AGPL\n"
    }
   ],
   "source": [
    "df4 = pd.DataFrame(\n",
    "    [[\"François Chollet\", \"MIT License\"],\n",
    "     [\"Microsoft Research\", \"MIT License\"],\n",
    "     [\"Vertex.AI,Intel\", \"AGPL\"]],\n",
    "     index=[1, 2, 3], columns=[\"Creator\", \"License\"]\n",
    ")\n",
    "\n",
    "print(df4)"
   ]
  },
  {
   "cell_type": "code",
   "execution_count": 10,
   "metadata": {
    "tags": []
   },
   "outputs": [
    {
     "output_type": "execute_result",
     "data": {
      "text/plain": "  Software Initial Release           Written In CUDA Support  \\\n1    Keras            2015               Python          Yes   \n2     CNTK            2016                  C++          Yes   \n3  PlaidML            2017  Python, C++, OpenCL           No   \n\n              Creator      License  \n1    François Chollet  MIT License  \n2  Microsoft Research  MIT License  \n3     Vertex.AI,Intel         AGPL  ",
      "text/html": "<div>\n<style scoped>\n    .dataframe tbody tr th:only-of-type {\n        vertical-align: middle;\n    }\n\n    .dataframe tbody tr th {\n        vertical-align: top;\n    }\n\n    .dataframe thead th {\n        text-align: right;\n    }\n</style>\n<table border=\"1\" class=\"dataframe\">\n  <thead>\n    <tr style=\"text-align: right;\">\n      <th></th>\n      <th>Software</th>\n      <th>Initial Release</th>\n      <th>Written In</th>\n      <th>CUDA Support</th>\n      <th>Creator</th>\n      <th>License</th>\n    </tr>\n  </thead>\n  <tbody>\n    <tr>\n      <th>1</th>\n      <td>Keras</td>\n      <td>2015</td>\n      <td>Python</td>\n      <td>Yes</td>\n      <td>François Chollet</td>\n      <td>MIT License</td>\n    </tr>\n    <tr>\n      <th>2</th>\n      <td>CNTK</td>\n      <td>2016</td>\n      <td>C++</td>\n      <td>Yes</td>\n      <td>Microsoft Research</td>\n      <td>MIT License</td>\n    </tr>\n    <tr>\n      <th>3</th>\n      <td>PlaidML</td>\n      <td>2017</td>\n      <td>Python, C++, OpenCL</td>\n      <td>No</td>\n      <td>Vertex.AI,Intel</td>\n      <td>AGPL</td>\n    </tr>\n  </tbody>\n</table>\n</div>"
     },
     "metadata": {},
     "execution_count": 10
    }
   ],
   "source": [
    "df5 = pd.concat([df1, df4], axis=1)\n",
    "\n",
    "df5"
   ]
  },
  {
   "cell_type": "code",
   "execution_count": 11,
   "metadata": {
    "tags": []
   },
   "outputs": [
    {
     "output_type": "stream",
     "name": "stdout",
     "text": "Software             Creator      License\n1     CNTK  Microsoft Research  MIT License\n2    Keras    François Chollet  MIT License\n3  PlaidML     Vertex.AI,Intel         AGPL\n"
    }
   ],
   "source": [
    "df6 = pd.DataFrame([\n",
    "    [\"CNTK\", \"Microsoft Research\", \"MIT License\"],\n",
    "    [\"Keras\", \"François Chollet\", \"MIT License\"],\n",
    "    [\"PlaidML\", \"Vertex.AI,Intel\", \"AGPL\"]\n",
    "], index=[1, 2, 3], columns=[\"Software\", \"Creator\", \"License\"])\n",
    "\n",
    "print(df6)"
   ]
  },
  {
   "cell_type": "code",
   "execution_count": 13,
   "metadata": {
    "tags": []
   },
   "outputs": [
    {
     "output_type": "execute_result",
     "data": {
      "text/plain": "  Software Initial Release           Written In CUDA Support  \\\n0    Keras            2015               Python          Yes   \n1     CNTK            2016                  C++          Yes   \n2  PlaidML            2017  Python, C++, OpenCL           No   \n\n              Creator      License  \n0    François Chollet  MIT License  \n1  Microsoft Research  MIT License  \n2     Vertex.AI,Intel         AGPL  ",
      "text/html": "<div>\n<style scoped>\n    .dataframe tbody tr th:only-of-type {\n        vertical-align: middle;\n    }\n\n    .dataframe tbody tr th {\n        vertical-align: top;\n    }\n\n    .dataframe thead th {\n        text-align: right;\n    }\n</style>\n<table border=\"1\" class=\"dataframe\">\n  <thead>\n    <tr style=\"text-align: right;\">\n      <th></th>\n      <th>Software</th>\n      <th>Initial Release</th>\n      <th>Written In</th>\n      <th>CUDA Support</th>\n      <th>Creator</th>\n      <th>License</th>\n    </tr>\n  </thead>\n  <tbody>\n    <tr>\n      <th>0</th>\n      <td>Keras</td>\n      <td>2015</td>\n      <td>Python</td>\n      <td>Yes</td>\n      <td>François Chollet</td>\n      <td>MIT License</td>\n    </tr>\n    <tr>\n      <th>1</th>\n      <td>CNTK</td>\n      <td>2016</td>\n      <td>C++</td>\n      <td>Yes</td>\n      <td>Microsoft Research</td>\n      <td>MIT License</td>\n    </tr>\n    <tr>\n      <th>2</th>\n      <td>PlaidML</td>\n      <td>2017</td>\n      <td>Python, C++, OpenCL</td>\n      <td>No</td>\n      <td>Vertex.AI,Intel</td>\n      <td>AGPL</td>\n    </tr>\n  </tbody>\n</table>\n</div>"
     },
     "metadata": {},
     "execution_count": 13
    }
   ],
   "source": [
    "combined = df1.merge(df6, on=\"Software\")\n",
    "\n",
    "combined"
   ]
  },
  {
   "cell_type": "code",
   "execution_count": null,
   "metadata": {},
   "outputs": [],
   "source": []
  }
 ]
}