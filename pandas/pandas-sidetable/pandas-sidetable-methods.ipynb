{
 "metadata": {
  "language_info": {
   "codemirror_mode": {
    "name": "ipython",
    "version": 3
   },
   "file_extension": ".py",
   "mimetype": "text/x-python",
   "name": "python",
   "nbconvert_exporter": "python",
   "pygments_lexer": "ipython3",
   "version": "3.8.5-final"
  },
  "orig_nbformat": 2,
  "kernelspec": {
   "name": "python_defaultSpec_1599345620866",
   "display_name": "Python 3.8.5 64-bit ('jpnb_py38': conda)"
  }
 },
 "nbformat": 4,
 "nbformat_minor": 2,
 "cells": [
  {
   "cell_type": "markdown",
   "metadata": {},
   "source": [
    "# Sidetable Gives You the Pandas Methods You Didn’t Know You Needed"
   ]
  },
  {
   "cell_type": "markdown",
   "metadata": {},
   "source": [
    "Source code from the article: [\"Sidetable Gives You the Pandas Methods You Didn’t Know You Needed\"](https://towardsdatascience.com/sidetable-gives-you-the-pandas-methods-you-didnt-know-you-needed-92be825ff512)"
   ]
  },
  {
   "cell_type": "markdown",
   "metadata": {},
   "source": [
    "## Setup"
   ]
  },
  {
   "cell_type": "code",
   "execution_count": 1,
   "metadata": {
    "tags": []
   },
   "outputs": [
    {
     "output_type": "stream",
     "name": "stdout",
     "text": "Python version: 3.8.5 (default, Aug  5 2020, 09:44:06) [MSC v.1916 64 bit (AMD64)]\nPandas version: 1.1.1\nSidetable version: 0.7.0\n"
    }
   ],
   "source": [
    "import sys\n",
    "import pandas as pd\n",
    "import sidetable\n",
    "\n",
    "print(f\"Python version: {sys.version}\")\n",
    "print(f\"Pandas version: {pd.__version__}\")\n",
    "print(f\"Sidetable version: {sidetable.__version__}\")"
   ]
  },
  {
   "cell_type": "markdown",
   "metadata": {},
   "source": [
    "## Penguin data"
   ]
  },
  {
   "cell_type": "code",
   "execution_count": 2,
   "metadata": {},
   "outputs": [
    {
     "output_type": "execute_result",
     "data": {
      "text/plain": "  species     island  bill_length_mm  bill_depth_mm  flipper_length_mm  \\\n0  Adelie  Torgersen            39.1           18.7              181.0   \n1  Adelie  Torgersen            39.5           17.4              186.0   \n2  Adelie  Torgersen            40.3           18.0              195.0   \n3  Adelie  Torgersen             NaN            NaN                NaN   \n4  Adelie  Torgersen            36.7           19.3              193.0   \n\n   body_mass_g     sex  \n0       3750.0    MALE  \n1       3800.0  FEMALE  \n2       3250.0  FEMALE  \n3          NaN     NaN  \n4       3450.0  FEMALE  ",
      "text/html": "<div>\n<style scoped>\n    .dataframe tbody tr th:only-of-type {\n        vertical-align: middle;\n    }\n\n    .dataframe tbody tr th {\n        vertical-align: top;\n    }\n\n    .dataframe thead th {\n        text-align: right;\n    }\n</style>\n<table border=\"1\" class=\"dataframe\">\n  <thead>\n    <tr style=\"text-align: right;\">\n      <th></th>\n      <th>species</th>\n      <th>island</th>\n      <th>bill_length_mm</th>\n      <th>bill_depth_mm</th>\n      <th>flipper_length_mm</th>\n      <th>body_mass_g</th>\n      <th>sex</th>\n    </tr>\n  </thead>\n  <tbody>\n    <tr>\n      <th>0</th>\n      <td>Adelie</td>\n      <td>Torgersen</td>\n      <td>39.1</td>\n      <td>18.7</td>\n      <td>181.0</td>\n      <td>3750.0</td>\n      <td>MALE</td>\n    </tr>\n    <tr>\n      <th>1</th>\n      <td>Adelie</td>\n      <td>Torgersen</td>\n      <td>39.5</td>\n      <td>17.4</td>\n      <td>186.0</td>\n      <td>3800.0</td>\n      <td>FEMALE</td>\n    </tr>\n    <tr>\n      <th>2</th>\n      <td>Adelie</td>\n      <td>Torgersen</td>\n      <td>40.3</td>\n      <td>18.0</td>\n      <td>195.0</td>\n      <td>3250.0</td>\n      <td>FEMALE</td>\n    </tr>\n    <tr>\n      <th>3</th>\n      <td>Adelie</td>\n      <td>Torgersen</td>\n      <td>NaN</td>\n      <td>NaN</td>\n      <td>NaN</td>\n      <td>NaN</td>\n      <td>NaN</td>\n    </tr>\n    <tr>\n      <th>4</th>\n      <td>Adelie</td>\n      <td>Torgersen</td>\n      <td>36.7</td>\n      <td>19.3</td>\n      <td>193.0</td>\n      <td>3450.0</td>\n      <td>FEMALE</td>\n    </tr>\n  </tbody>\n</table>\n</div>"
     },
     "metadata": {},
     "execution_count": 2
    }
   ],
   "source": [
    "df_penguins = pd.read_csv(\"https://raw.githubusercontent.com/mwaskom/seaborn-data/master/penguins.csv\")\n",
    "\n",
    "df_penguins.head()"
   ]
  },
  {
   "cell_type": "code",
   "execution_count": 3,
   "metadata": {
    "tags": []
   },
   "outputs": [
    {
     "output_type": "stream",
     "name": "stdout",
     "text": "<class 'pandas.core.frame.DataFrame'>\nRangeIndex: 344 entries, 0 to 343\nData columns (total 7 columns):\n #   Column             Non-Null Count  Dtype  \n---  ------             --------------  -----  \n 0   species            344 non-null    object \n 1   island             344 non-null    object \n 2   bill_length_mm     342 non-null    float64\n 3   bill_depth_mm      342 non-null    float64\n 4   flipper_length_mm  342 non-null    float64\n 5   body_mass_g        342 non-null    float64\n 6   sex                333 non-null    object \ndtypes: float64(4), object(3)\nmemory usage: 18.9+ KB\n"
    }
   ],
   "source": [
    "df_penguins.info()"
   ]
  },
  {
   "cell_type": "markdown",
   "metadata": {},
   "source": [
    "## Exploring sidetable"
   ]
  },
  {
   "cell_type": "markdown",
   "metadata": {},
   "source": [
    "### stb.missing()"
   ]
  },
  {
   "cell_type": "code",
   "execution_count": 4,
   "metadata": {},
   "outputs": [
    {
     "output_type": "execute_result",
     "data": {
      "text/plain": "                   missing  total   percent\nsex                     11    344  3.197674\nbill_length_mm           2    344  0.581395\nbill_depth_mm            2    344  0.581395\nflipper_length_mm        2    344  0.581395\nbody_mass_g              2    344  0.581395\nspecies                  0    344  0.000000\nisland                   0    344  0.000000",
      "text/html": "<div>\n<style scoped>\n    .dataframe tbody tr th:only-of-type {\n        vertical-align: middle;\n    }\n\n    .dataframe tbody tr th {\n        vertical-align: top;\n    }\n\n    .dataframe thead th {\n        text-align: right;\n    }\n</style>\n<table border=\"1\" class=\"dataframe\">\n  <thead>\n    <tr style=\"text-align: right;\">\n      <th></th>\n      <th>missing</th>\n      <th>total</th>\n      <th>percent</th>\n    </tr>\n  </thead>\n  <tbody>\n    <tr>\n      <th>sex</th>\n      <td>11</td>\n      <td>344</td>\n      <td>3.197674</td>\n    </tr>\n    <tr>\n      <th>bill_length_mm</th>\n      <td>2</td>\n      <td>344</td>\n      <td>0.581395</td>\n    </tr>\n    <tr>\n      <th>bill_depth_mm</th>\n      <td>2</td>\n      <td>344</td>\n      <td>0.581395</td>\n    </tr>\n    <tr>\n      <th>flipper_length_mm</th>\n      <td>2</td>\n      <td>344</td>\n      <td>0.581395</td>\n    </tr>\n    <tr>\n      <th>body_mass_g</th>\n      <td>2</td>\n      <td>344</td>\n      <td>0.581395</td>\n    </tr>\n    <tr>\n      <th>species</th>\n      <td>0</td>\n      <td>344</td>\n      <td>0.000000</td>\n    </tr>\n    <tr>\n      <th>island</th>\n      <td>0</td>\n      <td>344</td>\n      <td>0.000000</td>\n    </tr>\n  </tbody>\n</table>\n</div>"
     },
     "metadata": {},
     "execution_count": 4
    }
   ],
   "source": [
    "df_penguins.stb.missing()"
   ]
  },
  {
   "cell_type": "code",
   "execution_count": 5,
   "metadata": {},
   "outputs": [
    {
     "output_type": "execute_result",
     "data": {
      "text/plain": "species               0\nisland                0\nbill_length_mm        2\nbill_depth_mm         2\nflipper_length_mm     2\nbody_mass_g           2\nsex                  11\ndtype: int64"
     },
     "metadata": {},
     "execution_count": 5
    }
   ],
   "source": [
    "df_penguins.isna().sum()"
   ]
  },
  {
   "cell_type": "code",
   "execution_count": 6,
   "metadata": {},
   "outputs": [
    {
     "output_type": "execute_result",
     "data": {
      "text/plain": "<pandas.io.formats.style.Styler at 0x199393f5e50>",
      "text/html": "<style  type=\"text/css\" >\n</style><table id=\"T_d27d03c3_efca_11ea_aa07_0050b6daea76\" ><thead>    <tr>        <th class=\"blank level0\" ></th>        <th class=\"col_heading level0 col0\" >missing</th>        <th class=\"col_heading level0 col1\" >total</th>        <th class=\"col_heading level0 col2\" >percent</th>    </tr></thead><tbody>\n                <tr>\n                        <th id=\"T_d27d03c3_efca_11ea_aa07_0050b6daea76level0_row0\" class=\"row_heading level0 row0\" >sex</th>\n                        <td id=\"T_d27d03c3_efca_11ea_aa07_0050b6daea76row0_col0\" class=\"data row0 col0\" >11</td>\n                        <td id=\"T_d27d03c3_efca_11ea_aa07_0050b6daea76row0_col1\" class=\"data row0 col1\" >344</td>\n                        <td id=\"T_d27d03c3_efca_11ea_aa07_0050b6daea76row0_col2\" class=\"data row0 col2\" >3.20%</td>\n            </tr>\n            <tr>\n                        <th id=\"T_d27d03c3_efca_11ea_aa07_0050b6daea76level0_row1\" class=\"row_heading level0 row1\" >bill_length_mm</th>\n                        <td id=\"T_d27d03c3_efca_11ea_aa07_0050b6daea76row1_col0\" class=\"data row1 col0\" >2</td>\n                        <td id=\"T_d27d03c3_efca_11ea_aa07_0050b6daea76row1_col1\" class=\"data row1 col1\" >344</td>\n                        <td id=\"T_d27d03c3_efca_11ea_aa07_0050b6daea76row1_col2\" class=\"data row1 col2\" >0.58%</td>\n            </tr>\n            <tr>\n                        <th id=\"T_d27d03c3_efca_11ea_aa07_0050b6daea76level0_row2\" class=\"row_heading level0 row2\" >bill_depth_mm</th>\n                        <td id=\"T_d27d03c3_efca_11ea_aa07_0050b6daea76row2_col0\" class=\"data row2 col0\" >2</td>\n                        <td id=\"T_d27d03c3_efca_11ea_aa07_0050b6daea76row2_col1\" class=\"data row2 col1\" >344</td>\n                        <td id=\"T_d27d03c3_efca_11ea_aa07_0050b6daea76row2_col2\" class=\"data row2 col2\" >0.58%</td>\n            </tr>\n            <tr>\n                        <th id=\"T_d27d03c3_efca_11ea_aa07_0050b6daea76level0_row3\" class=\"row_heading level0 row3\" >flipper_length_mm</th>\n                        <td id=\"T_d27d03c3_efca_11ea_aa07_0050b6daea76row3_col0\" class=\"data row3 col0\" >2</td>\n                        <td id=\"T_d27d03c3_efca_11ea_aa07_0050b6daea76row3_col1\" class=\"data row3 col1\" >344</td>\n                        <td id=\"T_d27d03c3_efca_11ea_aa07_0050b6daea76row3_col2\" class=\"data row3 col2\" >0.58%</td>\n            </tr>\n            <tr>\n                        <th id=\"T_d27d03c3_efca_11ea_aa07_0050b6daea76level0_row4\" class=\"row_heading level0 row4\" >body_mass_g</th>\n                        <td id=\"T_d27d03c3_efca_11ea_aa07_0050b6daea76row4_col0\" class=\"data row4 col0\" >2</td>\n                        <td id=\"T_d27d03c3_efca_11ea_aa07_0050b6daea76row4_col1\" class=\"data row4 col1\" >344</td>\n                        <td id=\"T_d27d03c3_efca_11ea_aa07_0050b6daea76row4_col2\" class=\"data row4 col2\" >0.58%</td>\n            </tr>\n            <tr>\n                        <th id=\"T_d27d03c3_efca_11ea_aa07_0050b6daea76level0_row5\" class=\"row_heading level0 row5\" >species</th>\n                        <td id=\"T_d27d03c3_efca_11ea_aa07_0050b6daea76row5_col0\" class=\"data row5 col0\" >0</td>\n                        <td id=\"T_d27d03c3_efca_11ea_aa07_0050b6daea76row5_col1\" class=\"data row5 col1\" >344</td>\n                        <td id=\"T_d27d03c3_efca_11ea_aa07_0050b6daea76row5_col2\" class=\"data row5 col2\" >0.00%</td>\n            </tr>\n            <tr>\n                        <th id=\"T_d27d03c3_efca_11ea_aa07_0050b6daea76level0_row6\" class=\"row_heading level0 row6\" >island</th>\n                        <td id=\"T_d27d03c3_efca_11ea_aa07_0050b6daea76row6_col0\" class=\"data row6 col0\" >0</td>\n                        <td id=\"T_d27d03c3_efca_11ea_aa07_0050b6daea76row6_col1\" class=\"data row6 col1\" >344</td>\n                        <td id=\"T_d27d03c3_efca_11ea_aa07_0050b6daea76row6_col2\" class=\"data row6 col2\" >0.00%</td>\n            </tr>\n    </tbody></table>"
     },
     "metadata": {},
     "execution_count": 6
    }
   ],
   "source": [
    "df_penguins.stb.missing(style=True)"
   ]
  },
  {
   "cell_type": "markdown",
   "metadata": {},
   "source": [
    "### stb.freq()"
   ]
  },
  {
   "cell_type": "code",
   "execution_count": 7,
   "metadata": {},
   "outputs": [
    {
     "output_type": "execute_result",
     "data": {
      "text/plain": "     species  count    percent  cumulative_count  cumulative_percent\n0     Adelie    152  44.186047               152           44.186047\n1     Gentoo    124  36.046512               276           80.232558\n2  Chinstrap     68  19.767442               344          100.000000",
      "text/html": "<div>\n<style scoped>\n    .dataframe tbody tr th:only-of-type {\n        vertical-align: middle;\n    }\n\n    .dataframe tbody tr th {\n        vertical-align: top;\n    }\n\n    .dataframe thead th {\n        text-align: right;\n    }\n</style>\n<table border=\"1\" class=\"dataframe\">\n  <thead>\n    <tr style=\"text-align: right;\">\n      <th></th>\n      <th>species</th>\n      <th>count</th>\n      <th>percent</th>\n      <th>cumulative_count</th>\n      <th>cumulative_percent</th>\n    </tr>\n  </thead>\n  <tbody>\n    <tr>\n      <th>0</th>\n      <td>Adelie</td>\n      <td>152</td>\n      <td>44.186047</td>\n      <td>152</td>\n      <td>44.186047</td>\n    </tr>\n    <tr>\n      <th>1</th>\n      <td>Gentoo</td>\n      <td>124</td>\n      <td>36.046512</td>\n      <td>276</td>\n      <td>80.232558</td>\n    </tr>\n    <tr>\n      <th>2</th>\n      <td>Chinstrap</td>\n      <td>68</td>\n      <td>19.767442</td>\n      <td>344</td>\n      <td>100.000000</td>\n    </tr>\n  </tbody>\n</table>\n</div>"
     },
     "metadata": {},
     "execution_count": 7
    }
   ],
   "source": [
    "df_penguins.stb.freq([\"species\"])"
   ]
  },
  {
   "cell_type": "code",
   "execution_count": 8,
   "metadata": {},
   "outputs": [
    {
     "output_type": "execute_result",
     "data": {
      "text/plain": "<pandas.io.formats.style.Styler at 0x19937f86c70>",
      "text/html": "<style  type=\"text/css\" >\n</style><table id=\"T_4c139251_efcb_11ea_b82a_0050b6daea76\" ><thead>    <tr>        <th class=\"blank level0\" ></th>        <th class=\"col_heading level0 col0\" >species</th>        <th class=\"col_heading level0 col1\" >count</th>        <th class=\"col_heading level0 col2\" >percent</th>        <th class=\"col_heading level0 col3\" >cumulative_count</th>        <th class=\"col_heading level0 col4\" >cumulative_percent</th>    </tr></thead><tbody>\n                <tr>\n                        <th id=\"T_4c139251_efcb_11ea_b82a_0050b6daea76level0_row0\" class=\"row_heading level0 row0\" >0</th>\n                        <td id=\"T_4c139251_efcb_11ea_b82a_0050b6daea76row0_col0\" class=\"data row0 col0\" >Adelie</td>\n                        <td id=\"T_4c139251_efcb_11ea_b82a_0050b6daea76row0_col1\" class=\"data row0 col1\" >152</td>\n                        <td id=\"T_4c139251_efcb_11ea_b82a_0050b6daea76row0_col2\" class=\"data row0 col2\" >44.19%</td>\n                        <td id=\"T_4c139251_efcb_11ea_b82a_0050b6daea76row0_col3\" class=\"data row0 col3\" >152</td>\n                        <td id=\"T_4c139251_efcb_11ea_b82a_0050b6daea76row0_col4\" class=\"data row0 col4\" >44.19%</td>\n            </tr>\n            <tr>\n                        <th id=\"T_4c139251_efcb_11ea_b82a_0050b6daea76level0_row1\" class=\"row_heading level0 row1\" >1</th>\n                        <td id=\"T_4c139251_efcb_11ea_b82a_0050b6daea76row1_col0\" class=\"data row1 col0\" >Gentoo</td>\n                        <td id=\"T_4c139251_efcb_11ea_b82a_0050b6daea76row1_col1\" class=\"data row1 col1\" >124</td>\n                        <td id=\"T_4c139251_efcb_11ea_b82a_0050b6daea76row1_col2\" class=\"data row1 col2\" >36.05%</td>\n                        <td id=\"T_4c139251_efcb_11ea_b82a_0050b6daea76row1_col3\" class=\"data row1 col3\" >276</td>\n                        <td id=\"T_4c139251_efcb_11ea_b82a_0050b6daea76row1_col4\" class=\"data row1 col4\" >80.23%</td>\n            </tr>\n            <tr>\n                        <th id=\"T_4c139251_efcb_11ea_b82a_0050b6daea76level0_row2\" class=\"row_heading level0 row2\" >2</th>\n                        <td id=\"T_4c139251_efcb_11ea_b82a_0050b6daea76row2_col0\" class=\"data row2 col0\" >Chinstrap</td>\n                        <td id=\"T_4c139251_efcb_11ea_b82a_0050b6daea76row2_col1\" class=\"data row2 col1\" >68</td>\n                        <td id=\"T_4c139251_efcb_11ea_b82a_0050b6daea76row2_col2\" class=\"data row2 col2\" >19.77%</td>\n                        <td id=\"T_4c139251_efcb_11ea_b82a_0050b6daea76row2_col3\" class=\"data row2 col3\" >344</td>\n                        <td id=\"T_4c139251_efcb_11ea_b82a_0050b6daea76row2_col4\" class=\"data row2 col4\" >100.00%</td>\n            </tr>\n    </tbody></table>"
     },
     "metadata": {},
     "execution_count": 8
    }
   ],
   "source": [
    "df_penguins.stb.freq([\"species\"], style=True)"
   ]
  },
  {
   "cell_type": "code",
   "execution_count": 10,
   "metadata": {},
   "outputs": [
    {
     "output_type": "execute_result",
     "data": {
      "text/plain": "pandas.core.frame.DataFrame"
     },
     "metadata": {},
     "execution_count": 10
    }
   ],
   "source": [
    "type(df_penguins.stb.freq([\"species\"]))"
   ]
  },
  {
   "cell_type": "code",
   "execution_count": 11,
   "metadata": {},
   "outputs": [
    {
     "output_type": "execute_result",
     "data": {
      "text/plain": "<pandas.io.formats.style.Styler at 0x19937eb9f10>",
      "text/html": "<style  type=\"text/css\" >\n</style><table id=\"T_8ec5eaae_efcb_11ea_bca3_0050b6daea76\" ><thead>    <tr>        <th class=\"blank level0\" ></th>        <th class=\"col_heading level0 col0\" >species</th>        <th class=\"col_heading level0 col1\" >count</th>        <th class=\"col_heading level0 col2\" >percent</th>    </tr></thead><tbody>\n                <tr>\n                        <th id=\"T_8ec5eaae_efcb_11ea_bca3_0050b6daea76level0_row0\" class=\"row_heading level0 row0\" >0</th>\n                        <td id=\"T_8ec5eaae_efcb_11ea_bca3_0050b6daea76row0_col0\" class=\"data row0 col0\" >Adelie</td>\n                        <td id=\"T_8ec5eaae_efcb_11ea_bca3_0050b6daea76row0_col1\" class=\"data row0 col1\" >152</td>\n                        <td id=\"T_8ec5eaae_efcb_11ea_bca3_0050b6daea76row0_col2\" class=\"data row0 col2\" >44.19%</td>\n            </tr>\n            <tr>\n                        <th id=\"T_8ec5eaae_efcb_11ea_bca3_0050b6daea76level0_row1\" class=\"row_heading level0 row1\" >1</th>\n                        <td id=\"T_8ec5eaae_efcb_11ea_bca3_0050b6daea76row1_col0\" class=\"data row1 col0\" >Gentoo</td>\n                        <td id=\"T_8ec5eaae_efcb_11ea_bca3_0050b6daea76row1_col1\" class=\"data row1 col1\" >124</td>\n                        <td id=\"T_8ec5eaae_efcb_11ea_bca3_0050b6daea76row1_col2\" class=\"data row1 col2\" >36.05%</td>\n            </tr>\n            <tr>\n                        <th id=\"T_8ec5eaae_efcb_11ea_bca3_0050b6daea76level0_row2\" class=\"row_heading level0 row2\" >2</th>\n                        <td id=\"T_8ec5eaae_efcb_11ea_bca3_0050b6daea76row2_col0\" class=\"data row2 col0\" >Chinstrap</td>\n                        <td id=\"T_8ec5eaae_efcb_11ea_bca3_0050b6daea76row2_col1\" class=\"data row2 col1\" >68</td>\n                        <td id=\"T_8ec5eaae_efcb_11ea_bca3_0050b6daea76row2_col2\" class=\"data row2 col2\" >19.77%</td>\n            </tr>\n    </tbody></table>"
     },
     "metadata": {},
     "execution_count": 11
    }
   ],
   "source": [
    "df_penguins.stb.freq([\"species\"], style=True, cum_cols=False)"
   ]
  },
  {
   "cell_type": "code",
   "execution_count": 12,
   "metadata": {},
   "outputs": [
    {
     "output_type": "execute_result",
     "data": {
      "text/plain": "     species     island     sex  count    percent  cumulative_count  \\\n0     Gentoo     Biscoe    MALE     61  18.318318                61   \n1     Gentoo     Biscoe  FEMALE     58  17.417417               119   \n2  Chinstrap      Dream    MALE     34  10.210210               153   \n3  Chinstrap      Dream  FEMALE     34  10.210210               187   \n4     Adelie      Dream    MALE     28   8.408408               215   \n5     Adelie      Dream  FEMALE     27   8.108108               242   \n6     Adelie  Torgersen  FEMALE     24   7.207207               266   \n7     Adelie  Torgersen    MALE     23   6.906907               289   \n8     Adelie     Biscoe    MALE     22   6.606607               311   \n9     Adelie     Biscoe  FEMALE     22   6.606607               333   \n\n   cumulative_percent  \n0           18.318318  \n1           35.735736  \n2           45.945946  \n3           56.156156  \n4           64.564565  \n5           72.672673  \n6           79.879880  \n7           86.786787  \n8           93.393393  \n9          100.000000  ",
      "text/html": "<div>\n<style scoped>\n    .dataframe tbody tr th:only-of-type {\n        vertical-align: middle;\n    }\n\n    .dataframe tbody tr th {\n        vertical-align: top;\n    }\n\n    .dataframe thead th {\n        text-align: right;\n    }\n</style>\n<table border=\"1\" class=\"dataframe\">\n  <thead>\n    <tr style=\"text-align: right;\">\n      <th></th>\n      <th>species</th>\n      <th>island</th>\n      <th>sex</th>\n      <th>count</th>\n      <th>percent</th>\n      <th>cumulative_count</th>\n      <th>cumulative_percent</th>\n    </tr>\n  </thead>\n  <tbody>\n    <tr>\n      <th>0</th>\n      <td>Gentoo</td>\n      <td>Biscoe</td>\n      <td>MALE</td>\n      <td>61</td>\n      <td>18.318318</td>\n      <td>61</td>\n      <td>18.318318</td>\n    </tr>\n    <tr>\n      <th>1</th>\n      <td>Gentoo</td>\n      <td>Biscoe</td>\n      <td>FEMALE</td>\n      <td>58</td>\n      <td>17.417417</td>\n      <td>119</td>\n      <td>35.735736</td>\n    </tr>\n    <tr>\n      <th>2</th>\n      <td>Chinstrap</td>\n      <td>Dream</td>\n      <td>MALE</td>\n      <td>34</td>\n      <td>10.210210</td>\n      <td>153</td>\n      <td>45.945946</td>\n    </tr>\n    <tr>\n      <th>3</th>\n      <td>Chinstrap</td>\n      <td>Dream</td>\n      <td>FEMALE</td>\n      <td>34</td>\n      <td>10.210210</td>\n      <td>187</td>\n      <td>56.156156</td>\n    </tr>\n    <tr>\n      <th>4</th>\n      <td>Adelie</td>\n      <td>Dream</td>\n      <td>MALE</td>\n      <td>28</td>\n      <td>8.408408</td>\n      <td>215</td>\n      <td>64.564565</td>\n    </tr>\n    <tr>\n      <th>5</th>\n      <td>Adelie</td>\n      <td>Dream</td>\n      <td>FEMALE</td>\n      <td>27</td>\n      <td>8.108108</td>\n      <td>242</td>\n      <td>72.672673</td>\n    </tr>\n    <tr>\n      <th>6</th>\n      <td>Adelie</td>\n      <td>Torgersen</td>\n      <td>FEMALE</td>\n      <td>24</td>\n      <td>7.207207</td>\n      <td>266</td>\n      <td>79.879880</td>\n    </tr>\n    <tr>\n      <th>7</th>\n      <td>Adelie</td>\n      <td>Torgersen</td>\n      <td>MALE</td>\n      <td>23</td>\n      <td>6.906907</td>\n      <td>289</td>\n      <td>86.786787</td>\n    </tr>\n    <tr>\n      <th>8</th>\n      <td>Adelie</td>\n      <td>Biscoe</td>\n      <td>MALE</td>\n      <td>22</td>\n      <td>6.606607</td>\n      <td>311</td>\n      <td>93.393393</td>\n    </tr>\n    <tr>\n      <th>9</th>\n      <td>Adelie</td>\n      <td>Biscoe</td>\n      <td>FEMALE</td>\n      <td>22</td>\n      <td>6.606607</td>\n      <td>333</td>\n      <td>100.000000</td>\n    </tr>\n  </tbody>\n</table>\n</div>"
     },
     "metadata": {},
     "execution_count": 12
    }
   ],
   "source": [
    "df_penguins.stb.freq([\"species\", \"island\", \"sex\"])"
   ]
  },
  {
   "cell_type": "code",
   "execution_count": 13,
   "metadata": {},
   "outputs": [
    {
     "output_type": "execute_result",
     "data": {
      "text/plain": "<pandas.io.formats.style.Styler at 0x19931234430>",
      "text/html": "<style  type=\"text/css\" >\n</style><table id=\"T_fd0ebdbc_efcb_11ea_b6c2_0050b6daea76\" ><thead>    <tr>        <th class=\"blank level0\" ></th>        <th class=\"col_heading level0 col0\" >island</th>        <th class=\"col_heading level0 col1\" >count</th>        <th class=\"col_heading level0 col2\" >percent</th>        <th class=\"col_heading level0 col3\" >cumulative_count</th>        <th class=\"col_heading level0 col4\" >cumulative_percent</th>    </tr></thead><tbody>\n                <tr>\n                        <th id=\"T_fd0ebdbc_efcb_11ea_b6c2_0050b6daea76level0_row0\" class=\"row_heading level0 row0\" >0</th>\n                        <td id=\"T_fd0ebdbc_efcb_11ea_b6c2_0050b6daea76row0_col0\" class=\"data row0 col0\" >Biscoe</td>\n                        <td id=\"T_fd0ebdbc_efcb_11ea_b6c2_0050b6daea76row0_col1\" class=\"data row0 col1\" >168</td>\n                        <td id=\"T_fd0ebdbc_efcb_11ea_b6c2_0050b6daea76row0_col2\" class=\"data row0 col2\" >48.84%</td>\n                        <td id=\"T_fd0ebdbc_efcb_11ea_b6c2_0050b6daea76row0_col3\" class=\"data row0 col3\" >168</td>\n                        <td id=\"T_fd0ebdbc_efcb_11ea_b6c2_0050b6daea76row0_col4\" class=\"data row0 col4\" >48.84%</td>\n            </tr>\n            <tr>\n                        <th id=\"T_fd0ebdbc_efcb_11ea_b6c2_0050b6daea76level0_row1\" class=\"row_heading level0 row1\" >1</th>\n                        <td id=\"T_fd0ebdbc_efcb_11ea_b6c2_0050b6daea76row1_col0\" class=\"data row1 col0\" >Dream</td>\n                        <td id=\"T_fd0ebdbc_efcb_11ea_b6c2_0050b6daea76row1_col1\" class=\"data row1 col1\" >124</td>\n                        <td id=\"T_fd0ebdbc_efcb_11ea_b6c2_0050b6daea76row1_col2\" class=\"data row1 col2\" >36.05%</td>\n                        <td id=\"T_fd0ebdbc_efcb_11ea_b6c2_0050b6daea76row1_col3\" class=\"data row1 col3\" >292</td>\n                        <td id=\"T_fd0ebdbc_efcb_11ea_b6c2_0050b6daea76row1_col4\" class=\"data row1 col4\" >84.88%</td>\n            </tr>\n            <tr>\n                        <th id=\"T_fd0ebdbc_efcb_11ea_b6c2_0050b6daea76level0_row2\" class=\"row_heading level0 row2\" >2</th>\n                        <td id=\"T_fd0ebdbc_efcb_11ea_b6c2_0050b6daea76row2_col0\" class=\"data row2 col0\" >Torgersen</td>\n                        <td id=\"T_fd0ebdbc_efcb_11ea_b6c2_0050b6daea76row2_col1\" class=\"data row2 col1\" >52</td>\n                        <td id=\"T_fd0ebdbc_efcb_11ea_b6c2_0050b6daea76row2_col2\" class=\"data row2 col2\" >15.12%</td>\n                        <td id=\"T_fd0ebdbc_efcb_11ea_b6c2_0050b6daea76row2_col3\" class=\"data row2 col3\" >344</td>\n                        <td id=\"T_fd0ebdbc_efcb_11ea_b6c2_0050b6daea76row2_col4\" class=\"data row2 col4\" >100.00%</td>\n            </tr>\n    </tbody></table>"
     },
     "metadata": {},
     "execution_count": 13
    }
   ],
   "source": [
    "df_penguins.stb.freq([\"island\"], style=True)"
   ]
  },
  {
   "cell_type": "code",
   "execution_count": 15,
   "metadata": {},
   "outputs": [
    {
     "output_type": "execute_result",
     "data": {
      "text/plain": "<pandas.io.formats.style.Styler at 0x1993948df40>",
      "text/html": "<style  type=\"text/css\" >\n</style><table id=\"T_41695fc1_efcc_11ea_aeb1_0050b6daea76\" ><thead>    <tr>        <th class=\"blank level0\" ></th>        <th class=\"col_heading level0 col0\" >island</th>        <th class=\"col_heading level0 col1\" >count</th>        <th class=\"col_heading level0 col2\" >percent</th>        <th class=\"col_heading level0 col3\" >cumulative_count</th>        <th class=\"col_heading level0 col4\" >cumulative_percent</th>    </tr></thead><tbody>\n                <tr>\n                        <th id=\"T_41695fc1_efcc_11ea_aeb1_0050b6daea76level0_row0\" class=\"row_heading level0 row0\" >0</th>\n                        <td id=\"T_41695fc1_efcc_11ea_aeb1_0050b6daea76row0_col0\" class=\"data row0 col0\" >others</td>\n                        <td id=\"T_41695fc1_efcc_11ea_aeb1_0050b6daea76row0_col1\" class=\"data row0 col1\" >344</td>\n                        <td id=\"T_41695fc1_efcc_11ea_aeb1_0050b6daea76row0_col2\" class=\"data row0 col2\" >100.00%</td>\n                        <td id=\"T_41695fc1_efcc_11ea_aeb1_0050b6daea76row0_col3\" class=\"data row0 col3\" >344</td>\n                        <td id=\"T_41695fc1_efcc_11ea_aeb1_0050b6daea76row0_col4\" class=\"data row0 col4\" >100.00%</td>\n            </tr>\n    </tbody></table>"
     },
     "metadata": {},
     "execution_count": 15
    }
   ],
   "source": [
    "df_penguins.stb.freq([\"island\"], style=True, thresh=.5)"
   ]
  },
  {
   "cell_type": "code",
   "execution_count": 16,
   "metadata": {},
   "outputs": [
    {
     "output_type": "execute_result",
     "data": {
      "text/plain": "<pandas.io.formats.style.Styler at 0x19931df2310>",
      "text/html": "<style  type=\"text/css\" >\n</style><table id=\"T_70c2f4dc_efcc_11ea_8f38_0050b6daea76\" ><thead>    <tr>        <th class=\"blank level0\" ></th>        <th class=\"col_heading level0 col0\" >island</th>        <th class=\"col_heading level0 col1\" >count</th>        <th class=\"col_heading level0 col2\" >percent</th>        <th class=\"col_heading level0 col3\" >cumulative_count</th>        <th class=\"col_heading level0 col4\" >cumulative_percent</th>    </tr></thead><tbody>\n                <tr>\n                        <th id=\"T_70c2f4dc_efcc_11ea_8f38_0050b6daea76level0_row0\" class=\"row_heading level0 row0\" >0</th>\n                        <td id=\"T_70c2f4dc_efcc_11ea_8f38_0050b6daea76row0_col0\" class=\"data row0 col0\" >others</td>\n                        <td id=\"T_70c2f4dc_efcc_11ea_8f38_0050b6daea76row0_col1\" class=\"data row0 col1\" >344</td>\n                        <td id=\"T_70c2f4dc_efcc_11ea_8f38_0050b6daea76row0_col2\" class=\"data row0 col2\" >100.00%</td>\n                        <td id=\"T_70c2f4dc_efcc_11ea_8f38_0050b6daea76row0_col3\" class=\"data row0 col3\" >344</td>\n                        <td id=\"T_70c2f4dc_efcc_11ea_8f38_0050b6daea76row0_col4\" class=\"data row0 col4\" >100.00%</td>\n            </tr>\n    </tbody></table>"
     },
     "metadata": {},
     "execution_count": 16
    }
   ],
   "source": [
    "df_penguins.stb.freq([\"island\"], style=True, thresh=.9)"
   ]
  },
  {
   "cell_type": "code",
   "execution_count": 17,
   "metadata": {},
   "outputs": [
    {
     "output_type": "execute_result",
     "data": {
      "text/plain": "<pandas.io.formats.style.Styler at 0x19937eeed60>",
      "text/html": "<style  type=\"text/css\" >\n</style><table id=\"T_a1481178_efcc_11ea_9e35_0050b6daea76\" ><thead>    <tr>        <th class=\"blank level0\" ></th>        <th class=\"col_heading level0 col0\" >island</th>        <th class=\"col_heading level0 col1\" >count</th>        <th class=\"col_heading level0 col2\" >percent</th>        <th class=\"col_heading level0 col3\" >cumulative_count</th>        <th class=\"col_heading level0 col4\" >cumulative_percent</th>    </tr></thead><tbody>\n                <tr>\n                        <th id=\"T_a1481178_efcc_11ea_9e35_0050b6daea76level0_row0\" class=\"row_heading level0 row0\" >0</th>\n                        <td id=\"T_a1481178_efcc_11ea_9e35_0050b6daea76row0_col0\" class=\"data row0 col0\" >Other Islands</td>\n                        <td id=\"T_a1481178_efcc_11ea_9e35_0050b6daea76row0_col1\" class=\"data row0 col1\" >344</td>\n                        <td id=\"T_a1481178_efcc_11ea_9e35_0050b6daea76row0_col2\" class=\"data row0 col2\" >100.00%</td>\n                        <td id=\"T_a1481178_efcc_11ea_9e35_0050b6daea76row0_col3\" class=\"data row0 col3\" >344</td>\n                        <td id=\"T_a1481178_efcc_11ea_9e35_0050b6daea76row0_col4\" class=\"data row0 col4\" >100.00%</td>\n            </tr>\n    </tbody></table>"
     },
     "metadata": {},
     "execution_count": 17
    }
   ],
   "source": [
    "df_penguins.stb.freq([\"island\"], style=True, thresh=.9, other_label=\"Other Islands\")"
   ]
  },
  {
   "cell_type": "code",
   "execution_count": 18,
   "metadata": {},
   "outputs": [
    {
     "output_type": "execute_result",
     "data": {
      "text/plain": "      island  flipper_length_mm    percent  cumulative_flipper_length_mm  \\\n0     Biscoe            35021.0  50.967066                       35021.0   \n1      Dream            23941.0  34.842024                       58962.0   \n2  Torgersen             9751.0  14.190910                       68713.0   \n\n   cumulative_percent  \n0           50.967066  \n1           85.809090  \n2          100.000000  ",
      "text/html": "<div>\n<style scoped>\n    .dataframe tbody tr th:only-of-type {\n        vertical-align: middle;\n    }\n\n    .dataframe tbody tr th {\n        vertical-align: top;\n    }\n\n    .dataframe thead th {\n        text-align: right;\n    }\n</style>\n<table border=\"1\" class=\"dataframe\">\n  <thead>\n    <tr style=\"text-align: right;\">\n      <th></th>\n      <th>island</th>\n      <th>flipper_length_mm</th>\n      <th>percent</th>\n      <th>cumulative_flipper_length_mm</th>\n      <th>cumulative_percent</th>\n    </tr>\n  </thead>\n  <tbody>\n    <tr>\n      <th>0</th>\n      <td>Biscoe</td>\n      <td>35021.0</td>\n      <td>50.967066</td>\n      <td>35021.0</td>\n      <td>50.967066</td>\n    </tr>\n    <tr>\n      <th>1</th>\n      <td>Dream</td>\n      <td>23941.0</td>\n      <td>34.842024</td>\n      <td>58962.0</td>\n      <td>85.809090</td>\n    </tr>\n    <tr>\n      <th>2</th>\n      <td>Torgersen</td>\n      <td>9751.0</td>\n      <td>14.190910</td>\n      <td>68713.0</td>\n      <td>100.000000</td>\n    </tr>\n  </tbody>\n</table>\n</div>"
     },
     "metadata": {},
     "execution_count": 18
    }
   ],
   "source": [
    "df_penguins.stb.freq([\"island\"], value=\"flipper_length_mm\")"
   ]
  },
  {
   "cell_type": "code",
   "execution_count": 19,
   "metadata": {},
   "outputs": [
    {
     "output_type": "execute_result",
     "data": {
      "text/plain": "      Island  Count    Percent  Cumulative_Count  Cumulative_Percent\n0     Biscoe    168  48.837209               168           48.837209\n1      Dream    124  36.046512               292           84.883721\n2  Torgersen     52  15.116279               344          100.000000",
      "text/html": "<div>\n<style scoped>\n    .dataframe tbody tr th:only-of-type {\n        vertical-align: middle;\n    }\n\n    .dataframe tbody tr th {\n        vertical-align: top;\n    }\n\n    .dataframe thead th {\n        text-align: right;\n    }\n</style>\n<table border=\"1\" class=\"dataframe\">\n  <thead>\n    <tr style=\"text-align: right;\">\n      <th></th>\n      <th>Island</th>\n      <th>Count</th>\n      <th>Percent</th>\n      <th>Cumulative_Count</th>\n      <th>Cumulative_Percent</th>\n    </tr>\n  </thead>\n  <tbody>\n    <tr>\n      <th>0</th>\n      <td>Biscoe</td>\n      <td>168</td>\n      <td>48.837209</td>\n      <td>168</td>\n      <td>48.837209</td>\n    </tr>\n    <tr>\n      <th>1</th>\n      <td>Dream</td>\n      <td>124</td>\n      <td>36.046512</td>\n      <td>292</td>\n      <td>84.883721</td>\n    </tr>\n    <tr>\n      <th>2</th>\n      <td>Torgersen</td>\n      <td>52</td>\n      <td>15.116279</td>\n      <td>344</td>\n      <td>100.000000</td>\n    </tr>\n  </tbody>\n</table>\n</div>"
     },
     "metadata": {},
     "execution_count": 19
    }
   ],
   "source": [
    "freq_table = df_penguins.stb.freq([\"island\"])\n",
    "freq_table.columns = freq_table.columns.str.title()\n",
    "\n",
    "freq_table"
   ]
  },
  {
   "cell_type": "markdown",
   "metadata": {},
   "source": [
    "### Other EDA options"
   ]
  },
  {
   "cell_type": "code",
   "execution_count": 20,
   "metadata": {},
   "outputs": [
    {
     "output_type": "execute_result",
     "data": {
      "text/plain": "       bill_length_mm  bill_depth_mm  flipper_length_mm  body_mass_g\ncount      342.000000     342.000000         342.000000   342.000000\nmean        43.921930      17.151170         200.915205  4201.754386\nstd          5.459584       1.974793          14.061714   801.954536\nmin         32.100000      13.100000         172.000000  2700.000000\n25%         39.225000      15.600000         190.000000  3550.000000\n50%         44.450000      17.300000         197.000000  4050.000000\n75%         48.500000      18.700000         213.000000  4750.000000\nmax         59.600000      21.500000         231.000000  6300.000000",
      "text/html": "<div>\n<style scoped>\n    .dataframe tbody tr th:only-of-type {\n        vertical-align: middle;\n    }\n\n    .dataframe tbody tr th {\n        vertical-align: top;\n    }\n\n    .dataframe thead th {\n        text-align: right;\n    }\n</style>\n<table border=\"1\" class=\"dataframe\">\n  <thead>\n    <tr style=\"text-align: right;\">\n      <th></th>\n      <th>bill_length_mm</th>\n      <th>bill_depth_mm</th>\n      <th>flipper_length_mm</th>\n      <th>body_mass_g</th>\n    </tr>\n  </thead>\n  <tbody>\n    <tr>\n      <th>count</th>\n      <td>342.000000</td>\n      <td>342.000000</td>\n      <td>342.000000</td>\n      <td>342.000000</td>\n    </tr>\n    <tr>\n      <th>mean</th>\n      <td>43.921930</td>\n      <td>17.151170</td>\n      <td>200.915205</td>\n      <td>4201.754386</td>\n    </tr>\n    <tr>\n      <th>std</th>\n      <td>5.459584</td>\n      <td>1.974793</td>\n      <td>14.061714</td>\n      <td>801.954536</td>\n    </tr>\n    <tr>\n      <th>min</th>\n      <td>32.100000</td>\n      <td>13.100000</td>\n      <td>172.000000</td>\n      <td>2700.000000</td>\n    </tr>\n    <tr>\n      <th>25%</th>\n      <td>39.225000</td>\n      <td>15.600000</td>\n      <td>190.000000</td>\n      <td>3550.000000</td>\n    </tr>\n    <tr>\n      <th>50%</th>\n      <td>44.450000</td>\n      <td>17.300000</td>\n      <td>197.000000</td>\n      <td>4050.000000</td>\n    </tr>\n    <tr>\n      <th>75%</th>\n      <td>48.500000</td>\n      <td>18.700000</td>\n      <td>213.000000</td>\n      <td>4750.000000</td>\n    </tr>\n    <tr>\n      <th>max</th>\n      <td>59.600000</td>\n      <td>21.500000</td>\n      <td>231.000000</td>\n      <td>6300.000000</td>\n    </tr>\n  </tbody>\n</table>\n</div>"
     },
     "metadata": {},
     "execution_count": 20
    }
   ],
   "source": [
    "df_penguins.describe()"
   ]
  },
  {
   "cell_type": "code",
   "execution_count": 21,
   "metadata": {},
   "outputs": [
    {
     "output_type": "execute_result",
     "data": {
      "text/plain": "       species  island  bill_length_mm  bill_depth_mm  flipper_length_mm  \\\ncount      344     344      342.000000     342.000000         342.000000   \nunique       3       3             NaN            NaN                NaN   \ntop     Adelie  Biscoe             NaN            NaN                NaN   \nfreq       152     168             NaN            NaN                NaN   \nmean       NaN     NaN       43.921930      17.151170         200.915205   \nstd        NaN     NaN        5.459584       1.974793          14.061714   \nmin        NaN     NaN       32.100000      13.100000         172.000000   \n25%        NaN     NaN       39.225000      15.600000         190.000000   \n50%        NaN     NaN       44.450000      17.300000         197.000000   \n75%        NaN     NaN       48.500000      18.700000         213.000000   \nmax        NaN     NaN       59.600000      21.500000         231.000000   \n\n        body_mass_g   sex  \ncount    342.000000   333  \nunique          NaN     2  \ntop             NaN  MALE  \nfreq            NaN   168  \nmean    4201.754386   NaN  \nstd      801.954536   NaN  \nmin     2700.000000   NaN  \n25%     3550.000000   NaN  \n50%     4050.000000   NaN  \n75%     4750.000000   NaN  \nmax     6300.000000   NaN  ",
      "text/html": "<div>\n<style scoped>\n    .dataframe tbody tr th:only-of-type {\n        vertical-align: middle;\n    }\n\n    .dataframe tbody tr th {\n        vertical-align: top;\n    }\n\n    .dataframe thead th {\n        text-align: right;\n    }\n</style>\n<table border=\"1\" class=\"dataframe\">\n  <thead>\n    <tr style=\"text-align: right;\">\n      <th></th>\n      <th>species</th>\n      <th>island</th>\n      <th>bill_length_mm</th>\n      <th>bill_depth_mm</th>\n      <th>flipper_length_mm</th>\n      <th>body_mass_g</th>\n      <th>sex</th>\n    </tr>\n  </thead>\n  <tbody>\n    <tr>\n      <th>count</th>\n      <td>344</td>\n      <td>344</td>\n      <td>342.000000</td>\n      <td>342.000000</td>\n      <td>342.000000</td>\n      <td>342.000000</td>\n      <td>333</td>\n    </tr>\n    <tr>\n      <th>unique</th>\n      <td>3</td>\n      <td>3</td>\n      <td>NaN</td>\n      <td>NaN</td>\n      <td>NaN</td>\n      <td>NaN</td>\n      <td>2</td>\n    </tr>\n    <tr>\n      <th>top</th>\n      <td>Adelie</td>\n      <td>Biscoe</td>\n      <td>NaN</td>\n      <td>NaN</td>\n      <td>NaN</td>\n      <td>NaN</td>\n      <td>MALE</td>\n    </tr>\n    <tr>\n      <th>freq</th>\n      <td>152</td>\n      <td>168</td>\n      <td>NaN</td>\n      <td>NaN</td>\n      <td>NaN</td>\n      <td>NaN</td>\n      <td>168</td>\n    </tr>\n    <tr>\n      <th>mean</th>\n      <td>NaN</td>\n      <td>NaN</td>\n      <td>43.921930</td>\n      <td>17.151170</td>\n      <td>200.915205</td>\n      <td>4201.754386</td>\n      <td>NaN</td>\n    </tr>\n    <tr>\n      <th>std</th>\n      <td>NaN</td>\n      <td>NaN</td>\n      <td>5.459584</td>\n      <td>1.974793</td>\n      <td>14.061714</td>\n      <td>801.954536</td>\n      <td>NaN</td>\n    </tr>\n    <tr>\n      <th>min</th>\n      <td>NaN</td>\n      <td>NaN</td>\n      <td>32.100000</td>\n      <td>13.100000</td>\n      <td>172.000000</td>\n      <td>2700.000000</td>\n      <td>NaN</td>\n    </tr>\n    <tr>\n      <th>25%</th>\n      <td>NaN</td>\n      <td>NaN</td>\n      <td>39.225000</td>\n      <td>15.600000</td>\n      <td>190.000000</td>\n      <td>3550.000000</td>\n      <td>NaN</td>\n    </tr>\n    <tr>\n      <th>50%</th>\n      <td>NaN</td>\n      <td>NaN</td>\n      <td>44.450000</td>\n      <td>17.300000</td>\n      <td>197.000000</td>\n      <td>4050.000000</td>\n      <td>NaN</td>\n    </tr>\n    <tr>\n      <th>75%</th>\n      <td>NaN</td>\n      <td>NaN</td>\n      <td>48.500000</td>\n      <td>18.700000</td>\n      <td>213.000000</td>\n      <td>4750.000000</td>\n      <td>NaN</td>\n    </tr>\n    <tr>\n      <th>max</th>\n      <td>NaN</td>\n      <td>NaN</td>\n      <td>59.600000</td>\n      <td>21.500000</td>\n      <td>231.000000</td>\n      <td>6300.000000</td>\n      <td>NaN</td>\n    </tr>\n  </tbody>\n</table>\n</div>"
     },
     "metadata": {},
     "execution_count": 21
    }
   ],
   "source": [
    "df_penguins.describe(include=\"all\")"
   ]
  },
  {
   "cell_type": "markdown",
   "metadata": {},
   "source": [
    "### stb.subtotal()"
   ]
  },
  {
   "cell_type": "code",
   "execution_count": 22,
   "metadata": {},
   "outputs": [
    {
     "output_type": "execute_result",
     "data": {
      "text/plain": "            species  island  bill_length_mm  bill_depth_mm  flipper_length_mm  \\\n340          Gentoo  Biscoe            46.8           14.3              215.0   \n341          Gentoo  Biscoe            50.4           15.7              222.0   \n342          Gentoo  Biscoe            45.2           14.8              212.0   \n343          Gentoo  Biscoe            49.9           16.1              213.0   \ngrand_total     NaN     NaN         15021.3         5865.7            68713.0   \n\n             body_mass_g     sex  \n340               4850.0  FEMALE  \n341               5750.0    MALE  \n342               5200.0  FEMALE  \n343               5400.0    MALE  \ngrand_total    1437000.0     NaN  ",
      "text/html": "<div>\n<style scoped>\n    .dataframe tbody tr th:only-of-type {\n        vertical-align: middle;\n    }\n\n    .dataframe tbody tr th {\n        vertical-align: top;\n    }\n\n    .dataframe thead th {\n        text-align: right;\n    }\n</style>\n<table border=\"1\" class=\"dataframe\">\n  <thead>\n    <tr style=\"text-align: right;\">\n      <th></th>\n      <th>species</th>\n      <th>island</th>\n      <th>bill_length_mm</th>\n      <th>bill_depth_mm</th>\n      <th>flipper_length_mm</th>\n      <th>body_mass_g</th>\n      <th>sex</th>\n    </tr>\n  </thead>\n  <tbody>\n    <tr>\n      <th>340</th>\n      <td>Gentoo</td>\n      <td>Biscoe</td>\n      <td>46.8</td>\n      <td>14.3</td>\n      <td>215.0</td>\n      <td>4850.0</td>\n      <td>FEMALE</td>\n    </tr>\n    <tr>\n      <th>341</th>\n      <td>Gentoo</td>\n      <td>Biscoe</td>\n      <td>50.4</td>\n      <td>15.7</td>\n      <td>222.0</td>\n      <td>5750.0</td>\n      <td>MALE</td>\n    </tr>\n    <tr>\n      <th>342</th>\n      <td>Gentoo</td>\n      <td>Biscoe</td>\n      <td>45.2</td>\n      <td>14.8</td>\n      <td>212.0</td>\n      <td>5200.0</td>\n      <td>FEMALE</td>\n    </tr>\n    <tr>\n      <th>343</th>\n      <td>Gentoo</td>\n      <td>Biscoe</td>\n      <td>49.9</td>\n      <td>16.1</td>\n      <td>213.0</td>\n      <td>5400.0</td>\n      <td>MALE</td>\n    </tr>\n    <tr>\n      <th>grand_total</th>\n      <td>NaN</td>\n      <td>NaN</td>\n      <td>15021.3</td>\n      <td>5865.7</td>\n      <td>68713.0</td>\n      <td>1437000.0</td>\n      <td>NaN</td>\n    </tr>\n  </tbody>\n</table>\n</div>"
     },
     "metadata": {},
     "execution_count": 22
    }
   ],
   "source": [
    "df_penguins.stb.subtotal().tail()"
   ]
  },
  {
   "cell_type": "code",
   "execution_count": 23,
   "metadata": {},
   "outputs": [
    {
     "output_type": "execute_result",
     "data": {
      "text/plain": "                  island\nspecies   sex           \nAdelie    FEMALE      73\n          MALE        73\nChinstrap FEMALE      34\n          MALE        34\nGentoo    FEMALE      58\n          MALE        61",
      "text/html": "<div>\n<style scoped>\n    .dataframe tbody tr th:only-of-type {\n        vertical-align: middle;\n    }\n\n    .dataframe tbody tr th {\n        vertical-align: top;\n    }\n\n    .dataframe thead th {\n        text-align: right;\n    }\n</style>\n<table border=\"1\" class=\"dataframe\">\n  <thead>\n    <tr style=\"text-align: right;\">\n      <th></th>\n      <th></th>\n      <th>island</th>\n    </tr>\n    <tr>\n      <th>species</th>\n      <th>sex</th>\n      <th></th>\n    </tr>\n  </thead>\n  <tbody>\n    <tr>\n      <th rowspan=\"2\" valign=\"top\">Adelie</th>\n      <th>FEMALE</th>\n      <td>73</td>\n    </tr>\n    <tr>\n      <th>MALE</th>\n      <td>73</td>\n    </tr>\n    <tr>\n      <th rowspan=\"2\" valign=\"top\">Chinstrap</th>\n      <th>FEMALE</th>\n      <td>34</td>\n    </tr>\n    <tr>\n      <th>MALE</th>\n      <td>34</td>\n    </tr>\n    <tr>\n      <th rowspan=\"2\" valign=\"top\">Gentoo</th>\n      <th>FEMALE</th>\n      <td>58</td>\n    </tr>\n    <tr>\n      <th>MALE</th>\n      <td>61</td>\n    </tr>\n  </tbody>\n</table>\n</div>"
     },
     "metadata": {},
     "execution_count": 23
    }
   ],
   "source": [
    "df_penguins.groupby([\"species\", \"sex\"]).agg(dict(island=\"count\"))"
   ]
  },
  {
   "cell_type": "code",
   "execution_count": 24,
   "metadata": {},
   "outputs": [
    {
     "output_type": "execute_result",
     "data": {
      "text/plain": "                                  island\nspecies     sex                         \nAdelie      FEMALE                    73\n            MALE                      73\n            Adelie - subtotal        146\nChinstrap   FEMALE                    34\n            MALE                      34\n            Chinstrap - subtotal      68\nGentoo      FEMALE                    58\n            MALE                      61\n            Gentoo - subtotal        119\ngrand_total                          333",
      "text/html": "<div>\n<style scoped>\n    .dataframe tbody tr th:only-of-type {\n        vertical-align: middle;\n    }\n\n    .dataframe tbody tr th {\n        vertical-align: top;\n    }\n\n    .dataframe thead th {\n        text-align: right;\n    }\n</style>\n<table border=\"1\" class=\"dataframe\">\n  <thead>\n    <tr style=\"text-align: right;\">\n      <th></th>\n      <th></th>\n      <th>island</th>\n    </tr>\n    <tr>\n      <th>species</th>\n      <th>sex</th>\n      <th></th>\n    </tr>\n  </thead>\n  <tbody>\n    <tr>\n      <th rowspan=\"3\" valign=\"top\">Adelie</th>\n      <th>FEMALE</th>\n      <td>73</td>\n    </tr>\n    <tr>\n      <th>MALE</th>\n      <td>73</td>\n    </tr>\n    <tr>\n      <th>Adelie - subtotal</th>\n      <td>146</td>\n    </tr>\n    <tr>\n      <th rowspan=\"3\" valign=\"top\">Chinstrap</th>\n      <th>FEMALE</th>\n      <td>34</td>\n    </tr>\n    <tr>\n      <th>MALE</th>\n      <td>34</td>\n    </tr>\n    <tr>\n      <th>Chinstrap - subtotal</th>\n      <td>68</td>\n    </tr>\n    <tr>\n      <th rowspan=\"3\" valign=\"top\">Gentoo</th>\n      <th>FEMALE</th>\n      <td>58</td>\n    </tr>\n    <tr>\n      <th>MALE</th>\n      <td>61</td>\n    </tr>\n    <tr>\n      <th>Gentoo - subtotal</th>\n      <td>119</td>\n    </tr>\n    <tr>\n      <th>grand_total</th>\n      <th></th>\n      <td>333</td>\n    </tr>\n  </tbody>\n</table>\n</div>"
     },
     "metadata": {},
     "execution_count": 24
    }
   ],
   "source": [
    "df_penguins.groupby([\"species\", \"sex\"]).agg(dict(island=\"count\")).stb.subtotal()"
   ]
  },
  {
   "cell_type": "code",
   "execution_count": null,
   "metadata": {},
   "outputs": [],
   "source": []
  }
 ]
}