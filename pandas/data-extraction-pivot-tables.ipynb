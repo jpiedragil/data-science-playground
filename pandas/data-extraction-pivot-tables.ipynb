{
 "metadata": {
  "language_info": {
   "codemirror_mode": {
    "name": "ipython",
    "version": 3
   },
   "file_extension": ".py",
   "mimetype": "text/x-python",
   "name": "python",
   "nbconvert_exporter": "python",
   "pygments_lexer": "ipython3",
   "version": "3.8.5-final"
  },
  "orig_nbformat": 2,
  "kernelspec": {
   "name": "python_defaultSpec_1599108204088",
   "display_name": "Python 3.8.5 64-bit ('jpnb_py38': conda)"
  }
 },
 "nbformat": 4,
 "nbformat_minor": 2,
 "cells": [
  {
   "cell_type": "markdown",
   "metadata": {},
   "source": [
    "# Data Extraction with Pivot Tables"
   ]
  },
  {
   "cell_type": "markdown",
   "metadata": {},
   "source": [
    "Source code from the article [Data Extraction with Pandas](https://medium.com/analytics-vidhya/data-extraction-with-pivot-tables-a7d980c18dd0) written\n",
    "by Thiyari Sai Manikanth."
   ]
  },
  {
   "cell_type": "code",
   "execution_count": 2,
   "metadata": {},
   "outputs": [],
   "source": [
    "import pandas as pd\n",
    "import numpy as np"
   ]
  },
  {
   "cell_type": "markdown",
   "metadata": {},
   "source": [
    "## Example 1 (Single index)"
   ]
  },
  {
   "cell_type": "code",
   "execution_count": 8,
   "metadata": {
    "tags": []
   },
   "outputs": [
    {
     "output_type": "execute_result",
     "data": {
      "text/plain": "                                Cost  Serial     Units\nPatient Name                                          \nBarton LLC                     35000  740150  1.000000\nFritsch, Russel and Anderson   35000  737550  1.000000\nHerman LLC                     65000  141962  2.000000\nJerde-Hilpert                   5000  412290  2.000000\nKassulke, Ondricka and Metz     7000  307599  3.000000\nKeeling LLC                   100000  688981  5.000000\nKiehn-Spinka                   65000  146832  2.000000\nKoepp Ltd                      35000  729833  2.000000\nKulas Inc                      25000  218895  1.500000\nPurdy-Kunde                    30000  163416  1.000000\nStokes LLC                      7500  239344  1.000000\nTrantow-Barrows                15000  714466  1.333333",
      "text/html": "<div>\n<style scoped>\n    .dataframe tbody tr th:only-of-type {\n        vertical-align: middle;\n    }\n\n    .dataframe tbody tr th {\n        vertical-align: top;\n    }\n\n    .dataframe thead th {\n        text-align: right;\n    }\n</style>\n<table border=\"1\" class=\"dataframe\">\n  <thead>\n    <tr style=\"text-align: right;\">\n      <th></th>\n      <th>Cost</th>\n      <th>Serial</th>\n      <th>Units</th>\n    </tr>\n    <tr>\n      <th>Patient Name</th>\n      <th></th>\n      <th></th>\n      <th></th>\n    </tr>\n  </thead>\n  <tbody>\n    <tr>\n      <th>Barton LLC</th>\n      <td>35000</td>\n      <td>740150</td>\n      <td>1.000000</td>\n    </tr>\n    <tr>\n      <th>Fritsch, Russel and Anderson</th>\n      <td>35000</td>\n      <td>737550</td>\n      <td>1.000000</td>\n    </tr>\n    <tr>\n      <th>Herman LLC</th>\n      <td>65000</td>\n      <td>141962</td>\n      <td>2.000000</td>\n    </tr>\n    <tr>\n      <th>Jerde-Hilpert</th>\n      <td>5000</td>\n      <td>412290</td>\n      <td>2.000000</td>\n    </tr>\n    <tr>\n      <th>Kassulke, Ondricka and Metz</th>\n      <td>7000</td>\n      <td>307599</td>\n      <td>3.000000</td>\n    </tr>\n    <tr>\n      <th>Keeling LLC</th>\n      <td>100000</td>\n      <td>688981</td>\n      <td>5.000000</td>\n    </tr>\n    <tr>\n      <th>Kiehn-Spinka</th>\n      <td>65000</td>\n      <td>146832</td>\n      <td>2.000000</td>\n    </tr>\n    <tr>\n      <th>Koepp Ltd</th>\n      <td>35000</td>\n      <td>729833</td>\n      <td>2.000000</td>\n    </tr>\n    <tr>\n      <th>Kulas Inc</th>\n      <td>25000</td>\n      <td>218895</td>\n      <td>1.500000</td>\n    </tr>\n    <tr>\n      <th>Purdy-Kunde</th>\n      <td>30000</td>\n      <td>163416</td>\n      <td>1.000000</td>\n    </tr>\n    <tr>\n      <th>Stokes LLC</th>\n      <td>7500</td>\n      <td>239344</td>\n      <td>1.000000</td>\n    </tr>\n    <tr>\n      <th>Trantow-Barrows</th>\n      <td>15000</td>\n      <td>714466</td>\n      <td>1.333333</td>\n    </tr>\n  </tbody>\n</table>\n</div>"
     },
     "metadata": {},
     "execution_count": 8
    }
   ],
   "source": [
    "df = pd.read_excel(\"D:\\\\github\\\\\\data-science-playground\\\\source\\\\pandas\\\\Drugs.xlsx\")\n",
    "\n",
    "data = pd.pivot_table(df, index=[\"Patient Name\"])\n",
    "\n",
    "data"
   ]
  },
  {
   "cell_type": "markdown",
   "metadata": {
    "tags": []
   },
   "source": [
    "## Example 2 (Multiple indexes)"
   ]
  },
  {
   "cell_type": "code",
   "execution_count": 13,
   "metadata": {},
   "outputs": [
    {
     "output_type": "execute_result",
     "data": {
      "text/plain": "                                                            Cost  Serial  \\\nPatient Name                 Jr Doctor     Sr Doctor                       \nBarton LLC                   John Smith    Debra Henley    35000  740150   \nFritsch, Russel and Anderson Craig Booker  Debra Henley    35000  737550   \nHerman LLC                   Cedric Moss   Fred Anderson   65000  141962   \nJerde-Hilpert                John Smith    Debra Henley     5000  412290   \nKassulke, Ondricka and Metz  Wendy Yule    Fred Anderson    7000  307599   \nKeeling LLC                  Wendy Yule    Fred Anderson  100000  688981   \nKiehn-Spinka                 Daniel Hilton Debra Henley    65000  146832   \nKoepp Ltd                    Wendy Yule    Fred Anderson   35000  729833   \nKulas Inc                    Daniel Hilton Debra Henley    25000  218895   \nPurdy-Kunde                  Cedric Moss   Fred Anderson   30000  163416   \nStokes LLC                   Cedric Moss   Fred Anderson    7500  239344   \nTrantow-Barrows              Craig Booker  Debra Henley    15000  714466   \n\n                                                             Units  \nPatient Name                 Jr Doctor     Sr Doctor                \nBarton LLC                   John Smith    Debra Henley   1.000000  \nFritsch, Russel and Anderson Craig Booker  Debra Henley   1.000000  \nHerman LLC                   Cedric Moss   Fred Anderson  2.000000  \nJerde-Hilpert                John Smith    Debra Henley   2.000000  \nKassulke, Ondricka and Metz  Wendy Yule    Fred Anderson  3.000000  \nKeeling LLC                  Wendy Yule    Fred Anderson  5.000000  \nKiehn-Spinka                 Daniel Hilton Debra Henley   2.000000  \nKoepp Ltd                    Wendy Yule    Fred Anderson  2.000000  \nKulas Inc                    Daniel Hilton Debra Henley   1.500000  \nPurdy-Kunde                  Cedric Moss   Fred Anderson  1.000000  \nStokes LLC                   Cedric Moss   Fred Anderson  1.000000  \nTrantow-Barrows              Craig Booker  Debra Henley   1.333333  ",
      "text/html": "<div>\n<style scoped>\n    .dataframe tbody tr th:only-of-type {\n        vertical-align: middle;\n    }\n\n    .dataframe tbody tr th {\n        vertical-align: top;\n    }\n\n    .dataframe thead th {\n        text-align: right;\n    }\n</style>\n<table border=\"1\" class=\"dataframe\">\n  <thead>\n    <tr style=\"text-align: right;\">\n      <th></th>\n      <th></th>\n      <th></th>\n      <th>Cost</th>\n      <th>Serial</th>\n      <th>Units</th>\n    </tr>\n    <tr>\n      <th>Patient Name</th>\n      <th>Jr Doctor</th>\n      <th>Sr Doctor</th>\n      <th></th>\n      <th></th>\n      <th></th>\n    </tr>\n  </thead>\n  <tbody>\n    <tr>\n      <th>Barton LLC</th>\n      <th>John Smith</th>\n      <th>Debra Henley</th>\n      <td>35000</td>\n      <td>740150</td>\n      <td>1.000000</td>\n    </tr>\n    <tr>\n      <th>Fritsch, Russel and Anderson</th>\n      <th>Craig Booker</th>\n      <th>Debra Henley</th>\n      <td>35000</td>\n      <td>737550</td>\n      <td>1.000000</td>\n    </tr>\n    <tr>\n      <th>Herman LLC</th>\n      <th>Cedric Moss</th>\n      <th>Fred Anderson</th>\n      <td>65000</td>\n      <td>141962</td>\n      <td>2.000000</td>\n    </tr>\n    <tr>\n      <th>Jerde-Hilpert</th>\n      <th>John Smith</th>\n      <th>Debra Henley</th>\n      <td>5000</td>\n      <td>412290</td>\n      <td>2.000000</td>\n    </tr>\n    <tr>\n      <th>Kassulke, Ondricka and Metz</th>\n      <th>Wendy Yule</th>\n      <th>Fred Anderson</th>\n      <td>7000</td>\n      <td>307599</td>\n      <td>3.000000</td>\n    </tr>\n    <tr>\n      <th>Keeling LLC</th>\n      <th>Wendy Yule</th>\n      <th>Fred Anderson</th>\n      <td>100000</td>\n      <td>688981</td>\n      <td>5.000000</td>\n    </tr>\n    <tr>\n      <th>Kiehn-Spinka</th>\n      <th>Daniel Hilton</th>\n      <th>Debra Henley</th>\n      <td>65000</td>\n      <td>146832</td>\n      <td>2.000000</td>\n    </tr>\n    <tr>\n      <th>Koepp Ltd</th>\n      <th>Wendy Yule</th>\n      <th>Fred Anderson</th>\n      <td>35000</td>\n      <td>729833</td>\n      <td>2.000000</td>\n    </tr>\n    <tr>\n      <th>Kulas Inc</th>\n      <th>Daniel Hilton</th>\n      <th>Debra Henley</th>\n      <td>25000</td>\n      <td>218895</td>\n      <td>1.500000</td>\n    </tr>\n    <tr>\n      <th>Purdy-Kunde</th>\n      <th>Cedric Moss</th>\n      <th>Fred Anderson</th>\n      <td>30000</td>\n      <td>163416</td>\n      <td>1.000000</td>\n    </tr>\n    <tr>\n      <th>Stokes LLC</th>\n      <th>Cedric Moss</th>\n      <th>Fred Anderson</th>\n      <td>7500</td>\n      <td>239344</td>\n      <td>1.000000</td>\n    </tr>\n    <tr>\n      <th>Trantow-Barrows</th>\n      <th>Craig Booker</th>\n      <th>Debra Henley</th>\n      <td>15000</td>\n      <td>714466</td>\n      <td>1.333333</td>\n    </tr>\n  </tbody>\n</table>\n</div>"
     },
     "metadata": {},
     "execution_count": 13
    }
   ],
   "source": [
    "data = pd.pivot_table(df, index=[\"Patient Name\", \"Jr Doctor\", \"Sr Doctor\"])\n",
    "\n",
    "pd.set_option('display.max_columns', None)\n",
    "\n",
    "data"
   ]
  },
  {
   "cell_type": "markdown",
   "metadata": {},
   "source": [
    "## Example 3"
   ]
  },
  {
   "cell_type": "code",
   "execution_count": 14,
   "metadata": {},
   "outputs": [
    {
     "output_type": "execute_result",
     "data": {
      "text/plain": "                                Units\nSr Doctor     Jr Doctor              \nDebra Henley  Craig Booker   1.250000\n              Daniel Hilton  1.666667\n              John Smith     1.500000\nFred Anderson Cedric Moss    1.250000\n              Wendy Yule     3.000000",
      "text/html": "<div>\n<style scoped>\n    .dataframe tbody tr th:only-of-type {\n        vertical-align: middle;\n    }\n\n    .dataframe tbody tr th {\n        vertical-align: top;\n    }\n\n    .dataframe thead th {\n        text-align: right;\n    }\n</style>\n<table border=\"1\" class=\"dataframe\">\n  <thead>\n    <tr style=\"text-align: right;\">\n      <th></th>\n      <th></th>\n      <th>Units</th>\n    </tr>\n    <tr>\n      <th>Sr Doctor</th>\n      <th>Jr Doctor</th>\n      <th></th>\n    </tr>\n  </thead>\n  <tbody>\n    <tr>\n      <th rowspan=\"3\" valign=\"top\">Debra Henley</th>\n      <th>Craig Booker</th>\n      <td>1.250000</td>\n    </tr>\n    <tr>\n      <th>Daniel Hilton</th>\n      <td>1.666667</td>\n    </tr>\n    <tr>\n      <th>John Smith</th>\n      <td>1.500000</td>\n    </tr>\n    <tr>\n      <th rowspan=\"2\" valign=\"top\">Fred Anderson</th>\n      <th>Cedric Moss</th>\n      <td>1.250000</td>\n    </tr>\n    <tr>\n      <th>Wendy Yule</th>\n      <td>3.000000</td>\n    </tr>\n  </tbody>\n</table>\n</div>"
     },
     "metadata": {},
     "execution_count": 14
    }
   ],
   "source": [
    "\n",
    "data = pd.pivot_table(df, index=[\"Sr Doctor\", \"Jr Doctor\"], values=[\"Units\"])\n",
    "\n",
    "pd.set_option('display.max_columns', None)\n",
    "\n",
    "data"
   ]
  },
  {
   "cell_type": "markdown",
   "metadata": {},
   "source": [
    "## Example 4 (Aggregation functions)"
   ]
  },
  {
   "cell_type": "code",
   "execution_count": 18,
   "metadata": {},
   "outputs": [
    {
     "output_type": "execute_result",
     "data": {
      "text/plain": "                               Cost\nSr Doctor     Jr Doctor            \nDebra Henley  Craig Booker    80000\n              Daniel Hilton  115000\n              John Smith      40000\nFred Anderson Cedric Moss    110000\n              Wendy Yule     177000",
      "text/html": "<div>\n<style scoped>\n    .dataframe tbody tr th:only-of-type {\n        vertical-align: middle;\n    }\n\n    .dataframe tbody tr th {\n        vertical-align: top;\n    }\n\n    .dataframe thead th {\n        text-align: right;\n    }\n</style>\n<table border=\"1\" class=\"dataframe\">\n  <thead>\n    <tr style=\"text-align: right;\">\n      <th></th>\n      <th></th>\n      <th>Cost</th>\n    </tr>\n    <tr>\n      <th>Sr Doctor</th>\n      <th>Jr Doctor</th>\n      <th></th>\n    </tr>\n  </thead>\n  <tbody>\n    <tr>\n      <th rowspan=\"3\" valign=\"top\">Debra Henley</th>\n      <th>Craig Booker</th>\n      <td>80000</td>\n    </tr>\n    <tr>\n      <th>Daniel Hilton</th>\n      <td>115000</td>\n    </tr>\n    <tr>\n      <th>John Smith</th>\n      <td>40000</td>\n    </tr>\n    <tr>\n      <th rowspan=\"2\" valign=\"top\">Fred Anderson</th>\n      <th>Cedric Moss</th>\n      <td>110000</td>\n    </tr>\n    <tr>\n      <th>Wendy Yule</th>\n      <td>177000</td>\n    </tr>\n  </tbody>\n</table>\n</div>"
     },
     "metadata": {},
     "execution_count": 18
    }
   ],
   "source": [
    "data = pd.pivot_table(df, index=[\"Sr Doctor\", \"Jr Doctor\"], values=[\"Cost\"], aggfunc=np.sum)\n",
    "\n",
    "pd.set_option('display.max_columns', None)\n",
    "\n",
    "data"
   ]
  },
  {
   "cell_type": "markdown",
   "metadata": {},
   "source": [
    "## Example 5 (More aggregation functions)"
   ]
  },
  {
   "cell_type": "code",
   "execution_count": 20,
   "metadata": {},
   "outputs": [
    {
     "output_type": "execute_result",
     "data": {
      "text/plain": "                                sum  len\n                               Cost Cost\nSr Doctor     Jr Doctor                 \nDebra Henley  Craig Booker    80000    4\n              Daniel Hilton  115000    3\n              John Smith      40000    2\nFred Anderson Cedric Moss    110000    4\n              Wendy Yule     177000    4",
      "text/html": "<div>\n<style scoped>\n    .dataframe tbody tr th:only-of-type {\n        vertical-align: middle;\n    }\n\n    .dataframe tbody tr th {\n        vertical-align: top;\n    }\n\n    .dataframe thead tr th {\n        text-align: left;\n    }\n\n    .dataframe thead tr:last-of-type th {\n        text-align: right;\n    }\n</style>\n<table border=\"1\" class=\"dataframe\">\n  <thead>\n    <tr>\n      <th></th>\n      <th></th>\n      <th>sum</th>\n      <th>len</th>\n    </tr>\n    <tr>\n      <th></th>\n      <th></th>\n      <th>Cost</th>\n      <th>Cost</th>\n    </tr>\n    <tr>\n      <th>Sr Doctor</th>\n      <th>Jr Doctor</th>\n      <th></th>\n      <th></th>\n    </tr>\n  </thead>\n  <tbody>\n    <tr>\n      <th rowspan=\"3\" valign=\"top\">Debra Henley</th>\n      <th>Craig Booker</th>\n      <td>80000</td>\n      <td>4</td>\n    </tr>\n    <tr>\n      <th>Daniel Hilton</th>\n      <td>115000</td>\n      <td>3</td>\n    </tr>\n    <tr>\n      <th>John Smith</th>\n      <td>40000</td>\n      <td>2</td>\n    </tr>\n    <tr>\n      <th rowspan=\"2\" valign=\"top\">Fred Anderson</th>\n      <th>Cedric Moss</th>\n      <td>110000</td>\n      <td>4</td>\n    </tr>\n    <tr>\n      <th>Wendy Yule</th>\n      <td>177000</td>\n      <td>4</td>\n    </tr>\n  </tbody>\n</table>\n</div>"
     },
     "metadata": {},
     "execution_count": 20
    }
   ],
   "source": [
    "data = pd.pivot_table(df, index=[\"Sr Doctor\", \"Jr Doctor\"], values=[\"Cost\"], aggfunc=[np.sum, len])\n",
    "\n",
    "pd.set_option('display.max_columns', None)\n",
    "\n",
    "data"
   ]
  },
  {
   "cell_type": "markdown",
   "metadata": {},
   "source": [
    "## Example 6 (Aggregation functions using columns)"
   ]
  },
  {
   "cell_type": "code",
   "execution_count": 23,
   "metadata": {},
   "outputs": [
    {
     "output_type": "execute_result",
     "data": {
      "text/plain": "                                    sum                             \n                                   Cost                             \nDrug                        Amphetamine Aptivus Mescaline Psilocybin\nSr Doctor     Jr Doctor                                             \nDebra Henley  Craig Booker       5000.0     NaN   65000.0    10000.0\n              Daniel Hilton         NaN     NaN  105000.0    10000.0\n              John Smith         5000.0     NaN   35000.0        NaN\nFred Anderson Cedric Moss        5000.0     NaN   95000.0    10000.0\n              Wendy Yule         7000.0  5000.0  165000.0        NaN",
      "text/html": "<div>\n<style scoped>\n    .dataframe tbody tr th:only-of-type {\n        vertical-align: middle;\n    }\n\n    .dataframe tbody tr th {\n        vertical-align: top;\n    }\n\n    .dataframe thead tr th {\n        text-align: left;\n    }\n\n    .dataframe thead tr:last-of-type th {\n        text-align: right;\n    }\n</style>\n<table border=\"1\" class=\"dataframe\">\n  <thead>\n    <tr>\n      <th></th>\n      <th></th>\n      <th colspan=\"4\" halign=\"left\">sum</th>\n    </tr>\n    <tr>\n      <th></th>\n      <th></th>\n      <th colspan=\"4\" halign=\"left\">Cost</th>\n    </tr>\n    <tr>\n      <th></th>\n      <th>Drug</th>\n      <th>Amphetamine</th>\n      <th>Aptivus</th>\n      <th>Mescaline</th>\n      <th>Psilocybin</th>\n    </tr>\n    <tr>\n      <th>Sr Doctor</th>\n      <th>Jr Doctor</th>\n      <th></th>\n      <th></th>\n      <th></th>\n      <th></th>\n    </tr>\n  </thead>\n  <tbody>\n    <tr>\n      <th rowspan=\"3\" valign=\"top\">Debra Henley</th>\n      <th>Craig Booker</th>\n      <td>5000.0</td>\n      <td>NaN</td>\n      <td>65000.0</td>\n      <td>10000.0</td>\n    </tr>\n    <tr>\n      <th>Daniel Hilton</th>\n      <td>NaN</td>\n      <td>NaN</td>\n      <td>105000.0</td>\n      <td>10000.0</td>\n    </tr>\n    <tr>\n      <th>John Smith</th>\n      <td>5000.0</td>\n      <td>NaN</td>\n      <td>35000.0</td>\n      <td>NaN</td>\n    </tr>\n    <tr>\n      <th rowspan=\"2\" valign=\"top\">Fred Anderson</th>\n      <th>Cedric Moss</th>\n      <td>5000.0</td>\n      <td>NaN</td>\n      <td>95000.0</td>\n      <td>10000.0</td>\n    </tr>\n    <tr>\n      <th>Wendy Yule</th>\n      <td>7000.0</td>\n      <td>5000.0</td>\n      <td>165000.0</td>\n      <td>NaN</td>\n    </tr>\n  </tbody>\n</table>\n</div>"
     },
     "metadata": {},
     "execution_count": 23
    }
   ],
   "source": [
    "data = pd.pivot_table(df, index=[\"Sr Doctor\", \"Jr Doctor\"], values=[\"Cost\"], \\\n",
    "                      columns=[\"Drug\"], aggfunc=[np.sum])\n",
    "\n",
    "pd.set_option('display.max_columns', None)\n",
    "\n",
    "data"
   ]
  },
  {
   "cell_type": "markdown",
   "metadata": {},
   "source": [
    "## Example 7 (Using fill values for Nan values)"
   ]
  },
  {
   "cell_type": "code",
   "execution_count": 24,
   "metadata": {},
   "outputs": [
    {
     "output_type": "execute_result",
     "data": {
      "text/plain": "                                    sum                             \n                                   Cost                             \nDrug                        Amphetamine Aptivus Mescaline Psilocybin\nSr Doctor     Jr Doctor                                             \nDebra Henley  Craig Booker         5000       0     65000      10000\n              Daniel Hilton           0       0    105000      10000\n              John Smith           5000       0     35000          0\nFred Anderson Cedric Moss          5000       0     95000      10000\n              Wendy Yule           7000    5000    165000          0",
      "text/html": "<div>\n<style scoped>\n    .dataframe tbody tr th:only-of-type {\n        vertical-align: middle;\n    }\n\n    .dataframe tbody tr th {\n        vertical-align: top;\n    }\n\n    .dataframe thead tr th {\n        text-align: left;\n    }\n\n    .dataframe thead tr:last-of-type th {\n        text-align: right;\n    }\n</style>\n<table border=\"1\" class=\"dataframe\">\n  <thead>\n    <tr>\n      <th></th>\n      <th></th>\n      <th colspan=\"4\" halign=\"left\">sum</th>\n    </tr>\n    <tr>\n      <th></th>\n      <th></th>\n      <th colspan=\"4\" halign=\"left\">Cost</th>\n    </tr>\n    <tr>\n      <th></th>\n      <th>Drug</th>\n      <th>Amphetamine</th>\n      <th>Aptivus</th>\n      <th>Mescaline</th>\n      <th>Psilocybin</th>\n    </tr>\n    <tr>\n      <th>Sr Doctor</th>\n      <th>Jr Doctor</th>\n      <th></th>\n      <th></th>\n      <th></th>\n      <th></th>\n    </tr>\n  </thead>\n  <tbody>\n    <tr>\n      <th rowspan=\"3\" valign=\"top\">Debra Henley</th>\n      <th>Craig Booker</th>\n      <td>5000</td>\n      <td>0</td>\n      <td>65000</td>\n      <td>10000</td>\n    </tr>\n    <tr>\n      <th>Daniel Hilton</th>\n      <td>0</td>\n      <td>0</td>\n      <td>105000</td>\n      <td>10000</td>\n    </tr>\n    <tr>\n      <th>John Smith</th>\n      <td>5000</td>\n      <td>0</td>\n      <td>35000</td>\n      <td>0</td>\n    </tr>\n    <tr>\n      <th rowspan=\"2\" valign=\"top\">Fred Anderson</th>\n      <th>Cedric Moss</th>\n      <td>5000</td>\n      <td>0</td>\n      <td>95000</td>\n      <td>10000</td>\n    </tr>\n    <tr>\n      <th>Wendy Yule</th>\n      <td>7000</td>\n      <td>5000</td>\n      <td>165000</td>\n      <td>0</td>\n    </tr>\n  </tbody>\n</table>\n</div>"
     },
     "metadata": {},
     "execution_count": 24
    }
   ],
   "source": [
    "data = pd.pivot_table(df, index=[\"Sr Doctor\", \"Jr Doctor\"], values=[\"Cost\"], \\\n",
    "                      columns=[\"Drug\"], aggfunc=[np.sum], fill_value=0)\n",
    "\n",
    "pd.set_option('display.max_columns', None)\n",
    "\n",
    "data"
   ]
  },
  {
   "cell_type": "markdown",
   "metadata": {},
   "source": [
    "## Example 8 (Using multiple values)"
   ]
  },
  {
   "cell_type": "code",
   "execution_count": 25,
   "metadata": {},
   "outputs": [
    {
     "output_type": "execute_result",
     "data": {
      "text/plain": "                                    sum                               \\\n                                   Cost                                \nDrug                        Amphetamine Aptivus Mescaline Psilocybin   \nSr Doctor     Jr Doctor                                                \nDebra Henley  Craig Booker         5000       0     65000      10000   \n              Daniel Hilton           0       0    105000      10000   \n              John Smith           5000       0     35000          0   \nFred Anderson Cedric Moss          5000       0     95000      10000   \n              Wendy Yule           7000    5000    165000          0   \n\n                                                                      \n                                  Units                               \nDrug                        Amphetamine Aptivus Mescaline Psilocybin  \nSr Doctor     Jr Doctor                                               \nDebra Henley  Craig Booker            2       0         2          1  \n              Daniel Hilton           0       0         4          1  \n              John Smith              2       0         1          0  \nFred Anderson Cedric Moss             1       0         3          1  \n              Wendy Yule              3       2         7          0  ",
      "text/html": "<div>\n<style scoped>\n    .dataframe tbody tr th:only-of-type {\n        vertical-align: middle;\n    }\n\n    .dataframe tbody tr th {\n        vertical-align: top;\n    }\n\n    .dataframe thead tr th {\n        text-align: left;\n    }\n\n    .dataframe thead tr:last-of-type th {\n        text-align: right;\n    }\n</style>\n<table border=\"1\" class=\"dataframe\">\n  <thead>\n    <tr>\n      <th></th>\n      <th></th>\n      <th colspan=\"8\" halign=\"left\">sum</th>\n    </tr>\n    <tr>\n      <th></th>\n      <th></th>\n      <th colspan=\"4\" halign=\"left\">Cost</th>\n      <th colspan=\"4\" halign=\"left\">Units</th>\n    </tr>\n    <tr>\n      <th></th>\n      <th>Drug</th>\n      <th>Amphetamine</th>\n      <th>Aptivus</th>\n      <th>Mescaline</th>\n      <th>Psilocybin</th>\n      <th>Amphetamine</th>\n      <th>Aptivus</th>\n      <th>Mescaline</th>\n      <th>Psilocybin</th>\n    </tr>\n    <tr>\n      <th>Sr Doctor</th>\n      <th>Jr Doctor</th>\n      <th></th>\n      <th></th>\n      <th></th>\n      <th></th>\n      <th></th>\n      <th></th>\n      <th></th>\n      <th></th>\n    </tr>\n  </thead>\n  <tbody>\n    <tr>\n      <th rowspan=\"3\" valign=\"top\">Debra Henley</th>\n      <th>Craig Booker</th>\n      <td>5000</td>\n      <td>0</td>\n      <td>65000</td>\n      <td>10000</td>\n      <td>2</td>\n      <td>0</td>\n      <td>2</td>\n      <td>1</td>\n    </tr>\n    <tr>\n      <th>Daniel Hilton</th>\n      <td>0</td>\n      <td>0</td>\n      <td>105000</td>\n      <td>10000</td>\n      <td>0</td>\n      <td>0</td>\n      <td>4</td>\n      <td>1</td>\n    </tr>\n    <tr>\n      <th>John Smith</th>\n      <td>5000</td>\n      <td>0</td>\n      <td>35000</td>\n      <td>0</td>\n      <td>2</td>\n      <td>0</td>\n      <td>1</td>\n      <td>0</td>\n    </tr>\n    <tr>\n      <th rowspan=\"2\" valign=\"top\">Fred Anderson</th>\n      <th>Cedric Moss</th>\n      <td>5000</td>\n      <td>0</td>\n      <td>95000</td>\n      <td>10000</td>\n      <td>1</td>\n      <td>0</td>\n      <td>3</td>\n      <td>1</td>\n    </tr>\n    <tr>\n      <th>Wendy Yule</th>\n      <td>7000</td>\n      <td>5000</td>\n      <td>165000</td>\n      <td>0</td>\n      <td>3</td>\n      <td>2</td>\n      <td>7</td>\n      <td>0</td>\n    </tr>\n  </tbody>\n</table>\n</div>"
     },
     "metadata": {},
     "execution_count": 25
    }
   ],
   "source": [
    "data = pd.pivot_table(df, index=[\"Sr Doctor\", \"Jr Doctor\"], values=[\"Cost\", \"Units\"], \\\n",
    "                      columns=[\"Drug\"], aggfunc=[np.sum], fill_value=0)\n",
    "\n",
    "pd.set_option('display.max_columns', None)\n",
    "\n",
    "data"
   ]
  },
  {
   "cell_type": "markdown",
   "metadata": {},
   "source": [
    "### Example 9 (Adding \"Drug\" to the index)"
   ]
  },
  {
   "cell_type": "code",
   "execution_count": 27,
   "metadata": {},
   "outputs": [
    {
     "output_type": "execute_result",
     "data": {
      "text/plain": "                                            sum      \n                                           Cost Units\nSr Doctor     Jr Doctor     Drug                     \nDebra Henley  Craig Booker  Amphetamine    5000     2\n                            Mescaline     65000     2\n                            Psilocybin    10000     1\n              Daniel Hilton Mescaline    105000     4\n                            Psilocybin    10000     1\n              John Smith    Amphetamine    5000     2\n                            Mescaline     35000     1\nFred Anderson Cedric Moss   Amphetamine    5000     1\n                            Mescaline     95000     3\n                            Psilocybin    10000     1\n              Wendy Yule    Amphetamine    7000     3\n                            Aptivus        5000     2\n                            Mescaline    165000     7",
      "text/html": "<div>\n<style scoped>\n    .dataframe tbody tr th:only-of-type {\n        vertical-align: middle;\n    }\n\n    .dataframe tbody tr th {\n        vertical-align: top;\n    }\n\n    .dataframe thead tr th {\n        text-align: left;\n    }\n\n    .dataframe thead tr:last-of-type th {\n        text-align: right;\n    }\n</style>\n<table border=\"1\" class=\"dataframe\">\n  <thead>\n    <tr>\n      <th></th>\n      <th></th>\n      <th></th>\n      <th colspan=\"2\" halign=\"left\">sum</th>\n    </tr>\n    <tr>\n      <th></th>\n      <th></th>\n      <th></th>\n      <th>Cost</th>\n      <th>Units</th>\n    </tr>\n    <tr>\n      <th>Sr Doctor</th>\n      <th>Jr Doctor</th>\n      <th>Drug</th>\n      <th></th>\n      <th></th>\n    </tr>\n  </thead>\n  <tbody>\n    <tr>\n      <th rowspan=\"7\" valign=\"top\">Debra Henley</th>\n      <th rowspan=\"3\" valign=\"top\">Craig Booker</th>\n      <th>Amphetamine</th>\n      <td>5000</td>\n      <td>2</td>\n    </tr>\n    <tr>\n      <th>Mescaline</th>\n      <td>65000</td>\n      <td>2</td>\n    </tr>\n    <tr>\n      <th>Psilocybin</th>\n      <td>10000</td>\n      <td>1</td>\n    </tr>\n    <tr>\n      <th rowspan=\"2\" valign=\"top\">Daniel Hilton</th>\n      <th>Mescaline</th>\n      <td>105000</td>\n      <td>4</td>\n    </tr>\n    <tr>\n      <th>Psilocybin</th>\n      <td>10000</td>\n      <td>1</td>\n    </tr>\n    <tr>\n      <th rowspan=\"2\" valign=\"top\">John Smith</th>\n      <th>Amphetamine</th>\n      <td>5000</td>\n      <td>2</td>\n    </tr>\n    <tr>\n      <th>Mescaline</th>\n      <td>35000</td>\n      <td>1</td>\n    </tr>\n    <tr>\n      <th rowspan=\"6\" valign=\"top\">Fred Anderson</th>\n      <th rowspan=\"3\" valign=\"top\">Cedric Moss</th>\n      <th>Amphetamine</th>\n      <td>5000</td>\n      <td>1</td>\n    </tr>\n    <tr>\n      <th>Mescaline</th>\n      <td>95000</td>\n      <td>3</td>\n    </tr>\n    <tr>\n      <th>Psilocybin</th>\n      <td>10000</td>\n      <td>1</td>\n    </tr>\n    <tr>\n      <th rowspan=\"3\" valign=\"top\">Wendy Yule</th>\n      <th>Amphetamine</th>\n      <td>7000</td>\n      <td>3</td>\n    </tr>\n    <tr>\n      <th>Aptivus</th>\n      <td>5000</td>\n      <td>2</td>\n    </tr>\n    <tr>\n      <th>Mescaline</th>\n      <td>165000</td>\n      <td>7</td>\n    </tr>\n  </tbody>\n</table>\n</div>"
     },
     "metadata": {},
     "execution_count": 27
    }
   ],
   "source": [
    "data = pd.pivot_table(df, index=[\"Sr Doctor\", \"Jr Doctor\", \"Drug\"], values=[\"Cost\", \"Units\"],\n",
    "                      aggfunc=[np.sum], fill_value=0)\n",
    "\n",
    "pd.set_option('display.max_columns', None)\n",
    "\n",
    "data"
   ]
  },
  {
   "cell_type": "markdown",
   "metadata": {},
   "source": [
    "### Example 10 (margins=True)"
   ]
  },
  {
   "cell_type": "code",
   "execution_count": 29,
   "metadata": {},
   "outputs": [
    {
     "output_type": "execute_result",
     "data": {
      "text/plain": "                                            sum                mean          \n                                           Cost Units          Cost     Units\nSr Doctor     Jr Doctor     Drug                                             \nDebra Henley  Craig Booker  Amphetamine    5000     2   5000.000000  2.000000\n                            Mescaline     65000     2  32500.000000  1.000000\n                            Psilocybin    10000     1  10000.000000  1.000000\n              Daniel Hilton Mescaline    105000     4  52500.000000  2.000000\n                            Psilocybin    10000     1  10000.000000  1.000000\n              John Smith    Amphetamine    5000     2   5000.000000  2.000000\n                            Mescaline     35000     1  35000.000000  1.000000\nFred Anderson Cedric Moss   Amphetamine    5000     1   5000.000000  1.000000\n                            Mescaline     95000     3  47500.000000  1.500000\n                            Psilocybin    10000     1  10000.000000  1.000000\n              Wendy Yule    Amphetamine    7000     3   7000.000000  3.000000\n                            Aptivus        5000     2   5000.000000  2.000000\n                            Mescaline    165000     7  82500.000000  3.500000\nAll                                      522000    30  30705.882353  1.764706",
      "text/html": "<div>\n<style scoped>\n    .dataframe tbody tr th:only-of-type {\n        vertical-align: middle;\n    }\n\n    .dataframe tbody tr th {\n        vertical-align: top;\n    }\n\n    .dataframe thead tr th {\n        text-align: left;\n    }\n\n    .dataframe thead tr:last-of-type th {\n        text-align: right;\n    }\n</style>\n<table border=\"1\" class=\"dataframe\">\n  <thead>\n    <tr>\n      <th></th>\n      <th></th>\n      <th></th>\n      <th colspan=\"2\" halign=\"left\">sum</th>\n      <th colspan=\"2\" halign=\"left\">mean</th>\n    </tr>\n    <tr>\n      <th></th>\n      <th></th>\n      <th></th>\n      <th>Cost</th>\n      <th>Units</th>\n      <th>Cost</th>\n      <th>Units</th>\n    </tr>\n    <tr>\n      <th>Sr Doctor</th>\n      <th>Jr Doctor</th>\n      <th>Drug</th>\n      <th></th>\n      <th></th>\n      <th></th>\n      <th></th>\n    </tr>\n  </thead>\n  <tbody>\n    <tr>\n      <th rowspan=\"7\" valign=\"top\">Debra Henley</th>\n      <th rowspan=\"3\" valign=\"top\">Craig Booker</th>\n      <th>Amphetamine</th>\n      <td>5000</td>\n      <td>2</td>\n      <td>5000.000000</td>\n      <td>2.000000</td>\n    </tr>\n    <tr>\n      <th>Mescaline</th>\n      <td>65000</td>\n      <td>2</td>\n      <td>32500.000000</td>\n      <td>1.000000</td>\n    </tr>\n    <tr>\n      <th>Psilocybin</th>\n      <td>10000</td>\n      <td>1</td>\n      <td>10000.000000</td>\n      <td>1.000000</td>\n    </tr>\n    <tr>\n      <th rowspan=\"2\" valign=\"top\">Daniel Hilton</th>\n      <th>Mescaline</th>\n      <td>105000</td>\n      <td>4</td>\n      <td>52500.000000</td>\n      <td>2.000000</td>\n    </tr>\n    <tr>\n      <th>Psilocybin</th>\n      <td>10000</td>\n      <td>1</td>\n      <td>10000.000000</td>\n      <td>1.000000</td>\n    </tr>\n    <tr>\n      <th rowspan=\"2\" valign=\"top\">John Smith</th>\n      <th>Amphetamine</th>\n      <td>5000</td>\n      <td>2</td>\n      <td>5000.000000</td>\n      <td>2.000000</td>\n    </tr>\n    <tr>\n      <th>Mescaline</th>\n      <td>35000</td>\n      <td>1</td>\n      <td>35000.000000</td>\n      <td>1.000000</td>\n    </tr>\n    <tr>\n      <th rowspan=\"6\" valign=\"top\">Fred Anderson</th>\n      <th rowspan=\"3\" valign=\"top\">Cedric Moss</th>\n      <th>Amphetamine</th>\n      <td>5000</td>\n      <td>1</td>\n      <td>5000.000000</td>\n      <td>1.000000</td>\n    </tr>\n    <tr>\n      <th>Mescaline</th>\n      <td>95000</td>\n      <td>3</td>\n      <td>47500.000000</td>\n      <td>1.500000</td>\n    </tr>\n    <tr>\n      <th>Psilocybin</th>\n      <td>10000</td>\n      <td>1</td>\n      <td>10000.000000</td>\n      <td>1.000000</td>\n    </tr>\n    <tr>\n      <th rowspan=\"3\" valign=\"top\">Wendy Yule</th>\n      <th>Amphetamine</th>\n      <td>7000</td>\n      <td>3</td>\n      <td>7000.000000</td>\n      <td>3.000000</td>\n    </tr>\n    <tr>\n      <th>Aptivus</th>\n      <td>5000</td>\n      <td>2</td>\n      <td>5000.000000</td>\n      <td>2.000000</td>\n    </tr>\n    <tr>\n      <th>Mescaline</th>\n      <td>165000</td>\n      <td>7</td>\n      <td>82500.000000</td>\n      <td>3.500000</td>\n    </tr>\n    <tr>\n      <th>All</th>\n      <th></th>\n      <th></th>\n      <td>522000</td>\n      <td>30</td>\n      <td>30705.882353</td>\n      <td>1.764706</td>\n    </tr>\n  </tbody>\n</table>\n</div>"
     },
     "metadata": {},
     "execution_count": 29
    }
   ],
   "source": [
    "data = pd.pivot_table(df, index=[\"Sr Doctor\", \"Jr Doctor\", \"Drug\"], values=[\"Cost\", \"Units\"],\n",
    "                      aggfunc=[np.sum, np.mean], fill_value=0, margins=True)\n",
    "\n",
    "pd.set_option('display.max_columns', None)\n",
    "\n",
    "data"
   ]
  },
  {
   "cell_type": "markdown",
   "metadata": {},
   "source": [
    "## Example 11 (Track Sr. Doctor level)"
   ]
  },
  {
   "cell_type": "code",
   "execution_count": 31,
   "metadata": {},
   "outputs": [
    {
     "output_type": "execute_result",
     "data": {
      "text/plain": "                                      sum\n                                     Cost\nSr Doctor     Outcome                    \nDebra Henley  condition improved    50000\n              condition unchanged   65000\n              not reported          70000\n              recovered             50000\nFred Anderson condition improved     5000\n              condition unchanged  172000\n              not reported          65000\n              recovered             45000\nAll                                522000",
      "text/html": "<div>\n<style scoped>\n    .dataframe tbody tr th:only-of-type {\n        vertical-align: middle;\n    }\n\n    .dataframe tbody tr th {\n        vertical-align: top;\n    }\n\n    .dataframe thead tr th {\n        text-align: left;\n    }\n\n    .dataframe thead tr:last-of-type th {\n        text-align: right;\n    }\n</style>\n<table border=\"1\" class=\"dataframe\">\n  <thead>\n    <tr>\n      <th></th>\n      <th></th>\n      <th>sum</th>\n    </tr>\n    <tr>\n      <th></th>\n      <th></th>\n      <th>Cost</th>\n    </tr>\n    <tr>\n      <th>Sr Doctor</th>\n      <th>Outcome</th>\n      <th></th>\n    </tr>\n  </thead>\n  <tbody>\n    <tr>\n      <th rowspan=\"4\" valign=\"top\">Debra Henley</th>\n      <th>condition improved</th>\n      <td>50000</td>\n    </tr>\n    <tr>\n      <th>condition unchanged</th>\n      <td>65000</td>\n    </tr>\n    <tr>\n      <th>not reported</th>\n      <td>70000</td>\n    </tr>\n    <tr>\n      <th>recovered</th>\n      <td>50000</td>\n    </tr>\n    <tr>\n      <th rowspan=\"4\" valign=\"top\">Fred Anderson</th>\n      <th>condition improved</th>\n      <td>5000</td>\n    </tr>\n    <tr>\n      <th>condition unchanged</th>\n      <td>172000</td>\n    </tr>\n    <tr>\n      <th>not reported</th>\n      <td>65000</td>\n    </tr>\n    <tr>\n      <th>recovered</th>\n      <td>45000</td>\n    </tr>\n    <tr>\n      <th>All</th>\n      <th></th>\n      <td>522000</td>\n    </tr>\n  </tbody>\n</table>\n</div>"
     },
     "metadata": {},
     "execution_count": 31
    }
   ],
   "source": [
    "data = pd.pivot_table(df, index=[\"Sr Doctor\", \"Outcome\"], values=[\"Cost\"],\n",
    "                      aggfunc=[np.sum], fill_value=0, margins=True)\n",
    "\n",
    "pd.set_option('display.max_columns', None)\n",
    "\n",
    "data"
   ]
  },
  {
   "cell_type": "markdown",
   "metadata": {},
   "source": [
    "## Example 12 (Using a dictionary of agg functions - 1)"
   ]
  },
  {
   "cell_type": "code",
   "execution_count": 32,
   "metadata": {},
   "outputs": [
    {
     "output_type": "execute_result",
     "data": {
      "text/plain": "                                         Cost                               \\\nDrug                              Amphetamine Aptivus Mescaline Psilocybin   \nSr Doctor     Outcome                                                        \nDebra Henley  condition improved        10000       0     40000          0   \n              condition unchanged           0       0     65000          0   \n              not reported                  0       0     70000          0   \n              recovered                     0       0     30000      20000   \nFred Anderson condition improved         5000       0         0          0   \n              condition unchanged        7000       0    165000          0   \n              not reported                  0       0     65000          0   \n              recovered                     0    5000     30000      10000   \n\n                                        Units                               \nDrug                              Amphetamine Aptivus Mescaline Psilocybin  \nSr Doctor     Outcome                                                       \nDebra Henley  condition improved            2       0         1          0  \n              condition unchanged           0       0         1          0  \n              not reported                  0       0         2          0  \n              recovered                     0       0         1          2  \nFred Anderson condition improved            1       0         0          0  \n              condition unchanged           1       0         2          0  \n              not reported                  0       0         1          0  \n              recovered                     0       1         1          1  ",
      "text/html": "<div>\n<style scoped>\n    .dataframe tbody tr th:only-of-type {\n        vertical-align: middle;\n    }\n\n    .dataframe tbody tr th {\n        vertical-align: top;\n    }\n\n    .dataframe thead tr th {\n        text-align: left;\n    }\n\n    .dataframe thead tr:last-of-type th {\n        text-align: right;\n    }\n</style>\n<table border=\"1\" class=\"dataframe\">\n  <thead>\n    <tr>\n      <th></th>\n      <th></th>\n      <th colspan=\"4\" halign=\"left\">Cost</th>\n      <th colspan=\"4\" halign=\"left\">Units</th>\n    </tr>\n    <tr>\n      <th></th>\n      <th>Drug</th>\n      <th>Amphetamine</th>\n      <th>Aptivus</th>\n      <th>Mescaline</th>\n      <th>Psilocybin</th>\n      <th>Amphetamine</th>\n      <th>Aptivus</th>\n      <th>Mescaline</th>\n      <th>Psilocybin</th>\n    </tr>\n    <tr>\n      <th>Sr Doctor</th>\n      <th>Outcome</th>\n      <th></th>\n      <th></th>\n      <th></th>\n      <th></th>\n      <th></th>\n      <th></th>\n      <th></th>\n      <th></th>\n    </tr>\n  </thead>\n  <tbody>\n    <tr>\n      <th rowspan=\"4\" valign=\"top\">Debra Henley</th>\n      <th>condition improved</th>\n      <td>10000</td>\n      <td>0</td>\n      <td>40000</td>\n      <td>0</td>\n      <td>2</td>\n      <td>0</td>\n      <td>1</td>\n      <td>0</td>\n    </tr>\n    <tr>\n      <th>condition unchanged</th>\n      <td>0</td>\n      <td>0</td>\n      <td>65000</td>\n      <td>0</td>\n      <td>0</td>\n      <td>0</td>\n      <td>1</td>\n      <td>0</td>\n    </tr>\n    <tr>\n      <th>not reported</th>\n      <td>0</td>\n      <td>0</td>\n      <td>70000</td>\n      <td>0</td>\n      <td>0</td>\n      <td>0</td>\n      <td>2</td>\n      <td>0</td>\n    </tr>\n    <tr>\n      <th>recovered</th>\n      <td>0</td>\n      <td>0</td>\n      <td>30000</td>\n      <td>20000</td>\n      <td>0</td>\n      <td>0</td>\n      <td>1</td>\n      <td>2</td>\n    </tr>\n    <tr>\n      <th rowspan=\"4\" valign=\"top\">Fred Anderson</th>\n      <th>condition improved</th>\n      <td>5000</td>\n      <td>0</td>\n      <td>0</td>\n      <td>0</td>\n      <td>1</td>\n      <td>0</td>\n      <td>0</td>\n      <td>0</td>\n    </tr>\n    <tr>\n      <th>condition unchanged</th>\n      <td>7000</td>\n      <td>0</td>\n      <td>165000</td>\n      <td>0</td>\n      <td>1</td>\n      <td>0</td>\n      <td>2</td>\n      <td>0</td>\n    </tr>\n    <tr>\n      <th>not reported</th>\n      <td>0</td>\n      <td>0</td>\n      <td>65000</td>\n      <td>0</td>\n      <td>0</td>\n      <td>0</td>\n      <td>1</td>\n      <td>0</td>\n    </tr>\n    <tr>\n      <th>recovered</th>\n      <td>0</td>\n      <td>5000</td>\n      <td>30000</td>\n      <td>10000</td>\n      <td>0</td>\n      <td>1</td>\n      <td>1</td>\n      <td>1</td>\n    </tr>\n  </tbody>\n</table>\n</div>"
     },
     "metadata": {},
     "execution_count": 32
    }
   ],
   "source": [
    "data = pd.pivot_table(df, index=[\"Sr Doctor\", \"Outcome\"], columns=[\"Drug\"], values=[\"Units\", \"Cost\"],\n",
    "                      aggfunc={\"Units\": len, \"Cost\": np.sum}, fill_value=0)\n",
    "\n",
    "pd.set_option('display.max_columns', None)\n",
    "\n",
    "data"
   ]
  },
  {
   "cell_type": "markdown",
   "metadata": {},
   "source": [
    "## Example 13 (Using a dictionary of agg functions - 2)"
   ]
  },
  {
   "cell_type": "code",
   "execution_count": 33,
   "metadata": {},
   "outputs": [
    {
     "output_type": "execute_result",
     "data": {
      "text/plain": "                                         Cost                               \\\n                                         mean                                \nDrug                              Amphetamine Aptivus Mescaline Psilocybin   \nSr Doctor     Outcome                                                        \nDebra Henley  condition improved         5000       0     40000          0   \n              condition unchanged           0       0     65000          0   \n              not reported                  0       0     35000          0   \n              recovered                     0       0     30000      10000   \nFred Anderson condition improved         5000       0         0          0   \n              condition unchanged        7000       0     82500          0   \n              not reported                  0       0     65000          0   \n              recovered                     0    5000     30000      10000   \n\n                                                                            \\\n                                          sum                                \nDrug                              Amphetamine Aptivus Mescaline Psilocybin   \nSr Doctor     Outcome                                                        \nDebra Henley  condition improved        10000       0     40000          0   \n              condition unchanged           0       0     65000          0   \n              not reported                  0       0     70000          0   \n              recovered                     0       0     30000      20000   \nFred Anderson condition improved         5000       0         0          0   \n              condition unchanged        7000       0    165000          0   \n              not reported                  0       0     65000          0   \n              recovered                     0    5000     30000      10000   \n\n                                        Units                               \n                                          len                               \nDrug                              Amphetamine Aptivus Mescaline Psilocybin  \nSr Doctor     Outcome                                                       \nDebra Henley  condition improved            2       0         1          0  \n              condition unchanged           0       0         1          0  \n              not reported                  0       0         2          0  \n              recovered                     0       0         1          2  \nFred Anderson condition improved            1       0         0          0  \n              condition unchanged           1       0         2          0  \n              not reported                  0       0         1          0  \n              recovered                     0       1         1          1  ",
      "text/html": "<div>\n<style scoped>\n    .dataframe tbody tr th:only-of-type {\n        vertical-align: middle;\n    }\n\n    .dataframe tbody tr th {\n        vertical-align: top;\n    }\n\n    .dataframe thead tr th {\n        text-align: left;\n    }\n\n    .dataframe thead tr:last-of-type th {\n        text-align: right;\n    }\n</style>\n<table border=\"1\" class=\"dataframe\">\n  <thead>\n    <tr>\n      <th></th>\n      <th></th>\n      <th colspan=\"8\" halign=\"left\">Cost</th>\n      <th colspan=\"4\" halign=\"left\">Units</th>\n    </tr>\n    <tr>\n      <th></th>\n      <th></th>\n      <th colspan=\"4\" halign=\"left\">mean</th>\n      <th colspan=\"4\" halign=\"left\">sum</th>\n      <th colspan=\"4\" halign=\"left\">len</th>\n    </tr>\n    <tr>\n      <th></th>\n      <th>Drug</th>\n      <th>Amphetamine</th>\n      <th>Aptivus</th>\n      <th>Mescaline</th>\n      <th>Psilocybin</th>\n      <th>Amphetamine</th>\n      <th>Aptivus</th>\n      <th>Mescaline</th>\n      <th>Psilocybin</th>\n      <th>Amphetamine</th>\n      <th>Aptivus</th>\n      <th>Mescaline</th>\n      <th>Psilocybin</th>\n    </tr>\n    <tr>\n      <th>Sr Doctor</th>\n      <th>Outcome</th>\n      <th></th>\n      <th></th>\n      <th></th>\n      <th></th>\n      <th></th>\n      <th></th>\n      <th></th>\n      <th></th>\n      <th></th>\n      <th></th>\n      <th></th>\n      <th></th>\n    </tr>\n  </thead>\n  <tbody>\n    <tr>\n      <th rowspan=\"4\" valign=\"top\">Debra Henley</th>\n      <th>condition improved</th>\n      <td>5000</td>\n      <td>0</td>\n      <td>40000</td>\n      <td>0</td>\n      <td>10000</td>\n      <td>0</td>\n      <td>40000</td>\n      <td>0</td>\n      <td>2</td>\n      <td>0</td>\n      <td>1</td>\n      <td>0</td>\n    </tr>\n    <tr>\n      <th>condition unchanged</th>\n      <td>0</td>\n      <td>0</td>\n      <td>65000</td>\n      <td>0</td>\n      <td>0</td>\n      <td>0</td>\n      <td>65000</td>\n      <td>0</td>\n      <td>0</td>\n      <td>0</td>\n      <td>1</td>\n      <td>0</td>\n    </tr>\n    <tr>\n      <th>not reported</th>\n      <td>0</td>\n      <td>0</td>\n      <td>35000</td>\n      <td>0</td>\n      <td>0</td>\n      <td>0</td>\n      <td>70000</td>\n      <td>0</td>\n      <td>0</td>\n      <td>0</td>\n      <td>2</td>\n      <td>0</td>\n    </tr>\n    <tr>\n      <th>recovered</th>\n      <td>0</td>\n      <td>0</td>\n      <td>30000</td>\n      <td>10000</td>\n      <td>0</td>\n      <td>0</td>\n      <td>30000</td>\n      <td>20000</td>\n      <td>0</td>\n      <td>0</td>\n      <td>1</td>\n      <td>2</td>\n    </tr>\n    <tr>\n      <th rowspan=\"4\" valign=\"top\">Fred Anderson</th>\n      <th>condition improved</th>\n      <td>5000</td>\n      <td>0</td>\n      <td>0</td>\n      <td>0</td>\n      <td>5000</td>\n      <td>0</td>\n      <td>0</td>\n      <td>0</td>\n      <td>1</td>\n      <td>0</td>\n      <td>0</td>\n      <td>0</td>\n    </tr>\n    <tr>\n      <th>condition unchanged</th>\n      <td>7000</td>\n      <td>0</td>\n      <td>82500</td>\n      <td>0</td>\n      <td>7000</td>\n      <td>0</td>\n      <td>165000</td>\n      <td>0</td>\n      <td>1</td>\n      <td>0</td>\n      <td>2</td>\n      <td>0</td>\n    </tr>\n    <tr>\n      <th>not reported</th>\n      <td>0</td>\n      <td>0</td>\n      <td>65000</td>\n      <td>0</td>\n      <td>0</td>\n      <td>0</td>\n      <td>65000</td>\n      <td>0</td>\n      <td>0</td>\n      <td>0</td>\n      <td>1</td>\n      <td>0</td>\n    </tr>\n    <tr>\n      <th>recovered</th>\n      <td>0</td>\n      <td>5000</td>\n      <td>30000</td>\n      <td>10000</td>\n      <td>0</td>\n      <td>5000</td>\n      <td>30000</td>\n      <td>10000</td>\n      <td>0</td>\n      <td>1</td>\n      <td>1</td>\n      <td>1</td>\n    </tr>\n  </tbody>\n</table>\n</div>"
     },
     "metadata": {},
     "execution_count": 33
    }
   ],
   "source": [
    "data = pd.pivot_table(df, index=[\"Sr Doctor\", \"Outcome\"], columns=[\"Drug\"], values=[\"Units\", \"Cost\"],\n",
    "                      aggfunc={\"Units\": len, \"Cost\": [np.sum, np.mean]}, fill_value=0)\n",
    "\n",
    "pd.set_option('display.max_columns', None)\n",
    "\n",
    "data"
   ]
  },
  {
   "cell_type": "code",
   "execution_count": null,
   "metadata": {},
   "outputs": [],
   "source": []
  }
 ]
}