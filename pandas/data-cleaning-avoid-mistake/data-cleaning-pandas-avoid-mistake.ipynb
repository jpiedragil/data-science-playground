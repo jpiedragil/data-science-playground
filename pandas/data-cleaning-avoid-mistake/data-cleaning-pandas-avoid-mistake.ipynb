{
 "cells": [
  {
   "cell_type": "markdown",
   "metadata": {},
   "source": [
    "# Data Cleaning with Pandas — Avoid this Mistake!\n",
    "\n",
    "Source code from Medium's article [\"Data Cleaning with Pandas — Avoid this Mistake!\"](https://towardsdatascience.com/data-cleaning-with-pandas-avoid-this-mistake-7af559657c2c) written by [Sarah Eade](https://towardsdatascience.com/@seade03)."
   ]
  },
  {
   "cell_type": "markdown",
   "metadata": {},
   "source": [
    "# Import libraries"
   ]
  },
  {
   "cell_type": "code",
   "execution_count": 1,
   "metadata": {
    "execution": {
     "iopub.execute_input": "2020-09-21T05:37:48.021888Z",
     "iopub.status.busy": "2020-09-21T05:37:48.020887Z",
     "iopub.status.idle": "2020-09-21T05:37:48.684885Z",
     "shell.execute_reply": "2020-09-21T05:37:48.683886Z",
     "shell.execute_reply.started": "2020-09-21T05:37:48.021888Z"
    }
   },
   "outputs": [],
   "source": [
    "import pandas as pd"
   ]
  },
  {
   "cell_type": "markdown",
   "metadata": {},
   "source": [
    "# What are Mixed Type Columns"
   ]
  },
  {
   "cell_type": "code",
   "execution_count": 2,
   "metadata": {
    "execution": {
     "iopub.execute_input": "2020-09-21T05:41:55.036430Z",
     "iopub.status.busy": "2020-09-21T05:41:55.036430Z",
     "iopub.status.idle": "2020-09-21T05:41:55.050436Z",
     "shell.execute_reply": "2020-09-21T05:41:55.048430Z",
     "shell.execute_reply.started": "2020-09-21T05:41:55.036430Z"
    }
   },
   "outputs": [
    {
     "name": "stdout",
     "output_type": "stream",
     "text": [
      "[<class 'float'>, <class 'str'>]\n"
     ]
    }
   ],
   "source": [
    "df = pd.DataFrame({\"price\": [9.99, \"9.99\"]})\n",
    "\n",
    "print(list(map(type, df[\"price\"])))\n"
   ]
  },
  {
   "cell_type": "code",
   "execution_count": 3,
   "metadata": {
    "execution": {
     "iopub.execute_input": "2020-09-21T05:42:40.024848Z",
     "iopub.status.busy": "2020-09-21T05:42:40.023853Z",
     "iopub.status.idle": "2020-09-21T05:42:40.052848Z",
     "shell.execute_reply": "2020-09-21T05:42:40.051850Z",
     "shell.execute_reply.started": "2020-09-21T05:42:40.024848Z"
    }
   },
   "outputs": [
    {
     "data": {
      "text/plain": [
       "price    object\n",
       "dtype: object"
      ]
     },
     "execution_count": 3,
     "metadata": {},
     "output_type": "execute_result"
    }
   ],
   "source": [
    "df.dtypes"
   ]
  },
  {
   "cell_type": "code",
   "execution_count": 5,
   "metadata": {
    "execution": {
     "iopub.execute_input": "2020-09-21T05:45:44.447662Z",
     "iopub.status.busy": "2020-09-21T05:45:44.447662Z",
     "iopub.status.idle": "2020-09-21T05:45:44.469660Z",
     "shell.execute_reply": "2020-09-21T05:45:44.467657Z",
     "shell.execute_reply.started": "2020-09-21T05:45:44.447662Z"
    }
   },
   "outputs": [
    {
     "name": "stdout",
     "output_type": "stream",
     "text": [
      "int64\n",
      "object\n"
     ]
    }
   ],
   "source": [
    "int_series = pd.Series([1, 2, 3])\n",
    "print(int_series.dtype)    # dtype(\"int64\")\n",
    "\n",
    "int_series.loc[3] = \"4\"\n",
    "print(int_series.dtype)      # dtype(\"O\")"
   ]
  },
  {
   "cell_type": "markdown",
   "metadata": {},
   "source": [
    "# Where this Causes Problems"
   ]
  },
  {
   "cell_type": "code",
   "execution_count": 6,
   "metadata": {
    "execution": {
     "iopub.execute_input": "2020-09-21T05:57:10.167477Z",
     "iopub.status.busy": "2020-09-21T05:57:10.167477Z",
     "iopub.status.idle": "2020-09-21T05:57:13.246370Z",
     "shell.execute_reply": "2020-09-21T05:57:13.245367Z",
     "shell.execute_reply.started": "2020-09-21T05:57:10.167477Z"
    }
   },
   "outputs": [],
   "source": [
    "sales_data = pd.read_csv(\"./data/sales_data.csv\", parse_dates=[\"date\"])\n",
    "census_data = pd.read_csv(\"./data/population_by_zip_2010.csv\", )\n",
    "\n",
    "population = census_data.groupby(\"zipcode\")[\"population\"].sum().reset_index()"
   ]
  },
  {
   "cell_type": "code",
   "execution_count": 7,
   "metadata": {
    "execution": {
     "iopub.execute_input": "2020-09-21T05:57:54.025278Z",
     "iopub.status.busy": "2020-09-21T05:57:54.024279Z",
     "iopub.status.idle": "2020-09-21T05:57:54.069279Z",
     "shell.execute_reply": "2020-09-21T05:57:54.067279Z",
     "shell.execute_reply.started": "2020-09-21T05:57:54.024279Z"
    }
   },
   "outputs": [
    {
     "data": {
      "text/html": [
       "<div>\n",
       "<style scoped>\n",
       "    .dataframe tbody tr th:only-of-type {\n",
       "        vertical-align: middle;\n",
       "    }\n",
       "\n",
       "    .dataframe tbody tr th {\n",
       "        vertical-align: top;\n",
       "    }\n",
       "\n",
       "    .dataframe thead th {\n",
       "        text-align: right;\n",
       "    }\n",
       "</style>\n",
       "<table border=\"1\" class=\"dataframe\">\n",
       "  <thead>\n",
       "    <tr style=\"text-align: right;\">\n",
       "      <th></th>\n",
       "      <th>date</th>\n",
       "      <th>units_sold</th>\n",
       "      <th>address_line</th>\n",
       "      <th>city</th>\n",
       "      <th>state</th>\n",
       "      <th>zip_code</th>\n",
       "    </tr>\n",
       "  </thead>\n",
       "  <tbody>\n",
       "    <tr>\n",
       "      <th>559</th>\n",
       "      <td>2018-06-18 17:14:37</td>\n",
       "      <td>0</td>\n",
       "      <td>615 E  89TH</td>\n",
       "      <td>CA</td>\n",
       "      <td>USA</td>\n",
       "      <td>90002-1635</td>\n",
       "    </tr>\n",
       "    <tr>\n",
       "      <th>347</th>\n",
       "      <td>2019-04-12 19:27:48</td>\n",
       "      <td>8</td>\n",
       "      <td>8800 WADSWORTH</td>\n",
       "      <td>CA</td>\n",
       "      <td>USA</td>\n",
       "      <td>NaN</td>\n",
       "    </tr>\n",
       "    <tr>\n",
       "      <th>396</th>\n",
       "      <td>2019-07-24 07:45:57</td>\n",
       "      <td>2</td>\n",
       "      <td>9914 S  BROADWAY</td>\n",
       "      <td>CA</td>\n",
       "      <td>USA</td>\n",
       "      <td>90003-4173</td>\n",
       "    </tr>\n",
       "  </tbody>\n",
       "</table>\n",
       "</div>"
      ],
      "text/plain": [
       "                   date  units_sold      address_line city state    zip_code\n",
       "559 2018-06-18 17:14:37           0       615 E  89TH   CA   USA  90002-1635\n",
       "347 2019-04-12 19:27:48           8    8800 WADSWORTH   CA   USA         NaN\n",
       "396 2019-07-24 07:45:57           2  9914 S  BROADWAY   CA   USA  90003-4173"
      ]
     },
     "execution_count": 7,
     "metadata": {},
     "output_type": "execute_result"
    }
   ],
   "source": [
    "sales_data.sample(3, random_state=1)"
   ]
  },
  {
   "cell_type": "code",
   "execution_count": 8,
   "metadata": {
    "execution": {
     "iopub.execute_input": "2020-09-21T05:58:20.339947Z",
     "iopub.status.busy": "2020-09-21T05:58:20.338945Z",
     "iopub.status.idle": "2020-09-21T05:58:20.367943Z",
     "shell.execute_reply": "2020-09-21T05:58:20.365941Z",
     "shell.execute_reply.started": "2020-09-21T05:58:20.339947Z"
    }
   },
   "outputs": [
    {
     "name": "stdout",
     "output_type": "stream",
     "text": [
      "<class 'pandas.core.frame.DataFrame'>\n",
      "RangeIndex: 594 entries, 0 to 593\n",
      "Data columns (total 6 columns):\n",
      " #   Column        Non-Null Count  Dtype         \n",
      "---  ------        --------------  -----         \n",
      " 0   date          594 non-null    datetime64[ns]\n",
      " 1   units_sold    594 non-null    int64         \n",
      " 2   address_line  594 non-null    object        \n",
      " 3   city          594 non-null    object        \n",
      " 4   state         594 non-null    object        \n",
      " 5   zip_code      521 non-null    object        \n",
      "dtypes: datetime64[ns](1), int64(1), object(4)\n",
      "memory usage: 28.0+ KB\n"
     ]
    }
   ],
   "source": [
    "sales_data.info()"
   ]
  },
  {
   "cell_type": "code",
   "execution_count": 9,
   "metadata": {
    "execution": {
     "iopub.execute_input": "2020-09-21T06:00:36.629314Z",
     "iopub.status.busy": "2020-09-21T06:00:36.629314Z",
     "iopub.status.idle": "2020-09-21T06:00:36.666317Z",
     "shell.execute_reply": "2020-09-21T06:00:36.662316Z",
     "shell.execute_reply.started": "2020-09-21T06:00:36.629314Z"
    }
   },
   "outputs": [
    {
     "data": {
      "text/html": [
       "<div>\n",
       "<style scoped>\n",
       "    .dataframe tbody tr th:only-of-type {\n",
       "        vertical-align: middle;\n",
       "    }\n",
       "\n",
       "    .dataframe tbody tr th {\n",
       "        vertical-align: top;\n",
       "    }\n",
       "\n",
       "    .dataframe thead th {\n",
       "        text-align: right;\n",
       "    }\n",
       "</style>\n",
       "<table border=\"1\" class=\"dataframe\">\n",
       "  <thead>\n",
       "    <tr style=\"text-align: right;\">\n",
       "      <th></th>\n",
       "      <th>population</th>\n",
       "      <th>minimum_age</th>\n",
       "      <th>maximum_age</th>\n",
       "      <th>gender</th>\n",
       "      <th>zipcode</th>\n",
       "      <th>geo_id</th>\n",
       "    </tr>\n",
       "  </thead>\n",
       "  <tbody>\n",
       "    <tr>\n",
       "      <th>0</th>\n",
       "      <td>50</td>\n",
       "      <td>30.0</td>\n",
       "      <td>34.0</td>\n",
       "      <td>female</td>\n",
       "      <td>61747</td>\n",
       "      <td>8600000US61747</td>\n",
       "    </tr>\n",
       "    <tr>\n",
       "      <th>1</th>\n",
       "      <td>5</td>\n",
       "      <td>85.0</td>\n",
       "      <td>NaN</td>\n",
       "      <td>male</td>\n",
       "      <td>64120</td>\n",
       "      <td>8600000US64120</td>\n",
       "    </tr>\n",
       "    <tr>\n",
       "      <th>2</th>\n",
       "      <td>1389</td>\n",
       "      <td>30.0</td>\n",
       "      <td>34.0</td>\n",
       "      <td>male</td>\n",
       "      <td>95117</td>\n",
       "      <td>8600000US95117</td>\n",
       "    </tr>\n",
       "  </tbody>\n",
       "</table>\n",
       "</div>"
      ],
      "text/plain": [
       "   population  minimum_age  maximum_age  gender  zipcode          geo_id\n",
       "0          50         30.0         34.0  female    61747  8600000US61747\n",
       "1           5         85.0          NaN    male    64120  8600000US64120\n",
       "2        1389         30.0         34.0    male    95117  8600000US95117"
      ]
     },
     "execution_count": 9,
     "metadata": {},
     "output_type": "execute_result"
    }
   ],
   "source": [
    "census_data.head(3)"
   ]
  },
  {
   "cell_type": "code",
   "execution_count": 10,
   "metadata": {
    "execution": {
     "iopub.execute_input": "2020-09-21T06:01:09.693606Z",
     "iopub.status.busy": "2020-09-21T06:01:09.692603Z",
     "iopub.status.idle": "2020-09-21T06:01:09.724602Z",
     "shell.execute_reply": "2020-09-21T06:01:09.723601Z",
     "shell.execute_reply.started": "2020-09-21T06:01:09.693606Z"
    }
   },
   "outputs": [
    {
     "name": "stdout",
     "output_type": "stream",
     "text": [
      "<class 'pandas.core.frame.DataFrame'>\n",
      "RangeIndex: 33119 entries, 0 to 33118\n",
      "Data columns (total 2 columns):\n",
      " #   Column      Non-Null Count  Dtype\n",
      "---  ------      --------------  -----\n",
      " 0   zipcode     33119 non-null  int64\n",
      " 1   population  33119 non-null  int64\n",
      "dtypes: int64(2)\n",
      "memory usage: 517.6 KB\n"
     ]
    }
   ],
   "source": [
    "population.info()"
   ]
  },
  {
   "cell_type": "code",
   "execution_count": 11,
   "metadata": {
    "execution": {
     "iopub.execute_input": "2020-09-21T06:01:46.019905Z",
     "iopub.status.busy": "2020-09-21T06:01:46.018906Z",
     "iopub.status.idle": "2020-09-21T06:01:46.033908Z",
     "shell.execute_reply": "2020-09-21T06:01:46.031905Z",
     "shell.execute_reply.started": "2020-09-21T06:01:46.019905Z"
    }
   },
   "outputs": [
    {
     "data": {
      "text/html": [
       "<div>\n",
       "<style scoped>\n",
       "    .dataframe tbody tr th:only-of-type {\n",
       "        vertical-align: middle;\n",
       "    }\n",
       "\n",
       "    .dataframe tbody tr th {\n",
       "        vertical-align: top;\n",
       "    }\n",
       "\n",
       "    .dataframe thead th {\n",
       "        text-align: right;\n",
       "    }\n",
       "</style>\n",
       "<table border=\"1\" class=\"dataframe\">\n",
       "  <thead>\n",
       "    <tr style=\"text-align: right;\">\n",
       "      <th></th>\n",
       "      <th>zipcode</th>\n",
       "      <th>population</th>\n",
       "    </tr>\n",
       "  </thead>\n",
       "  <tbody>\n",
       "    <tr>\n",
       "      <th>0</th>\n",
       "      <td>602</td>\n",
       "      <td>124560</td>\n",
       "    </tr>\n",
       "    <tr>\n",
       "      <th>1</th>\n",
       "      <td>603</td>\n",
       "      <td>164067</td>\n",
       "    </tr>\n",
       "    <tr>\n",
       "      <th>2</th>\n",
       "      <td>606</td>\n",
       "      <td>19845</td>\n",
       "    </tr>\n",
       "    <tr>\n",
       "      <th>3</th>\n",
       "      <td>610</td>\n",
       "      <td>87048</td>\n",
       "    </tr>\n",
       "    <tr>\n",
       "      <th>4</th>\n",
       "      <td>612</td>\n",
       "      <td>201030</td>\n",
       "    </tr>\n",
       "  </tbody>\n",
       "</table>\n",
       "</div>"
      ],
      "text/plain": [
       "   zipcode  population\n",
       "0      602      124560\n",
       "1      603      164067\n",
       "2      606       19845\n",
       "3      610       87048\n",
       "4      612      201030"
      ]
     },
     "execution_count": 11,
     "metadata": {},
     "output_type": "execute_result"
    }
   ],
   "source": [
    "population.head()"
   ]
  },
  {
   "cell_type": "code",
   "execution_count": 13,
   "metadata": {
    "execution": {
     "iopub.execute_input": "2020-09-21T06:10:19.338894Z",
     "iopub.status.busy": "2020-09-21T06:10:19.337891Z",
     "iopub.status.idle": "2020-09-21T06:10:19.366888Z",
     "shell.execute_reply": "2020-09-21T06:10:19.364892Z",
     "shell.execute_reply.started": "2020-09-21T06:10:19.338894Z"
    }
   },
   "outputs": [],
   "source": [
    "sales_data[\"zip_code\"] = sales_data[\"zip_code\"].str[:5]\n",
    "\n",
    "sales_data.loc[(sales_data[\"zip_code\"].isna()) & (sales_data[\"date\"] < pd.to_datetime(\"2018-01-01\")),\n",
    "               \"zip_code\"] = 90001\n",
    "               \n",
    "sales_data.loc[(sales_data[\"zip_code\"].isna()) & (sales_data[\"date\"] >= pd.to_datetime(\"2018-01-01\")),\n",
    "               \"zip_code\"] = 90002               "
   ]
  },
  {
   "cell_type": "code",
   "execution_count": 14,
   "metadata": {
    "execution": {
     "iopub.execute_input": "2020-09-21T06:13:04.176429Z",
     "iopub.status.busy": "2020-09-21T06:13:04.175430Z",
     "iopub.status.idle": "2020-09-21T06:13:04.213429Z",
     "shell.execute_reply": "2020-09-21T06:13:04.211427Z",
     "shell.execute_reply.started": "2020-09-21T06:13:04.176429Z"
    }
   },
   "outputs": [],
   "source": [
    "sales_and_population = pd.merge(sales_data, population, left_on=\"zip_code\", right_on=\"zipcode\")"
   ]
  },
  {
   "cell_type": "code",
   "execution_count": 15,
   "metadata": {
    "execution": {
     "iopub.execute_input": "2020-09-21T06:13:24.041960Z",
     "iopub.status.busy": "2020-09-21T06:13:24.040961Z",
     "iopub.status.idle": "2020-09-21T06:13:24.070960Z",
     "shell.execute_reply": "2020-09-21T06:13:24.068957Z",
     "shell.execute_reply.started": "2020-09-21T06:13:24.041960Z"
    }
   },
   "outputs": [
    {
     "data": {
      "text/html": [
       "<div>\n",
       "<style scoped>\n",
       "    .dataframe tbody tr th:only-of-type {\n",
       "        vertical-align: middle;\n",
       "    }\n",
       "\n",
       "    .dataframe tbody tr th {\n",
       "        vertical-align: top;\n",
       "    }\n",
       "\n",
       "    .dataframe thead th {\n",
       "        text-align: right;\n",
       "    }\n",
       "</style>\n",
       "<table border=\"1\" class=\"dataframe\">\n",
       "  <thead>\n",
       "    <tr style=\"text-align: right;\">\n",
       "      <th></th>\n",
       "      <th>date</th>\n",
       "      <th>units_sold</th>\n",
       "      <th>address_line</th>\n",
       "      <th>city</th>\n",
       "      <th>state</th>\n",
       "      <th>zip_code</th>\n",
       "      <th>zipcode</th>\n",
       "      <th>population</th>\n",
       "    </tr>\n",
       "  </thead>\n",
       "  <tbody>\n",
       "    <tr>\n",
       "      <th>52</th>\n",
       "      <td>2017-02-03 03:33:13</td>\n",
       "      <td>-3</td>\n",
       "      <td>400 W 68TH</td>\n",
       "      <td>CA</td>\n",
       "      <td>USA</td>\n",
       "      <td>90001</td>\n",
       "      <td>90001</td>\n",
       "      <td>171330</td>\n",
       "    </tr>\n",
       "    <tr>\n",
       "      <th>34</th>\n",
       "      <td>2019-09-29 23:19:56</td>\n",
       "      <td>7</td>\n",
       "      <td>6122 S MAIN</td>\n",
       "      <td>CA</td>\n",
       "      <td>USA</td>\n",
       "      <td>90002</td>\n",
       "      <td>90002</td>\n",
       "      <td>153669</td>\n",
       "    </tr>\n",
       "    <tr>\n",
       "      <th>49</th>\n",
       "      <td>2017-03-17 19:30:36</td>\n",
       "      <td>16</td>\n",
       "      <td>8800 GRAHAM</td>\n",
       "      <td>CA</td>\n",
       "      <td>USA</td>\n",
       "      <td>90001</td>\n",
       "      <td>90001</td>\n",
       "      <td>171330</td>\n",
       "    </tr>\n",
       "  </tbody>\n",
       "</table>\n",
       "</div>"
      ],
      "text/plain": [
       "                  date  units_sold address_line city state zip_code  zipcode  \\\n",
       "52 2017-02-03 03:33:13          -3   400 W 68TH   CA   USA    90001    90001   \n",
       "34 2019-09-29 23:19:56           7  6122 S MAIN   CA   USA    90002    90002   \n",
       "49 2017-03-17 19:30:36          16  8800 GRAHAM   CA   USA    90001    90001   \n",
       "\n",
       "    population  \n",
       "52      171330  \n",
       "34      153669  \n",
       "49      171330  "
      ]
     },
     "execution_count": 15,
     "metadata": {},
     "output_type": "execute_result"
    }
   ],
   "source": [
    "sales_and_population.sample(3)"
   ]
  },
  {
   "cell_type": "code",
   "execution_count": 16,
   "metadata": {
    "execution": {
     "iopub.execute_input": "2020-09-21T06:14:13.041696Z",
     "iopub.status.busy": "2020-09-21T06:14:13.040697Z",
     "iopub.status.idle": "2020-09-21T06:14:13.054695Z",
     "shell.execute_reply": "2020-09-21T06:14:13.052693Z",
     "shell.execute_reply.started": "2020-09-21T06:14:13.041696Z"
    }
   },
   "outputs": [
    {
     "data": {
      "text/plain": [
       "(73, 8)"
      ]
     },
     "execution_count": 16,
     "metadata": {},
     "output_type": "execute_result"
    }
   ],
   "source": [
    "sales_and_population.shape"
   ]
  },
  {
   "cell_type": "code",
   "execution_count": 17,
   "metadata": {
    "execution": {
     "iopub.execute_input": "2020-09-21T06:16:48.407053Z",
     "iopub.status.busy": "2020-09-21T06:16:48.406052Z",
     "iopub.status.idle": "2020-09-21T06:16:48.416052Z",
     "shell.execute_reply": "2020-09-21T06:16:48.415052Z",
     "shell.execute_reply.started": "2020-09-21T06:16:48.407053Z"
    }
   },
   "outputs": [
    {
     "name": "stdout",
     "output_type": "stream",
     "text": [
      "{<class 'int'>, <class 'str'>}\n"
     ]
    }
   ],
   "source": [
    "print(set(sales_data[\"zip_code\"].apply(lambda x: type(x))))"
   ]
  },
  {
   "cell_type": "code",
   "execution_count": 18,
   "metadata": {
    "execution": {
     "iopub.execute_input": "2020-09-21T06:19:37.040214Z",
     "iopub.status.busy": "2020-09-21T06:19:37.039212Z",
     "iopub.status.idle": "2020-09-21T06:19:37.076214Z",
     "shell.execute_reply": "2020-09-21T06:19:37.075215Z",
     "shell.execute_reply.started": "2020-09-21T06:19:37.040214Z"
    }
   },
   "outputs": [],
   "source": [
    "sales_data = sales_data.astype({\"zip_code\": int})\n",
    "\n",
    "sales_and_population = pd.merge(sales_data, population, left_on=\"zip_code\", right_on=\"zipcode\")"
   ]
  },
  {
   "cell_type": "code",
   "execution_count": 19,
   "metadata": {
    "execution": {
     "iopub.execute_input": "2020-09-21T06:19:58.080666Z",
     "iopub.status.busy": "2020-09-21T06:19:58.079664Z",
     "iopub.status.idle": "2020-09-21T06:19:58.103664Z",
     "shell.execute_reply": "2020-09-21T06:19:58.101660Z",
     "shell.execute_reply.started": "2020-09-21T06:19:58.080666Z"
    }
   },
   "outputs": [
    {
     "data": {
      "text/plain": [
       "(594, 8)"
      ]
     },
     "execution_count": 19,
     "metadata": {},
     "output_type": "execute_result"
    }
   ],
   "source": [
    "sales_and_population.shape"
   ]
  },
  {
   "cell_type": "code",
   "execution_count": null,
   "metadata": {},
   "outputs": [],
   "source": []
  }
 ],
 "metadata": {
  "kernelspec": {
   "display_name": "jpnb_py38",
   "language": "python",
   "name": "jpnb_py38"
  },
  "language_info": {
   "codemirror_mode": {
    "name": "ipython",
    "version": 3
   },
   "file_extension": ".py",
   "mimetype": "text/x-python",
   "name": "python",
   "nbconvert_exporter": "python",
   "pygments_lexer": "ipython3",
   "version": "3.8.5"
  }
 },
 "nbformat": 4,
 "nbformat_minor": 4
}
