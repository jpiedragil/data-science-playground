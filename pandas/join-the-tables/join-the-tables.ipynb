{
 "cells": [
  {
   "cell_type": "markdown",
   "metadata": {},
   "source": [
    "# Join the Tables\n",
    "## Understanding the merge() and the concat() in Python pandas\n",
    "\n",
    "Source code from Medium's article [\"Join the Tables\"](https://towardsdatascience.com/join-the-tables-ab7fd4fac26b), written by [Suraj Gurav](https://medium.com/@17.rsuraj)."
   ]
  },
  {
   "cell_type": "markdown",
   "metadata": {},
   "source": [
    "# Importing libraries"
   ]
  },
  {
   "cell_type": "code",
   "execution_count": 1,
   "metadata": {
    "execution": {
     "iopub.execute_input": "2020-10-30T17:08:13.487055Z",
     "iopub.status.busy": "2020-10-30T17:08:13.486054Z",
     "iopub.status.idle": "2020-10-30T17:08:18.509508Z",
     "shell.execute_reply": "2020-10-30T17:08:18.507507Z",
     "shell.execute_reply.started": "2020-10-30T17:08:13.486054Z"
    }
   },
   "outputs": [],
   "source": [
    "import pandas as pd"
   ]
  },
  {
   "cell_type": "markdown",
   "metadata": {
    "execution": {
     "iopub.execute_input": "2020-10-30T17:08:33.634345Z",
     "iopub.status.busy": "2020-10-30T17:08:33.633341Z",
     "iopub.status.idle": "2020-10-30T17:08:33.652342Z",
     "shell.execute_reply": "2020-10-30T17:08:33.650340Z",
     "shell.execute_reply.started": "2020-10-30T17:08:33.634345Z"
    }
   },
   "source": [
    "# Creating DataFrames"
   ]
  },
  {
   "cell_type": "code",
   "execution_count": 3,
   "metadata": {
    "execution": {
     "iopub.execute_input": "2020-10-30T17:12:01.107153Z",
     "iopub.status.busy": "2020-10-30T17:12:01.106154Z",
     "iopub.status.idle": "2020-10-30T17:12:01.138155Z",
     "shell.execute_reply": "2020-10-30T17:12:01.136156Z",
     "shell.execute_reply.started": "2020-10-30T17:12:01.107153Z"
    }
   },
   "outputs": [],
   "source": [
    "countries = {'ID':[\"EU101\",\"AS101\",\"EU103\",\"EU102\",\"US111\"],\n",
    "             'Country': [\"Germany\", \"India\", \"Belgium\", \"Austria\",\n",
    "                         \"Mexico\"\n",
    "                        ]\n",
    "            }\n",
    "\n",
    "states = {'Countryname': [\"France\", \"India\", \"Belgium\", \"Japan\", \"Mexico\",\"Spain\"],\n",
    "          'statecount': [15, 7, 10, 9, 32, 10]\n",
    "         }\n",
    "\n",
    "europe ={'ID':[\"EU101\",\"AS101\",\"EU103\",\"EU102\",\"US112\"],\n",
    "         'EU_member': [\"Yes\", \"No\", \"No\", \"No\", \"No\"],\n",
    "         'Airports': [36,126,5,6,77]\n",
    "        }\n",
    "\n",
    "df_one = pd.DataFrame(countries, index = [0,1,2,3,4])\n",
    "df_two = pd.DataFrame(states, index = [1,2,3,4,5,6])\n",
    "df_three = pd.DataFrame(europe, index = [0,1,2,3,4])"
   ]
  },
  {
   "cell_type": "code",
   "execution_count": 4,
   "metadata": {
    "execution": {
     "iopub.execute_input": "2020-10-30T17:12:27.900479Z",
     "iopub.status.busy": "2020-10-30T17:12:27.899490Z",
     "iopub.status.idle": "2020-10-30T17:12:27.967113Z",
     "shell.execute_reply": "2020-10-30T17:12:27.959111Z",
     "shell.execute_reply.started": "2020-10-30T17:12:27.900479Z"
    }
   },
   "outputs": [
    {
     "data": {
      "text/html": [
       "<div>\n",
       "<style scoped>\n",
       "    .dataframe tbody tr th:only-of-type {\n",
       "        vertical-align: middle;\n",
       "    }\n",
       "\n",
       "    .dataframe tbody tr th {\n",
       "        vertical-align: top;\n",
       "    }\n",
       "\n",
       "    .dataframe thead th {\n",
       "        text-align: right;\n",
       "    }\n",
       "</style>\n",
       "<table border=\"1\" class=\"dataframe\">\n",
       "  <thead>\n",
       "    <tr style=\"text-align: right;\">\n",
       "      <th></th>\n",
       "      <th>ID</th>\n",
       "      <th>Country</th>\n",
       "    </tr>\n",
       "  </thead>\n",
       "  <tbody>\n",
       "    <tr>\n",
       "      <th>0</th>\n",
       "      <td>EU101</td>\n",
       "      <td>Germany</td>\n",
       "    </tr>\n",
       "    <tr>\n",
       "      <th>1</th>\n",
       "      <td>AS101</td>\n",
       "      <td>India</td>\n",
       "    </tr>\n",
       "    <tr>\n",
       "      <th>2</th>\n",
       "      <td>EU103</td>\n",
       "      <td>Belgium</td>\n",
       "    </tr>\n",
       "    <tr>\n",
       "      <th>3</th>\n",
       "      <td>EU102</td>\n",
       "      <td>Austria</td>\n",
       "    </tr>\n",
       "    <tr>\n",
       "      <th>4</th>\n",
       "      <td>US111</td>\n",
       "      <td>Mexico</td>\n",
       "    </tr>\n",
       "  </tbody>\n",
       "</table>\n",
       "</div>"
      ],
      "text/plain": [
       "      ID  Country\n",
       "0  EU101  Germany\n",
       "1  AS101    India\n",
       "2  EU103  Belgium\n",
       "3  EU102  Austria\n",
       "4  US111   Mexico"
      ]
     },
     "execution_count": 4,
     "metadata": {},
     "output_type": "execute_result"
    }
   ],
   "source": [
    "df_one"
   ]
  },
  {
   "cell_type": "code",
   "execution_count": 5,
   "metadata": {
    "execution": {
     "iopub.execute_input": "2020-10-30T17:12:49.621036Z",
     "iopub.status.busy": "2020-10-30T17:12:49.621036Z",
     "iopub.status.idle": "2020-10-30T17:12:49.646036Z",
     "shell.execute_reply": "2020-10-30T17:12:49.644040Z",
     "shell.execute_reply.started": "2020-10-30T17:12:49.621036Z"
    }
   },
   "outputs": [
    {
     "data": {
      "text/html": [
       "<div>\n",
       "<style scoped>\n",
       "    .dataframe tbody tr th:only-of-type {\n",
       "        vertical-align: middle;\n",
       "    }\n",
       "\n",
       "    .dataframe tbody tr th {\n",
       "        vertical-align: top;\n",
       "    }\n",
       "\n",
       "    .dataframe thead th {\n",
       "        text-align: right;\n",
       "    }\n",
       "</style>\n",
       "<table border=\"1\" class=\"dataframe\">\n",
       "  <thead>\n",
       "    <tr style=\"text-align: right;\">\n",
       "      <th></th>\n",
       "      <th>Countryname</th>\n",
       "      <th>statecount</th>\n",
       "    </tr>\n",
       "  </thead>\n",
       "  <tbody>\n",
       "    <tr>\n",
       "      <th>1</th>\n",
       "      <td>France</td>\n",
       "      <td>15</td>\n",
       "    </tr>\n",
       "    <tr>\n",
       "      <th>2</th>\n",
       "      <td>India</td>\n",
       "      <td>7</td>\n",
       "    </tr>\n",
       "    <tr>\n",
       "      <th>3</th>\n",
       "      <td>Belgium</td>\n",
       "      <td>10</td>\n",
       "    </tr>\n",
       "    <tr>\n",
       "      <th>4</th>\n",
       "      <td>Japan</td>\n",
       "      <td>9</td>\n",
       "    </tr>\n",
       "    <tr>\n",
       "      <th>5</th>\n",
       "      <td>Mexico</td>\n",
       "      <td>32</td>\n",
       "    </tr>\n",
       "    <tr>\n",
       "      <th>6</th>\n",
       "      <td>Spain</td>\n",
       "      <td>10</td>\n",
       "    </tr>\n",
       "  </tbody>\n",
       "</table>\n",
       "</div>"
      ],
      "text/plain": [
       "  Countryname  statecount\n",
       "1      France          15\n",
       "2       India           7\n",
       "3     Belgium          10\n",
       "4       Japan           9\n",
       "5      Mexico          32\n",
       "6       Spain          10"
      ]
     },
     "execution_count": 5,
     "metadata": {},
     "output_type": "execute_result"
    }
   ],
   "source": [
    "df_two"
   ]
  },
  {
   "cell_type": "code",
   "execution_count": 6,
   "metadata": {
    "execution": {
     "iopub.execute_input": "2020-10-30T17:13:19.981156Z",
     "iopub.status.busy": "2020-10-30T17:13:19.980156Z",
     "iopub.status.idle": "2020-10-30T17:13:19.999156Z",
     "shell.execute_reply": "2020-10-30T17:13:19.998157Z",
     "shell.execute_reply.started": "2020-10-30T17:13:19.981156Z"
    }
   },
   "outputs": [
    {
     "data": {
      "text/html": [
       "<div>\n",
       "<style scoped>\n",
       "    .dataframe tbody tr th:only-of-type {\n",
       "        vertical-align: middle;\n",
       "    }\n",
       "\n",
       "    .dataframe tbody tr th {\n",
       "        vertical-align: top;\n",
       "    }\n",
       "\n",
       "    .dataframe thead th {\n",
       "        text-align: right;\n",
       "    }\n",
       "</style>\n",
       "<table border=\"1\" class=\"dataframe\">\n",
       "  <thead>\n",
       "    <tr style=\"text-align: right;\">\n",
       "      <th></th>\n",
       "      <th>ID</th>\n",
       "      <th>EU_member</th>\n",
       "      <th>Airports</th>\n",
       "    </tr>\n",
       "  </thead>\n",
       "  <tbody>\n",
       "    <tr>\n",
       "      <th>0</th>\n",
       "      <td>EU101</td>\n",
       "      <td>Yes</td>\n",
       "      <td>36</td>\n",
       "    </tr>\n",
       "    <tr>\n",
       "      <th>1</th>\n",
       "      <td>AS101</td>\n",
       "      <td>No</td>\n",
       "      <td>126</td>\n",
       "    </tr>\n",
       "    <tr>\n",
       "      <th>2</th>\n",
       "      <td>EU103</td>\n",
       "      <td>No</td>\n",
       "      <td>5</td>\n",
       "    </tr>\n",
       "    <tr>\n",
       "      <th>3</th>\n",
       "      <td>EU102</td>\n",
       "      <td>No</td>\n",
       "      <td>6</td>\n",
       "    </tr>\n",
       "    <tr>\n",
       "      <th>4</th>\n",
       "      <td>US112</td>\n",
       "      <td>No</td>\n",
       "      <td>77</td>\n",
       "    </tr>\n",
       "  </tbody>\n",
       "</table>\n",
       "</div>"
      ],
      "text/plain": [
       "      ID EU_member  Airports\n",
       "0  EU101       Yes        36\n",
       "1  AS101        No       126\n",
       "2  EU103        No         5\n",
       "3  EU102        No         6\n",
       "4  US112        No        77"
      ]
     },
     "execution_count": 6,
     "metadata": {},
     "output_type": "execute_result"
    }
   ],
   "source": [
    "df_three"
   ]
  },
  {
   "cell_type": "markdown",
   "metadata": {
    "execution": {
     "iopub.execute_input": "2020-10-30T17:14:11.687808Z",
     "iopub.status.busy": "2020-10-30T17:14:11.687808Z",
     "iopub.status.idle": "2020-10-30T17:14:11.698808Z",
     "shell.execute_reply": "2020-10-30T17:14:11.696812Z",
     "shell.execute_reply.started": "2020-10-30T17:14:11.687808Z"
    }
   },
   "source": [
    "# 1. Concat()"
   ]
  },
  {
   "cell_type": "code",
   "execution_count": 8,
   "metadata": {
    "execution": {
     "iopub.execute_input": "2020-10-30T17:17:43.565866Z",
     "iopub.status.busy": "2020-10-30T17:17:43.564864Z",
     "iopub.status.idle": "2020-10-30T17:17:43.584864Z",
     "shell.execute_reply": "2020-10-30T17:17:43.582864Z",
     "shell.execute_reply.started": "2020-10-30T17:17:43.565866Z"
    }
   },
   "outputs": [],
   "source": [
    "df_four = pd.concat([df_one, df_two])"
   ]
  },
  {
   "cell_type": "code",
   "execution_count": 9,
   "metadata": {
    "execution": {
     "iopub.execute_input": "2020-10-30T17:17:49.486107Z",
     "iopub.status.busy": "2020-10-30T17:17:49.485106Z",
     "iopub.status.idle": "2020-10-30T17:17:49.516105Z",
     "shell.execute_reply": "2020-10-30T17:17:49.514106Z",
     "shell.execute_reply.started": "2020-10-30T17:17:49.486107Z"
    }
   },
   "outputs": [
    {
     "data": {
      "text/html": [
       "<div>\n",
       "<style scoped>\n",
       "    .dataframe tbody tr th:only-of-type {\n",
       "        vertical-align: middle;\n",
       "    }\n",
       "\n",
       "    .dataframe tbody tr th {\n",
       "        vertical-align: top;\n",
       "    }\n",
       "\n",
       "    .dataframe thead th {\n",
       "        text-align: right;\n",
       "    }\n",
       "</style>\n",
       "<table border=\"1\" class=\"dataframe\">\n",
       "  <thead>\n",
       "    <tr style=\"text-align: right;\">\n",
       "      <th></th>\n",
       "      <th>ID</th>\n",
       "      <th>Country</th>\n",
       "      <th>Countryname</th>\n",
       "      <th>statecount</th>\n",
       "    </tr>\n",
       "  </thead>\n",
       "  <tbody>\n",
       "    <tr>\n",
       "      <th>0</th>\n",
       "      <td>EU101</td>\n",
       "      <td>Germany</td>\n",
       "      <td>NaN</td>\n",
       "      <td>NaN</td>\n",
       "    </tr>\n",
       "    <tr>\n",
       "      <th>1</th>\n",
       "      <td>AS101</td>\n",
       "      <td>India</td>\n",
       "      <td>NaN</td>\n",
       "      <td>NaN</td>\n",
       "    </tr>\n",
       "    <tr>\n",
       "      <th>2</th>\n",
       "      <td>EU103</td>\n",
       "      <td>Belgium</td>\n",
       "      <td>NaN</td>\n",
       "      <td>NaN</td>\n",
       "    </tr>\n",
       "    <tr>\n",
       "      <th>3</th>\n",
       "      <td>EU102</td>\n",
       "      <td>Austria</td>\n",
       "      <td>NaN</td>\n",
       "      <td>NaN</td>\n",
       "    </tr>\n",
       "    <tr>\n",
       "      <th>4</th>\n",
       "      <td>US111</td>\n",
       "      <td>Mexico</td>\n",
       "      <td>NaN</td>\n",
       "      <td>NaN</td>\n",
       "    </tr>\n",
       "    <tr>\n",
       "      <th>1</th>\n",
       "      <td>NaN</td>\n",
       "      <td>NaN</td>\n",
       "      <td>France</td>\n",
       "      <td>15.0</td>\n",
       "    </tr>\n",
       "    <tr>\n",
       "      <th>2</th>\n",
       "      <td>NaN</td>\n",
       "      <td>NaN</td>\n",
       "      <td>India</td>\n",
       "      <td>7.0</td>\n",
       "    </tr>\n",
       "    <tr>\n",
       "      <th>3</th>\n",
       "      <td>NaN</td>\n",
       "      <td>NaN</td>\n",
       "      <td>Belgium</td>\n",
       "      <td>10.0</td>\n",
       "    </tr>\n",
       "    <tr>\n",
       "      <th>4</th>\n",
       "      <td>NaN</td>\n",
       "      <td>NaN</td>\n",
       "      <td>Japan</td>\n",
       "      <td>9.0</td>\n",
       "    </tr>\n",
       "    <tr>\n",
       "      <th>5</th>\n",
       "      <td>NaN</td>\n",
       "      <td>NaN</td>\n",
       "      <td>Mexico</td>\n",
       "      <td>32.0</td>\n",
       "    </tr>\n",
       "    <tr>\n",
       "      <th>6</th>\n",
       "      <td>NaN</td>\n",
       "      <td>NaN</td>\n",
       "      <td>Spain</td>\n",
       "      <td>10.0</td>\n",
       "    </tr>\n",
       "  </tbody>\n",
       "</table>\n",
       "</div>"
      ],
      "text/plain": [
       "      ID  Country Countryname  statecount\n",
       "0  EU101  Germany         NaN         NaN\n",
       "1  AS101    India         NaN         NaN\n",
       "2  EU103  Belgium         NaN         NaN\n",
       "3  EU102  Austria         NaN         NaN\n",
       "4  US111   Mexico         NaN         NaN\n",
       "1    NaN      NaN      France        15.0\n",
       "2    NaN      NaN       India         7.0\n",
       "3    NaN      NaN     Belgium        10.0\n",
       "4    NaN      NaN       Japan         9.0\n",
       "5    NaN      NaN      Mexico        32.0\n",
       "6    NaN      NaN       Spain        10.0"
      ]
     },
     "execution_count": 9,
     "metadata": {},
     "output_type": "execute_result"
    }
   ],
   "source": [
    "df_four"
   ]
  },
  {
   "cell_type": "code",
   "execution_count": 10,
   "metadata": {
    "execution": {
     "iopub.execute_input": "2020-10-30T17:23:03.392440Z",
     "iopub.status.busy": "2020-10-30T17:23:03.391441Z",
     "iopub.status.idle": "2020-10-30T17:23:03.408440Z",
     "shell.execute_reply": "2020-10-30T17:23:03.406440Z",
     "shell.execute_reply.started": "2020-10-30T17:23:03.392440Z"
    }
   },
   "outputs": [],
   "source": [
    "df_four = pd.concat([df_one, df_two], axis=1)"
   ]
  },
  {
   "cell_type": "code",
   "execution_count": 11,
   "metadata": {
    "execution": {
     "iopub.execute_input": "2020-10-30T17:23:09.644904Z",
     "iopub.status.busy": "2020-10-30T17:23:09.643903Z",
     "iopub.status.idle": "2020-10-30T17:23:09.683904Z",
     "shell.execute_reply": "2020-10-30T17:23:09.680903Z",
     "shell.execute_reply.started": "2020-10-30T17:23:09.644904Z"
    }
   },
   "outputs": [
    {
     "data": {
      "text/html": [
       "<div>\n",
       "<style scoped>\n",
       "    .dataframe tbody tr th:only-of-type {\n",
       "        vertical-align: middle;\n",
       "    }\n",
       "\n",
       "    .dataframe tbody tr th {\n",
       "        vertical-align: top;\n",
       "    }\n",
       "\n",
       "    .dataframe thead th {\n",
       "        text-align: right;\n",
       "    }\n",
       "</style>\n",
       "<table border=\"1\" class=\"dataframe\">\n",
       "  <thead>\n",
       "    <tr style=\"text-align: right;\">\n",
       "      <th></th>\n",
       "      <th>ID</th>\n",
       "      <th>Country</th>\n",
       "      <th>Countryname</th>\n",
       "      <th>statecount</th>\n",
       "    </tr>\n",
       "  </thead>\n",
       "  <tbody>\n",
       "    <tr>\n",
       "      <th>0</th>\n",
       "      <td>EU101</td>\n",
       "      <td>Germany</td>\n",
       "      <td>NaN</td>\n",
       "      <td>NaN</td>\n",
       "    </tr>\n",
       "    <tr>\n",
       "      <th>1</th>\n",
       "      <td>AS101</td>\n",
       "      <td>India</td>\n",
       "      <td>France</td>\n",
       "      <td>15.0</td>\n",
       "    </tr>\n",
       "    <tr>\n",
       "      <th>2</th>\n",
       "      <td>EU103</td>\n",
       "      <td>Belgium</td>\n",
       "      <td>India</td>\n",
       "      <td>7.0</td>\n",
       "    </tr>\n",
       "    <tr>\n",
       "      <th>3</th>\n",
       "      <td>EU102</td>\n",
       "      <td>Austria</td>\n",
       "      <td>Belgium</td>\n",
       "      <td>10.0</td>\n",
       "    </tr>\n",
       "    <tr>\n",
       "      <th>4</th>\n",
       "      <td>US111</td>\n",
       "      <td>Mexico</td>\n",
       "      <td>Japan</td>\n",
       "      <td>9.0</td>\n",
       "    </tr>\n",
       "    <tr>\n",
       "      <th>5</th>\n",
       "      <td>NaN</td>\n",
       "      <td>NaN</td>\n",
       "      <td>Mexico</td>\n",
       "      <td>32.0</td>\n",
       "    </tr>\n",
       "    <tr>\n",
       "      <th>6</th>\n",
       "      <td>NaN</td>\n",
       "      <td>NaN</td>\n",
       "      <td>Spain</td>\n",
       "      <td>10.0</td>\n",
       "    </tr>\n",
       "  </tbody>\n",
       "</table>\n",
       "</div>"
      ],
      "text/plain": [
       "      ID  Country Countryname  statecount\n",
       "0  EU101  Germany         NaN         NaN\n",
       "1  AS101    India      France        15.0\n",
       "2  EU103  Belgium       India         7.0\n",
       "3  EU102  Austria     Belgium        10.0\n",
       "4  US111   Mexico       Japan         9.0\n",
       "5    NaN      NaN      Mexico        32.0\n",
       "6    NaN      NaN       Spain        10.0"
      ]
     },
     "execution_count": 11,
     "metadata": {},
     "output_type": "execute_result"
    }
   ],
   "source": [
    "df_four"
   ]
  },
  {
   "cell_type": "code",
   "execution_count": 12,
   "metadata": {
    "execution": {
     "iopub.execute_input": "2020-10-30T17:29:14.541401Z",
     "iopub.status.busy": "2020-10-30T17:29:14.541401Z",
     "iopub.status.idle": "2020-10-30T17:29:14.554402Z",
     "shell.execute_reply": "2020-10-30T17:29:14.552400Z",
     "shell.execute_reply.started": "2020-10-30T17:29:14.541401Z"
    }
   },
   "outputs": [],
   "source": [
    "df_four = pd.concat([df_one, df_two], keys=[\"df_one\", \"df_two\"])"
   ]
  },
  {
   "cell_type": "code",
   "execution_count": 13,
   "metadata": {
    "execution": {
     "iopub.execute_input": "2020-10-30T17:29:18.341444Z",
     "iopub.status.busy": "2020-10-30T17:29:18.339444Z",
     "iopub.status.idle": "2020-10-30T17:29:18.397442Z",
     "shell.execute_reply": "2020-10-30T17:29:18.395444Z",
     "shell.execute_reply.started": "2020-10-30T17:29:18.341444Z"
    }
   },
   "outputs": [
    {
     "data": {
      "text/html": [
       "<div>\n",
       "<style scoped>\n",
       "    .dataframe tbody tr th:only-of-type {\n",
       "        vertical-align: middle;\n",
       "    }\n",
       "\n",
       "    .dataframe tbody tr th {\n",
       "        vertical-align: top;\n",
       "    }\n",
       "\n",
       "    .dataframe thead th {\n",
       "        text-align: right;\n",
       "    }\n",
       "</style>\n",
       "<table border=\"1\" class=\"dataframe\">\n",
       "  <thead>\n",
       "    <tr style=\"text-align: right;\">\n",
       "      <th></th>\n",
       "      <th></th>\n",
       "      <th>ID</th>\n",
       "      <th>Country</th>\n",
       "      <th>Countryname</th>\n",
       "      <th>statecount</th>\n",
       "    </tr>\n",
       "  </thead>\n",
       "  <tbody>\n",
       "    <tr>\n",
       "      <th rowspan=\"5\" valign=\"top\">df_one</th>\n",
       "      <th>0</th>\n",
       "      <td>EU101</td>\n",
       "      <td>Germany</td>\n",
       "      <td>NaN</td>\n",
       "      <td>NaN</td>\n",
       "    </tr>\n",
       "    <tr>\n",
       "      <th>1</th>\n",
       "      <td>AS101</td>\n",
       "      <td>India</td>\n",
       "      <td>NaN</td>\n",
       "      <td>NaN</td>\n",
       "    </tr>\n",
       "    <tr>\n",
       "      <th>2</th>\n",
       "      <td>EU103</td>\n",
       "      <td>Belgium</td>\n",
       "      <td>NaN</td>\n",
       "      <td>NaN</td>\n",
       "    </tr>\n",
       "    <tr>\n",
       "      <th>3</th>\n",
       "      <td>EU102</td>\n",
       "      <td>Austria</td>\n",
       "      <td>NaN</td>\n",
       "      <td>NaN</td>\n",
       "    </tr>\n",
       "    <tr>\n",
       "      <th>4</th>\n",
       "      <td>US111</td>\n",
       "      <td>Mexico</td>\n",
       "      <td>NaN</td>\n",
       "      <td>NaN</td>\n",
       "    </tr>\n",
       "    <tr>\n",
       "      <th rowspan=\"6\" valign=\"top\">df_two</th>\n",
       "      <th>1</th>\n",
       "      <td>NaN</td>\n",
       "      <td>NaN</td>\n",
       "      <td>France</td>\n",
       "      <td>15.0</td>\n",
       "    </tr>\n",
       "    <tr>\n",
       "      <th>2</th>\n",
       "      <td>NaN</td>\n",
       "      <td>NaN</td>\n",
       "      <td>India</td>\n",
       "      <td>7.0</td>\n",
       "    </tr>\n",
       "    <tr>\n",
       "      <th>3</th>\n",
       "      <td>NaN</td>\n",
       "      <td>NaN</td>\n",
       "      <td>Belgium</td>\n",
       "      <td>10.0</td>\n",
       "    </tr>\n",
       "    <tr>\n",
       "      <th>4</th>\n",
       "      <td>NaN</td>\n",
       "      <td>NaN</td>\n",
       "      <td>Japan</td>\n",
       "      <td>9.0</td>\n",
       "    </tr>\n",
       "    <tr>\n",
       "      <th>5</th>\n",
       "      <td>NaN</td>\n",
       "      <td>NaN</td>\n",
       "      <td>Mexico</td>\n",
       "      <td>32.0</td>\n",
       "    </tr>\n",
       "    <tr>\n",
       "      <th>6</th>\n",
       "      <td>NaN</td>\n",
       "      <td>NaN</td>\n",
       "      <td>Spain</td>\n",
       "      <td>10.0</td>\n",
       "    </tr>\n",
       "  </tbody>\n",
       "</table>\n",
       "</div>"
      ],
      "text/plain": [
       "             ID  Country Countryname  statecount\n",
       "df_one 0  EU101  Germany         NaN         NaN\n",
       "       1  AS101    India         NaN         NaN\n",
       "       2  EU103  Belgium         NaN         NaN\n",
       "       3  EU102  Austria         NaN         NaN\n",
       "       4  US111   Mexico         NaN         NaN\n",
       "df_two 1    NaN      NaN      France        15.0\n",
       "       2    NaN      NaN       India         7.0\n",
       "       3    NaN      NaN     Belgium        10.0\n",
       "       4    NaN      NaN       Japan         9.0\n",
       "       5    NaN      NaN      Mexico        32.0\n",
       "       6    NaN      NaN       Spain        10.0"
      ]
     },
     "execution_count": 13,
     "metadata": {},
     "output_type": "execute_result"
    }
   ],
   "source": [
    "df_four"
   ]
  },
  {
   "cell_type": "markdown",
   "metadata": {
    "execution": {
     "iopub.execute_input": "2020-10-30T17:34:42.907529Z",
     "iopub.status.busy": "2020-10-30T17:34:42.905527Z",
     "iopub.status.idle": "2020-10-30T17:34:42.920523Z",
     "shell.execute_reply": "2020-10-30T17:34:42.918529Z",
     "shell.execute_reply.started": "2020-10-30T17:34:42.906525Z"
    }
   },
   "source": [
    "## 1 outer : Union of DataFrames"
   ]
  },
  {
   "cell_type": "code",
   "execution_count": 15,
   "metadata": {
    "execution": {
     "iopub.execute_input": "2020-10-30T17:37:19.457436Z",
     "iopub.status.busy": "2020-10-30T17:37:19.456437Z",
     "iopub.status.idle": "2020-10-30T17:37:19.478438Z",
     "shell.execute_reply": "2020-10-30T17:37:19.475436Z",
     "shell.execute_reply.started": "2020-10-30T17:37:19.457436Z"
    }
   },
   "outputs": [],
   "source": [
    "df_five = pd.concat([df_one, df_two], axis=1, join=\"outer\", \n",
    "                    keys=[\"df_one\", \"df_two\"])"
   ]
  },
  {
   "cell_type": "code",
   "execution_count": 16,
   "metadata": {
    "execution": {
     "iopub.execute_input": "2020-10-30T17:37:27.983002Z",
     "iopub.status.busy": "2020-10-30T17:37:27.981996Z",
     "iopub.status.idle": "2020-10-30T17:37:28.020000Z",
     "shell.execute_reply": "2020-10-30T17:37:28.017999Z",
     "shell.execute_reply.started": "2020-10-30T17:37:27.983002Z"
    }
   },
   "outputs": [
    {
     "data": {
      "text/html": [
       "<div>\n",
       "<style scoped>\n",
       "    .dataframe tbody tr th:only-of-type {\n",
       "        vertical-align: middle;\n",
       "    }\n",
       "\n",
       "    .dataframe tbody tr th {\n",
       "        vertical-align: top;\n",
       "    }\n",
       "\n",
       "    .dataframe thead tr th {\n",
       "        text-align: left;\n",
       "    }\n",
       "</style>\n",
       "<table border=\"1\" class=\"dataframe\">\n",
       "  <thead>\n",
       "    <tr>\n",
       "      <th></th>\n",
       "      <th colspan=\"2\" halign=\"left\">df_one</th>\n",
       "      <th colspan=\"2\" halign=\"left\">df_two</th>\n",
       "    </tr>\n",
       "    <tr>\n",
       "      <th></th>\n",
       "      <th>ID</th>\n",
       "      <th>Country</th>\n",
       "      <th>Countryname</th>\n",
       "      <th>statecount</th>\n",
       "    </tr>\n",
       "  </thead>\n",
       "  <tbody>\n",
       "    <tr>\n",
       "      <th>0</th>\n",
       "      <td>EU101</td>\n",
       "      <td>Germany</td>\n",
       "      <td>NaN</td>\n",
       "      <td>NaN</td>\n",
       "    </tr>\n",
       "    <tr>\n",
       "      <th>1</th>\n",
       "      <td>AS101</td>\n",
       "      <td>India</td>\n",
       "      <td>France</td>\n",
       "      <td>15.0</td>\n",
       "    </tr>\n",
       "    <tr>\n",
       "      <th>2</th>\n",
       "      <td>EU103</td>\n",
       "      <td>Belgium</td>\n",
       "      <td>India</td>\n",
       "      <td>7.0</td>\n",
       "    </tr>\n",
       "    <tr>\n",
       "      <th>3</th>\n",
       "      <td>EU102</td>\n",
       "      <td>Austria</td>\n",
       "      <td>Belgium</td>\n",
       "      <td>10.0</td>\n",
       "    </tr>\n",
       "    <tr>\n",
       "      <th>4</th>\n",
       "      <td>US111</td>\n",
       "      <td>Mexico</td>\n",
       "      <td>Japan</td>\n",
       "      <td>9.0</td>\n",
       "    </tr>\n",
       "    <tr>\n",
       "      <th>5</th>\n",
       "      <td>NaN</td>\n",
       "      <td>NaN</td>\n",
       "      <td>Mexico</td>\n",
       "      <td>32.0</td>\n",
       "    </tr>\n",
       "    <tr>\n",
       "      <th>6</th>\n",
       "      <td>NaN</td>\n",
       "      <td>NaN</td>\n",
       "      <td>Spain</td>\n",
       "      <td>10.0</td>\n",
       "    </tr>\n",
       "  </tbody>\n",
       "</table>\n",
       "</div>"
      ],
      "text/plain": [
       "  df_one               df_two           \n",
       "      ID  Country Countryname statecount\n",
       "0  EU101  Germany         NaN        NaN\n",
       "1  AS101    India      France       15.0\n",
       "2  EU103  Belgium       India        7.0\n",
       "3  EU102  Austria     Belgium       10.0\n",
       "4  US111   Mexico       Japan        9.0\n",
       "5    NaN      NaN      Mexico       32.0\n",
       "6    NaN      NaN       Spain       10.0"
      ]
     },
     "execution_count": 16,
     "metadata": {},
     "output_type": "execute_result"
    }
   ],
   "source": [
    "df_five"
   ]
  },
  {
   "cell_type": "markdown",
   "metadata": {},
   "source": [
    "## 1 inner : Intersection of DataFrames"
   ]
  },
  {
   "cell_type": "code",
   "execution_count": 17,
   "metadata": {
    "execution": {
     "iopub.execute_input": "2020-10-30T18:05:17.387794Z",
     "iopub.status.busy": "2020-10-30T18:05:17.386789Z",
     "iopub.status.idle": "2020-10-30T18:05:17.408786Z",
     "shell.execute_reply": "2020-10-30T18:05:17.406787Z",
     "shell.execute_reply.started": "2020-10-30T18:05:17.387794Z"
    }
   },
   "outputs": [],
   "source": [
    "df_five = pd.concat([df_one, df_two], axis=1, join=\"inner\", \n",
    "                    keys=[\"df_one\", \"df_two\"])"
   ]
  },
  {
   "cell_type": "code",
   "execution_count": 18,
   "metadata": {
    "execution": {
     "iopub.execute_input": "2020-10-30T18:05:21.025922Z",
     "iopub.status.busy": "2020-10-30T18:05:21.025922Z",
     "iopub.status.idle": "2020-10-30T18:05:21.054660Z",
     "shell.execute_reply": "2020-10-30T18:05:21.052658Z",
     "shell.execute_reply.started": "2020-10-30T18:05:21.025922Z"
    }
   },
   "outputs": [
    {
     "data": {
      "text/html": [
       "<div>\n",
       "<style scoped>\n",
       "    .dataframe tbody tr th:only-of-type {\n",
       "        vertical-align: middle;\n",
       "    }\n",
       "\n",
       "    .dataframe tbody tr th {\n",
       "        vertical-align: top;\n",
       "    }\n",
       "\n",
       "    .dataframe thead tr th {\n",
       "        text-align: left;\n",
       "    }\n",
       "</style>\n",
       "<table border=\"1\" class=\"dataframe\">\n",
       "  <thead>\n",
       "    <tr>\n",
       "      <th></th>\n",
       "      <th colspan=\"2\" halign=\"left\">df_one</th>\n",
       "      <th colspan=\"2\" halign=\"left\">df_two</th>\n",
       "    </tr>\n",
       "    <tr>\n",
       "      <th></th>\n",
       "      <th>ID</th>\n",
       "      <th>Country</th>\n",
       "      <th>Countryname</th>\n",
       "      <th>statecount</th>\n",
       "    </tr>\n",
       "  </thead>\n",
       "  <tbody>\n",
       "    <tr>\n",
       "      <th>1</th>\n",
       "      <td>AS101</td>\n",
       "      <td>India</td>\n",
       "      <td>France</td>\n",
       "      <td>15</td>\n",
       "    </tr>\n",
       "    <tr>\n",
       "      <th>2</th>\n",
       "      <td>EU103</td>\n",
       "      <td>Belgium</td>\n",
       "      <td>India</td>\n",
       "      <td>7</td>\n",
       "    </tr>\n",
       "    <tr>\n",
       "      <th>3</th>\n",
       "      <td>EU102</td>\n",
       "      <td>Austria</td>\n",
       "      <td>Belgium</td>\n",
       "      <td>10</td>\n",
       "    </tr>\n",
       "    <tr>\n",
       "      <th>4</th>\n",
       "      <td>US111</td>\n",
       "      <td>Mexico</td>\n",
       "      <td>Japan</td>\n",
       "      <td>9</td>\n",
       "    </tr>\n",
       "  </tbody>\n",
       "</table>\n",
       "</div>"
      ],
      "text/plain": [
       "  df_one               df_two           \n",
       "      ID  Country Countryname statecount\n",
       "1  AS101    India      France         15\n",
       "2  EU103  Belgium       India          7\n",
       "3  EU102  Austria     Belgium         10\n",
       "4  US111   Mexico       Japan          9"
      ]
     },
     "execution_count": 18,
     "metadata": {},
     "output_type": "execute_result"
    }
   ],
   "source": [
    "df_five"
   ]
  },
  {
   "cell_type": "markdown",
   "metadata": {},
   "source": [
    "# 2. merge()"
   ]
  },
  {
   "cell_type": "code",
   "execution_count": 19,
   "metadata": {
    "execution": {
     "iopub.execute_input": "2020-10-30T18:11:11.320677Z",
     "iopub.status.busy": "2020-10-30T18:11:11.320677Z",
     "iopub.status.idle": "2020-10-30T18:11:11.336674Z",
     "shell.execute_reply": "2020-10-30T18:11:11.334672Z",
     "shell.execute_reply.started": "2020-10-30T18:11:11.320677Z"
    }
   },
   "outputs": [],
   "source": [
    "df_four = df_one.merge(df_three)"
   ]
  },
  {
   "cell_type": "code",
   "execution_count": 20,
   "metadata": {
    "execution": {
     "iopub.execute_input": "2020-10-30T18:11:29.955394Z",
     "iopub.status.busy": "2020-10-30T18:11:29.954396Z",
     "iopub.status.idle": "2020-10-30T18:11:29.974394Z",
     "shell.execute_reply": "2020-10-30T18:11:29.972394Z",
     "shell.execute_reply.started": "2020-10-30T18:11:29.955394Z"
    }
   },
   "outputs": [
    {
     "data": {
      "text/html": [
       "<div>\n",
       "<style scoped>\n",
       "    .dataframe tbody tr th:only-of-type {\n",
       "        vertical-align: middle;\n",
       "    }\n",
       "\n",
       "    .dataframe tbody tr th {\n",
       "        vertical-align: top;\n",
       "    }\n",
       "\n",
       "    .dataframe thead th {\n",
       "        text-align: right;\n",
       "    }\n",
       "</style>\n",
       "<table border=\"1\" class=\"dataframe\">\n",
       "  <thead>\n",
       "    <tr style=\"text-align: right;\">\n",
       "      <th></th>\n",
       "      <th>ID</th>\n",
       "      <th>Country</th>\n",
       "      <th>EU_member</th>\n",
       "      <th>Airports</th>\n",
       "    </tr>\n",
       "  </thead>\n",
       "  <tbody>\n",
       "    <tr>\n",
       "      <th>0</th>\n",
       "      <td>EU101</td>\n",
       "      <td>Germany</td>\n",
       "      <td>Yes</td>\n",
       "      <td>36</td>\n",
       "    </tr>\n",
       "    <tr>\n",
       "      <th>1</th>\n",
       "      <td>AS101</td>\n",
       "      <td>India</td>\n",
       "      <td>No</td>\n",
       "      <td>126</td>\n",
       "    </tr>\n",
       "    <tr>\n",
       "      <th>2</th>\n",
       "      <td>EU103</td>\n",
       "      <td>Belgium</td>\n",
       "      <td>No</td>\n",
       "      <td>5</td>\n",
       "    </tr>\n",
       "    <tr>\n",
       "      <th>3</th>\n",
       "      <td>EU102</td>\n",
       "      <td>Austria</td>\n",
       "      <td>No</td>\n",
       "      <td>6</td>\n",
       "    </tr>\n",
       "  </tbody>\n",
       "</table>\n",
       "</div>"
      ],
      "text/plain": [
       "      ID  Country EU_member  Airports\n",
       "0  EU101  Germany       Yes        36\n",
       "1  AS101    India        No       126\n",
       "2  EU103  Belgium        No         5\n",
       "3  EU102  Austria        No         6"
      ]
     },
     "execution_count": 20,
     "metadata": {},
     "output_type": "execute_result"
    }
   ],
   "source": [
    "df_four"
   ]
  },
  {
   "cell_type": "code",
   "execution_count": null,
   "metadata": {},
   "outputs": [],
   "source": []
  }
 ],
 "metadata": {
  "kernelspec": {
   "display_name": "Python [conda env:main38] *",
   "language": "python",
   "name": "conda-env-main38-py"
  },
  "language_info": {
   "codemirror_mode": {
    "name": "ipython",
    "version": 3
   },
   "file_extension": ".py",
   "mimetype": "text/x-python",
   "name": "python",
   "nbconvert_exporter": "python",
   "pygments_lexer": "ipython3",
   "version": "3.8.6"
  }
 },
 "nbformat": 4,
 "nbformat_minor": 4
}
