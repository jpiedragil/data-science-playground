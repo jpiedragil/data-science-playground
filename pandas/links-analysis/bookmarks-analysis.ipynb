{
 "cells": [
  {
   "cell_type": "markdown",
   "metadata": {},
   "source": [
    "# Bookmark Analysis"
   ]
  },
  {
   "cell_type": "code",
   "execution_count": 1,
   "metadata": {
    "execution": {
     "iopub.execute_input": "2020-09-13T18:33:00.737481Z",
     "iopub.status.busy": "2020-09-13T18:33:00.736484Z",
     "iopub.status.idle": "2020-09-13T18:33:01.573482Z",
     "shell.execute_reply": "2020-09-13T18:33:01.572479Z",
     "shell.execute_reply.started": "2020-09-13T18:33:00.737481Z"
    }
   },
   "outputs": [],
   "source": [
    "import pandas as pd"
   ]
  },
  {
   "cell_type": "code",
   "execution_count": 2,
   "metadata": {
    "execution": {
     "iopub.execute_input": "2020-09-13T18:33:01.994485Z",
     "iopub.status.busy": "2020-09-13T18:33:01.993483Z",
     "iopub.status.idle": "2020-09-13T18:33:02.059482Z",
     "shell.execute_reply": "2020-09-13T18:33:02.058478Z",
     "shell.execute_reply.started": "2020-09-13T18:33:01.994485Z"
    }
   },
   "outputs": [],
   "source": [
    "column_names = [\"URL\", \"Title\", \"Author\", \"Header 4\",\n",
    "                \"Header 5\", \"Header 6\", \"Header 7\",\"Header 8\",\n",
    "                \"Header 9\", \"Header 10\"]\n",
    "\n",
    "lines = []\n",
    "\n",
    "df_links = pd.read_csv(\"./jpiedragil-bookmarks.txt\", sep=\"|\", header=None,\n",
    "                       names=column_names, encoding=\"utf-8\")"
   ]
  },
  {
   "cell_type": "code",
   "execution_count": 3,
   "metadata": {
    "execution": {
     "iopub.execute_input": "2020-09-13T18:33:03.901487Z",
     "iopub.status.busy": "2020-09-13T18:33:03.900484Z",
     "iopub.status.idle": "2020-09-13T18:33:03.940485Z",
     "shell.execute_reply": "2020-09-13T18:33:03.938479Z",
     "shell.execute_reply.started": "2020-09-13T18:33:03.901487Z"
    }
   },
   "outputs": [
    {
     "name": "stdout",
     "output_type": "stream",
     "text": [
      "<class 'pandas.core.frame.DataFrame'>\n",
      "RangeIndex: 6782 entries, 0 to 6781\n",
      "Data columns (total 10 columns):\n",
      " #   Column     Non-Null Count  Dtype  \n",
      "---  ------     --------------  -----  \n",
      " 0   URL        6782 non-null   object \n",
      " 1   Title      6762 non-null   object \n",
      " 2   Author     1947 non-null   object \n",
      " 3   Header 4   449 non-null    object \n",
      " 4   Header 5   280 non-null    object \n",
      " 5   Header 6   100 non-null    object \n",
      " 6   Header 7   2 non-null      object \n",
      " 7   Header 8   0 non-null      float64\n",
      " 8   Header 9   0 non-null      float64\n",
      " 9   Header 10  0 non-null      float64\n",
      "dtypes: float64(3), object(7)\n",
      "memory usage: 530.0+ KB\n"
     ]
    }
   ],
   "source": [
    "df_links.info()"
   ]
  },
  {
   "cell_type": "code",
   "execution_count": 4,
   "metadata": {
    "execution": {
     "iopub.execute_input": "2020-09-13T18:34:07.418482Z",
     "iopub.status.busy": "2020-09-13T18:34:07.417484Z",
     "iopub.status.idle": "2020-09-13T18:34:07.471482Z",
     "shell.execute_reply": "2020-09-13T18:34:07.470481Z",
     "shell.execute_reply.started": "2020-09-13T18:34:07.418482Z"
    }
   },
   "outputs": [
    {
     "data": {
      "text/html": [
       "<div>\n",
       "<style scoped>\n",
       "    .dataframe tbody tr th:only-of-type {\n",
       "        vertical-align: middle;\n",
       "    }\n",
       "\n",
       "    .dataframe tbody tr th {\n",
       "        vertical-align: top;\n",
       "    }\n",
       "\n",
       "    .dataframe thead th {\n",
       "        text-align: right;\n",
       "    }\n",
       "</style>\n",
       "<table border=\"1\" class=\"dataframe\">\n",
       "  <thead>\n",
       "    <tr style=\"text-align: right;\">\n",
       "      <th></th>\n",
       "      <th>URL</th>\n",
       "      <th>Title</th>\n",
       "      <th>Author</th>\n",
       "      <th>Header 4</th>\n",
       "      <th>Header 5</th>\n",
       "      <th>Header 6</th>\n",
       "      <th>Header 7</th>\n",
       "      <th>Header 8</th>\n",
       "      <th>Header 9</th>\n",
       "      <th>Header 10</th>\n",
       "    </tr>\n",
       "  </thead>\n",
       "  <tbody>\n",
       "    <tr>\n",
       "      <th>0</th>\n",
       "      <td>https://medium.com/swlh/what-are-iterables-and...</td>\n",
       "      <td>What are Iterables and Iterators in Python</td>\n",
       "      <td>by Iffat Malik Gore</td>\n",
       "      <td>The Startup</td>\n",
       "      <td>Aug, 2020</td>\n",
       "      <td>Medium</td>\n",
       "      <td>NaN</td>\n",
       "      <td>NaN</td>\n",
       "      <td>NaN</td>\n",
       "      <td>NaN</td>\n",
       "    </tr>\n",
       "    <tr>\n",
       "      <th>1</th>\n",
       "      <td>https://towardsdatascience.com/why-should-data...</td>\n",
       "      <td>Why Should Data Scientists use Functions?</td>\n",
       "      <td>by Renan Lolico</td>\n",
       "      <td>Aug, 2020</td>\n",
       "      <td>Towards Data Science</td>\n",
       "      <td>NaN</td>\n",
       "      <td>NaN</td>\n",
       "      <td>NaN</td>\n",
       "      <td>NaN</td>\n",
       "      <td>NaN</td>\n",
       "    </tr>\n",
       "    <tr>\n",
       "      <th>2</th>\n",
       "      <td>https://medium.com/tenderlymag/if-your-pet-por...</td>\n",
       "      <td>If Your Pet Portraits Don’t Look Like This, Y...</td>\n",
       "      <td>by Jack Shepherd</td>\n",
       "      <td>Aug, 2020</td>\n",
       "      <td>Tenderly</td>\n",
       "      <td>NaN</td>\n",
       "      <td>NaN</td>\n",
       "      <td>NaN</td>\n",
       "      <td>NaN</td>\n",
       "      <td>NaN</td>\n",
       "    </tr>\n",
       "    <tr>\n",
       "      <th>3</th>\n",
       "      <td>https://codeburst.io/open-source-series-automa...</td>\n",
       "      <td>Open Source Series: Automation. How to do mor...</td>\n",
       "      <td>by JeB Barabanov</td>\n",
       "      <td>Aug, 2020</td>\n",
       "      <td>codeburst</td>\n",
       "      <td>NaN</td>\n",
       "      <td>NaN</td>\n",
       "      <td>NaN</td>\n",
       "      <td>NaN</td>\n",
       "      <td>NaN</td>\n",
       "    </tr>\n",
       "    <tr>\n",
       "      <th>4</th>\n",
       "      <td>https://medium.com/better-programming/prisma-v...</td>\n",
       "      <td>Prisma Vs. TypeORM: Database libraries in Nod...</td>\n",
       "      <td>Better Programming</td>\n",
       "      <td>NaN</td>\n",
       "      <td>NaN</td>\n",
       "      <td>NaN</td>\n",
       "      <td>NaN</td>\n",
       "      <td>NaN</td>\n",
       "      <td>NaN</td>\n",
       "      <td>NaN</td>\n",
       "    </tr>\n",
       "  </tbody>\n",
       "</table>\n",
       "</div>"
      ],
      "text/plain": [
       "                                                 URL  \\\n",
       "0  https://medium.com/swlh/what-are-iterables-and...   \n",
       "1  https://towardsdatascience.com/why-should-data...   \n",
       "2  https://medium.com/tenderlymag/if-your-pet-por...   \n",
       "3  https://codeburst.io/open-source-series-automa...   \n",
       "4  https://medium.com/better-programming/prisma-v...   \n",
       "\n",
       "                                               Title                 Author  \\\n",
       "0        What are Iterables and Iterators in Python    by Iffat Malik Gore    \n",
       "1         Why Should Data Scientists use Functions?        by Renan Lolico    \n",
       "2   If Your Pet Portraits Don’t Look Like This, Y...      by Jack Shepherd    \n",
       "3   Open Source Series: Automation. How to do mor...      by JeB Barabanov    \n",
       "4   Prisma Vs. TypeORM: Database libraries in Nod...     Better Programming   \n",
       "\n",
       "        Header 4               Header 5 Header 6 Header 7  Header 8  Header 9  \\\n",
       "0   The Startup              Aug, 2020    Medium      NaN       NaN       NaN   \n",
       "1     Aug, 2020    Towards Data Science      NaN      NaN       NaN       NaN   \n",
       "2     Aug, 2020                Tenderly      NaN      NaN       NaN       NaN   \n",
       "3     Aug, 2020               codeburst      NaN      NaN       NaN       NaN   \n",
       "4            NaN                    NaN      NaN      NaN       NaN       NaN   \n",
       "\n",
       "   Header 10  \n",
       "0        NaN  \n",
       "1        NaN  \n",
       "2        NaN  \n",
       "3        NaN  \n",
       "4        NaN  "
      ]
     },
     "execution_count": 4,
     "metadata": {},
     "output_type": "execute_result"
    }
   ],
   "source": [
    "df_links.head()"
   ]
  },
  {
   "cell_type": "code",
   "execution_count": 5,
   "metadata": {
    "execution": {
     "iopub.execute_input": "2020-09-13T18:34:36.151483Z",
     "iopub.status.busy": "2020-09-13T18:34:36.150484Z",
     "iopub.status.idle": "2020-09-13T18:34:36.200484Z",
     "shell.execute_reply": "2020-09-13T18:34:36.196484Z",
     "shell.execute_reply.started": "2020-09-13T18:34:36.151483Z"
    }
   },
   "outputs": [
    {
     "data": {
      "text/html": [
       "<div>\n",
       "<style scoped>\n",
       "    .dataframe tbody tr th:only-of-type {\n",
       "        vertical-align: middle;\n",
       "    }\n",
       "\n",
       "    .dataframe tbody tr th {\n",
       "        vertical-align: top;\n",
       "    }\n",
       "\n",
       "    .dataframe thead th {\n",
       "        text-align: right;\n",
       "    }\n",
       "</style>\n",
       "<table border=\"1\" class=\"dataframe\">\n",
       "  <thead>\n",
       "    <tr style=\"text-align: right;\">\n",
       "      <th></th>\n",
       "      <th>URL</th>\n",
       "      <th>Title</th>\n",
       "      <th>Author</th>\n",
       "      <th>Header 4</th>\n",
       "      <th>Header 5</th>\n",
       "      <th>Header 6</th>\n",
       "      <th>Header 7</th>\n",
       "      <th>Header 8</th>\n",
       "      <th>Header 9</th>\n",
       "      <th>Header 10</th>\n",
       "    </tr>\n",
       "  </thead>\n",
       "  <tbody>\n",
       "    <tr>\n",
       "      <th>6777</th>\n",
       "      <td>https://jopwellcollection.jopwell.com/</td>\n",
       "      <td>Jopwell</td>\n",
       "      <td>NaN</td>\n",
       "      <td>NaN</td>\n",
       "      <td>NaN</td>\n",
       "      <td>NaN</td>\n",
       "      <td>NaN</td>\n",
       "      <td>NaN</td>\n",
       "      <td>NaN</td>\n",
       "      <td>NaN</td>\n",
       "    </tr>\n",
       "    <tr>\n",
       "      <th>6778</th>\n",
       "      <td>https://www.gettyimages.com/</td>\n",
       "      <td>Royalty Free Stock Photos, Illustrations, Vec...</td>\n",
       "      <td>NaN</td>\n",
       "      <td>NaN</td>\n",
       "      <td>NaN</td>\n",
       "      <td>NaN</td>\n",
       "      <td>NaN</td>\n",
       "      <td>NaN</td>\n",
       "      <td>NaN</td>\n",
       "      <td>NaN</td>\n",
       "    </tr>\n",
       "    <tr>\n",
       "      <th>6779</th>\n",
       "      <td>https://my.bluehost.com/hosting/help/addon-dom...</td>\n",
       "      <td>What Is An Addon Domain And How Does It Work?...</td>\n",
       "      <td>NaN</td>\n",
       "      <td>NaN</td>\n",
       "      <td>NaN</td>\n",
       "      <td>NaN</td>\n",
       "      <td>NaN</td>\n",
       "      <td>NaN</td>\n",
       "      <td>NaN</td>\n",
       "      <td>NaN</td>\n",
       "    </tr>\n",
       "    <tr>\n",
       "      <th>6780</th>\n",
       "      <td>https://medium.com/@GoodMenProject/how-to-lose...</td>\n",
       "      <td>How to Lose a Woman…Forever - The Good Men Pr...</td>\n",
       "      <td>NaN</td>\n",
       "      <td>NaN</td>\n",
       "      <td>NaN</td>\n",
       "      <td>NaN</td>\n",
       "      <td>NaN</td>\n",
       "      <td>NaN</td>\n",
       "      <td>NaN</td>\n",
       "      <td>NaN</td>\n",
       "    </tr>\n",
       "    <tr>\n",
       "      <th>6781</th>\n",
       "      <td>https://my.bluehost.com/hosting/help/addon-dom...</td>\n",
       "      <td>What Is An Addon Domain And How Does It Work?...</td>\n",
       "      <td>NaN</td>\n",
       "      <td>NaN</td>\n",
       "      <td>NaN</td>\n",
       "      <td>NaN</td>\n",
       "      <td>NaN</td>\n",
       "      <td>NaN</td>\n",
       "      <td>NaN</td>\n",
       "      <td>NaN</td>\n",
       "    </tr>\n",
       "  </tbody>\n",
       "</table>\n",
       "</div>"
      ],
      "text/plain": [
       "                                                    URL  \\\n",
       "6777            https://jopwellcollection.jopwell.com/    \n",
       "6778                      https://www.gettyimages.com/    \n",
       "6779  https://my.bluehost.com/hosting/help/addon-dom...   \n",
       "6780  https://medium.com/@GoodMenProject/how-to-lose...   \n",
       "6781  https://my.bluehost.com/hosting/help/addon-dom...   \n",
       "\n",
       "                                                  Title Author Header 4  \\\n",
       "6777                                            Jopwell    NaN      NaN   \n",
       "6778   Royalty Free Stock Photos, Illustrations, Vec...    NaN      NaN   \n",
       "6779   What Is An Addon Domain And How Does It Work?...    NaN      NaN   \n",
       "6780   How to Lose a Woman…Forever - The Good Men Pr...    NaN      NaN   \n",
       "6781   What Is An Addon Domain And How Does It Work?...    NaN      NaN   \n",
       "\n",
       "     Header 5 Header 6 Header 7  Header 8  Header 9  Header 10  \n",
       "6777      NaN      NaN      NaN       NaN       NaN        NaN  \n",
       "6778      NaN      NaN      NaN       NaN       NaN        NaN  \n",
       "6779      NaN      NaN      NaN       NaN       NaN        NaN  \n",
       "6780      NaN      NaN      NaN       NaN       NaN        NaN  \n",
       "6781      NaN      NaN      NaN       NaN       NaN        NaN  "
      ]
     },
     "execution_count": 5,
     "metadata": {},
     "output_type": "execute_result"
    }
   ],
   "source": [
    "df_links.tail()"
   ]
  },
  {
   "cell_type": "code",
   "execution_count": null,
   "metadata": {},
   "outputs": [],
   "source": []
  },
  {
   "cell_type": "code",
   "execution_count": null,
   "metadata": {},
   "outputs": [],
   "source": []
  }
 ],
 "metadata": {
  "kernelspec": {
   "display_name": "jpnb_py38",
   "language": "python",
   "name": "jpnb_py38"
  },
  "language_info": {
   "codemirror_mode": {
    "name": "ipython",
    "version": 3
   },
   "file_extension": ".py",
   "mimetype": "text/x-python",
   "name": "python",
   "nbconvert_exporter": "python",
   "pygments_lexer": "ipython3",
   "version": "3.8.5"
  }
 },
 "nbformat": 4,
 "nbformat_minor": 4
}
