{
 "cells": [
  {
   "cell_type": "markdown",
   "metadata": {},
   "source": [
    "# Timestamp parsing for time-series data analysis with Pandas and Python\n",
    "\n",
    "Source code from Medium's article [\"Timestamp parsing for time-series data analysis with Pandas and Python\"](https://towardsdatascience.com/timestamp-parsing-with-python-ec185536bcfc), written by [Sudeep Gowrishankar](https://sudeep-g.medium.com/)."
   ]
  },
  {
   "cell_type": "markdown",
   "metadata": {},
   "source": [
    "# Import Libraries"
   ]
  },
  {
   "cell_type": "code",
   "execution_count": 1,
   "metadata": {
    "execution": {
     "iopub.execute_input": "2020-11-14T08:44:38.656682Z",
     "iopub.status.busy": "2020-11-14T08:44:38.655681Z",
     "iopub.status.idle": "2020-11-14T08:44:41.277583Z",
     "shell.execute_reply": "2020-11-14T08:44:41.275583Z",
     "shell.execute_reply.started": "2020-11-14T08:44:38.656682Z"
    }
   },
   "outputs": [],
   "source": [
    "from datetime import datetime, timedelta\n",
    "\n",
    "from time import strptime\n",
    "from time import strftime\n",
    "\n",
    "import pandas as pd"
   ]
  },
  {
   "cell_type": "markdown",
   "metadata": {},
   "source": [
    "# 1. time.strptime"
   ]
  },
  {
   "cell_type": "code",
   "execution_count": 2,
   "metadata": {
    "execution": {
     "iopub.execute_input": "2020-11-14T08:44:41.287586Z",
     "iopub.status.busy": "2020-11-14T08:44:41.287586Z",
     "iopub.status.idle": "2020-11-14T08:44:41.310588Z",
     "shell.execute_reply": "2020-11-14T08:44:41.307586Z",
     "shell.execute_reply.started": "2020-11-14T08:44:41.287586Z"
    }
   },
   "outputs": [
    {
     "name": "stdout",
     "output_type": "stream",
     "text": [
      "time.struct_time(tm_year=2000, tm_mon=3, tm_mday=10, tm_hour=15, tm_min=43, tm_sec=10, tm_wday=4, tm_yday=70, tm_isdst=-1)\n"
     ]
    }
   ],
   "source": [
    "ts_str = \"2000-03-10 15:43:10\"\n",
    "\n",
    "ts = strptime(ts_str, \"%Y-%m-%d %H:%M:%S\")\n",
    "\n",
    "print(ts)"
   ]
  },
  {
   "cell_type": "markdown",
   "metadata": {},
   "source": [
    "# 2. Pandas.to_datetime without inferring"
   ]
  },
  {
   "cell_type": "code",
   "execution_count": 3,
   "metadata": {
    "execution": {
     "iopub.execute_input": "2020-11-14T08:44:41.314586Z",
     "iopub.status.busy": "2020-11-14T08:44:41.313586Z",
     "iopub.status.idle": "2020-11-14T08:44:41.324586Z",
     "shell.execute_reply": "2020-11-14T08:44:41.322587Z",
     "shell.execute_reply.started": "2020-11-14T08:44:41.314586Z"
    }
   },
   "outputs": [
    {
     "name": "stdout",
     "output_type": "stream",
     "text": [
      "2000-03-10 15:43:10\n"
     ]
    }
   ],
   "source": [
    "ts_str = \"2000-03-10 15:43:10\"\n",
    "\n",
    "ts = pd.to_datetime(ts_str)\n",
    "\n",
    "print(ts)"
   ]
  },
  {
   "cell_type": "code",
   "execution_count": 4,
   "metadata": {
    "execution": {
     "iopub.execute_input": "2020-11-14T08:44:41.328586Z",
     "iopub.status.busy": "2020-11-14T08:44:41.327586Z",
     "iopub.status.idle": "2020-11-14T08:44:41.356585Z",
     "shell.execute_reply": "2020-11-14T08:44:41.354589Z",
     "shell.execute_reply.started": "2020-11-14T08:44:41.328586Z"
    }
   },
   "outputs": [
    {
     "name": "stdout",
     "output_type": "stream",
     "text": [
      "[Timestamp('2000-03-10 15:43:10'), Timestamp('2000-03-10 15:44:00')]\n"
     ]
    }
   ],
   "source": [
    "ts_str_list = [\"2000-03-10 15:43:10\", \"2000/03/10 15:44\"]\n",
    "\n",
    "ts_list = pd.to_datetime(ts_str_list)\n",
    "\n",
    "print(list(ts_list))"
   ]
  },
  {
   "cell_type": "markdown",
   "metadata": {},
   "source": [
    "# 3. Pandas.to_datetime with inferring"
   ]
  },
  {
   "cell_type": "code",
   "execution_count": 5,
   "metadata": {
    "execution": {
     "iopub.execute_input": "2020-11-14T08:44:41.362585Z",
     "iopub.status.busy": "2020-11-14T08:44:41.359586Z",
     "iopub.status.idle": "2020-11-14T08:44:41.388587Z",
     "shell.execute_reply": "2020-11-14T08:44:41.385590Z",
     "shell.execute_reply.started": "2020-11-14T08:44:41.362585Z"
    }
   },
   "outputs": [
    {
     "name": "stdout",
     "output_type": "stream",
     "text": [
      "[Timestamp('2000-03-10 15:43:10'), Timestamp('2000-03-10 15:44:00'), Timestamp('2000-03-10 15:45:00')]\n"
     ]
    }
   ],
   "source": [
    "ts_str_list = [\"2000-03-10 15:43:10\", \"2000-03-10 15:44\", \"2000-03-10 15:45\"]\n",
    "\n",
    "ts_list = pd.to_datetime(ts_str_list, infer_datetime_format=True)\n",
    "\n",
    "print(list(ts_list))"
   ]
  },
  {
   "cell_type": "markdown",
   "metadata": {},
   "source": [
    "# 4. Pandas.to_datetime with a specified format argument"
   ]
  },
  {
   "cell_type": "code",
   "execution_count": 6,
   "metadata": {
    "execution": {
     "iopub.execute_input": "2020-11-14T08:44:41.392585Z",
     "iopub.status.busy": "2020-11-14T08:44:41.391587Z",
     "iopub.status.idle": "2020-11-14T08:44:41.452587Z",
     "shell.execute_reply": "2020-11-14T08:44:41.449586Z",
     "shell.execute_reply.started": "2020-11-14T08:44:41.392585Z"
    }
   },
   "outputs": [
    {
     "name": "stdout",
     "output_type": "stream",
     "text": [
      "[Timestamp('2000-03-10 15:43:10'), Timestamp('2000-03-10 15:44:05'), Timestamp('2000-03-10 15:45:54')]\n"
     ]
    }
   ],
   "source": [
    "ts_str_list = [\"2000-03-10 15:43:10\", \"2000-03-10 15:44:05\", \"2000-03-10 15:45:54\"]\n",
    "\n",
    "ts_list = pd.to_datetime(ts_str_list, format=\"%Y-%m-%d %H:%M:%S\")\n",
    "\n",
    "print(list(ts_list))"
   ]
  },
  {
   "cell_type": "markdown",
   "metadata": {},
   "source": [
    "# 5. time.strptime with memoization"
   ]
  },
  {
   "cell_type": "code",
   "execution_count": 7,
   "metadata": {
    "execution": {
     "iopub.execute_input": "2020-11-14T08:44:41.458585Z",
     "iopub.status.busy": "2020-11-14T08:44:41.457587Z",
     "iopub.status.idle": "2020-11-14T08:44:41.483587Z",
     "shell.execute_reply": "2020-11-14T08:44:41.481586Z",
     "shell.execute_reply.started": "2020-11-14T08:44:41.458585Z"
    }
   },
   "outputs": [
    {
     "name": "stdout",
     "output_type": "stream",
     "text": [
      "[time.struct_time(tm_year=2000, tm_mon=3, tm_mday=10, tm_hour=15, tm_min=43, tm_sec=0, tm_wday=4, tm_yday=70, tm_isdst=-1), time.struct_time(tm_year=2000, tm_mon=3, tm_mday=10, tm_hour=15, tm_min=44, tm_sec=0, tm_wday=4, tm_yday=70, tm_isdst=-1), time.struct_time(tm_year=2000, tm_mon=3, tm_mday=10, tm_hour=15, tm_min=45, tm_sec=0, tm_wday=4, tm_yday=70, tm_isdst=-1), time.struct_time(tm_year=2000, tm_mon=3, tm_mday=10, tm_hour=15, tm_min=43, tm_sec=0, tm_wday=4, tm_yday=70, tm_isdst=-1), time.struct_time(tm_year=2000, tm_mon=3, tm_mday=10, tm_hour=15, tm_min=44, tm_sec=0, tm_wday=4, tm_yday=70, tm_isdst=-1), time.struct_time(tm_year=2000, tm_mon=3, tm_mday=10, tm_hour=15, tm_min=45, tm_sec=0, tm_wday=4, tm_yday=70, tm_isdst=-1)]\n",
      "{'2000-03-10 15:43': time.struct_time(tm_year=2000, tm_mon=3, tm_mday=10, tm_hour=15, tm_min=43, tm_sec=0, tm_wday=4, tm_yday=70, tm_isdst=-1), '2000-03-10 15:44': time.struct_time(tm_year=2000, tm_mon=3, tm_mday=10, tm_hour=15, tm_min=44, tm_sec=0, tm_wday=4, tm_yday=70, tm_isdst=-1), '2000-03-10 15:45': time.struct_time(tm_year=2000, tm_mon=3, tm_mday=10, tm_hour=15, tm_min=45, tm_sec=0, tm_wday=4, tm_yday=70, tm_isdst=-1)}\n"
     ]
    }
   ],
   "source": [
    "ts_str_list = [\"2000-03-10 15:43\", \"2000-03-10 15:44\", \"2000-03-10 15:45\",\n",
    "               \"2000-03-10 15:43\", \"2000-03-10 15:44\", \"2000-03-10 15:45\"]\n",
    "\n",
    "memos = dict()\n",
    "ts_list = []\n",
    "\n",
    "for x in ts_str_list:\n",
    "    \n",
    "    if x not in memos:\n",
    "        \n",
    "        d = strptime(x, \"%Y-%m-%d %H:%M\")\n",
    "        memos[x] = d\n",
    "        ts_list.append(d)\n",
    "        \n",
    "    else:\n",
    "        \n",
    "        ts_list.append(memos[x])\n",
    "    \n",
    "print(ts_list)\n",
    "print(memos)"
   ]
  },
  {
   "cell_type": "markdown",
   "metadata": {},
   "source": [
    "# 6. Pre-built lookup mapping"
   ]
  },
  {
   "cell_type": "code",
   "execution_count": 13,
   "metadata": {
    "execution": {
     "iopub.execute_input": "2020-11-14T09:03:43.459870Z",
     "iopub.status.busy": "2020-11-14T09:03:43.458871Z",
     "iopub.status.idle": "2020-11-14T09:03:43.472871Z",
     "shell.execute_reply": "2020-11-14T09:03:43.470872Z",
     "shell.execute_reply.started": "2020-11-14T09:03:43.459870Z"
    }
   },
   "outputs": [
    {
     "name": "stdout",
     "output_type": "stream",
     "text": [
      "[datetime.datetime(2000, 3, 10, 0, 2), datetime.datetime(2000, 3, 10, 0, 3), datetime.datetime(2000, 3, 10, 0, 5), datetime.datetime(2000, 3, 10, 0, 7), datetime.datetime(2000, 3, 10, 0, 11), datetime.datetime(2000, 3, 10, 0, 13), datetime.datetime(2000, 3, 10, 0, 17), None, datetime.datetime(2000, 3, 10, 0, 23)]\n"
     ]
    }
   ],
   "source": [
    "ts_str_list = [\"2000-03-10 00:02\", \"2000-03-10 00:03\", \"2000-03-10 00:05\",\n",
    "               \"2000-03-10 00:07\", \"2000-03-10 00:11\", \"2000-03-10 00:13\",\n",
    "               \"2000-03-10 00:17\", \"2000-03-19 00:02\", \"2000-03-10 00:23\"]\n",
    "\n",
    "lookup_map = dict()\n",
    "start_time = datetime(year=2000, month=3, day=10, hour=0, minute=0)\n",
    "end_time =   datetime(year=2000, month=3, day=10, hour=0, minute=30)\n",
    "\n",
    "timestamp = start_time\n",
    "\n",
    "while timestamp <= end_time:\n",
    "    \n",
    "    lookup_map[timestamp.strftime(\"%Y-%m-%d %H:%M\")] = timestamp\n",
    "    timestamp += timedelta(minutes=1)\n",
    "    \n",
    "ts_list = list(map(lambda x: lookup_map.get(x, None), ts_str_list))\n",
    "\n",
    "print(ts_list)"
   ]
  },
  {
   "cell_type": "code",
   "execution_count": null,
   "metadata": {},
   "outputs": [],
   "source": []
  }
 ],
 "metadata": {
  "kernelspec": {
   "display_name": "main38",
   "language": "python",
   "name": "main38"
  },
  "language_info": {
   "codemirror_mode": {
    "name": "ipython",
    "version": 3
   },
   "file_extension": ".py",
   "mimetype": "text/x-python",
   "name": "python",
   "nbconvert_exporter": "python",
   "pygments_lexer": "ipython3",
   "version": "3.8.6"
  }
 },
 "nbformat": 4,
 "nbformat_minor": 4
}
