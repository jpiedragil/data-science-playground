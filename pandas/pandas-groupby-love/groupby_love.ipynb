{
 "cells": [
  {
   "cell_type": "markdown",
   "id": "shaped-consensus",
   "metadata": {},
   "source": [
    "# Pandas Groupby Love\n",
    "\n",
    "Source code from Medium's article [\"Pandas Groupby Love\"](https://towardsdatascience.com/pandas-groupby-love-5b3bce19c35e), written by [Josh Johnson](https://towardsdatascience.com/pandas-groupby-love-5b3bce19c35e)."
   ]
  },
  {
   "cell_type": "markdown",
   "id": "concrete-rally",
   "metadata": {},
   "source": [
    "## Import Libraries"
   ]
  },
  {
   "cell_type": "code",
   "execution_count": 1,
   "id": "sudden-xerox",
   "metadata": {
    "execution": {
     "iopub.execute_input": "2021-03-08T05:16:46.599790Z",
     "iopub.status.busy": "2021-03-08T05:16:46.597840Z",
     "iopub.status.idle": "2021-03-08T05:16:47.461173Z",
     "shell.execute_reply": "2021-03-08T05:16:47.461019Z",
     "shell.execute_reply.started": "2021-03-08T05:16:46.59935Z"
    },
    "tags": []
   },
   "outputs": [],
   "source": [
    "import pandas as pd\n",
    "import zipfile\n",
    "import wget"
   ]
  },
  {
   "cell_type": "markdown",
   "id": "noticed-friday",
   "metadata": {},
   "source": [
    "## Open University Learning Analytics Dataset"
   ]
  },
  {
   "cell_type": "code",
   "execution_count": 2,
   "id": "static-limit",
   "metadata": {
    "execution": {
     "iopub.execute_input": "2021-03-08T05:21:12.882454Z",
     "iopub.status.busy": "2021-03-08T05:21:12.882256Z",
     "iopub.status.idle": "2021-03-08T05:24:05.294775Z",
     "shell.execute_reply": "2021-03-08T05:24:05.294614Z",
     "shell.execute_reply.started": "2021-03-08T05:21:12.882405Z"
    }
   },
   "outputs": [
    {
     "name": "stdout",
     "output_type": "stream",
     "text": [
      "100% [........................................................................] 46750706 / 46750706"
     ]
    }
   ],
   "source": [
    "url = 'https://analyse.kmi.open.ac.uk/open_dataset/download'\n",
    "\n",
    "filename = wget.download(url)\n",
    "\n",
    "zpf = zipfile.ZipFile(filename)"
   ]
  },
  {
   "cell_type": "code",
   "execution_count": 4,
   "id": "compound-plymouth",
   "metadata": {
    "execution": {
     "iopub.execute_input": "2021-03-08T05:32:43.185133Z",
     "iopub.status.busy": "2021-03-08T05:32:43.184963Z",
     "iopub.status.idle": "2021-03-08T05:33:13.881248Z",
     "shell.execute_reply": "2021-03-08T05:33:13.881142Z",
     "shell.execute_reply.started": "2021-03-08T05:32:43.185096Z"
    },
    "tags": []
   },
   "outputs": [
    {
     "data": {
      "text/html": [
       "<div>\n",
       "<style scoped>\n",
       "    .dataframe tbody tr th:only-of-type {\n",
       "        vertical-align: middle;\n",
       "    }\n",
       "\n",
       "    .dataframe tbody tr th {\n",
       "        vertical-align: top;\n",
       "    }\n",
       "\n",
       "    .dataframe thead th {\n",
       "        text-align: right;\n",
       "    }\n",
       "</style>\n",
       "<table border=\"1\" class=\"dataframe\">\n",
       "  <thead>\n",
       "    <tr style=\"text-align: right;\">\n",
       "      <th></th>\n",
       "      <th>code_module</th>\n",
       "      <th>code_presentation</th>\n",
       "      <th>id_student</th>\n",
       "      <th>id_site</th>\n",
       "      <th>date</th>\n",
       "      <th>sum_click</th>\n",
       "    </tr>\n",
       "  </thead>\n",
       "  <tbody>\n",
       "    <tr>\n",
       "      <th>0</th>\n",
       "      <td>AAA</td>\n",
       "      <td>2013J</td>\n",
       "      <td>28400</td>\n",
       "      <td>546652</td>\n",
       "      <td>-10</td>\n",
       "      <td>4</td>\n",
       "    </tr>\n",
       "    <tr>\n",
       "      <th>1</th>\n",
       "      <td>AAA</td>\n",
       "      <td>2013J</td>\n",
       "      <td>28400</td>\n",
       "      <td>546652</td>\n",
       "      <td>-10</td>\n",
       "      <td>1</td>\n",
       "    </tr>\n",
       "    <tr>\n",
       "      <th>2</th>\n",
       "      <td>AAA</td>\n",
       "      <td>2013J</td>\n",
       "      <td>28400</td>\n",
       "      <td>546652</td>\n",
       "      <td>-10</td>\n",
       "      <td>1</td>\n",
       "    </tr>\n",
       "    <tr>\n",
       "      <th>3</th>\n",
       "      <td>AAA</td>\n",
       "      <td>2013J</td>\n",
       "      <td>28400</td>\n",
       "      <td>546614</td>\n",
       "      <td>-10</td>\n",
       "      <td>11</td>\n",
       "    </tr>\n",
       "    <tr>\n",
       "      <th>4</th>\n",
       "      <td>AAA</td>\n",
       "      <td>2013J</td>\n",
       "      <td>28400</td>\n",
       "      <td>546714</td>\n",
       "      <td>-10</td>\n",
       "      <td>1</td>\n",
       "    </tr>\n",
       "    <tr>\n",
       "      <th>...</th>\n",
       "      <td>...</td>\n",
       "      <td>...</td>\n",
       "      <td>...</td>\n",
       "      <td>...</td>\n",
       "      <td>...</td>\n",
       "      <td>...</td>\n",
       "    </tr>\n",
       "    <tr>\n",
       "      <th>10655275</th>\n",
       "      <td>GGG</td>\n",
       "      <td>2014J</td>\n",
       "      <td>675811</td>\n",
       "      <td>896943</td>\n",
       "      <td>269</td>\n",
       "      <td>3</td>\n",
       "    </tr>\n",
       "    <tr>\n",
       "      <th>10655276</th>\n",
       "      <td>GGG</td>\n",
       "      <td>2014J</td>\n",
       "      <td>675578</td>\n",
       "      <td>896943</td>\n",
       "      <td>269</td>\n",
       "      <td>1</td>\n",
       "    </tr>\n",
       "    <tr>\n",
       "      <th>10655277</th>\n",
       "      <td>GGG</td>\n",
       "      <td>2014J</td>\n",
       "      <td>654064</td>\n",
       "      <td>896943</td>\n",
       "      <td>269</td>\n",
       "      <td>3</td>\n",
       "    </tr>\n",
       "    <tr>\n",
       "      <th>10655278</th>\n",
       "      <td>GGG</td>\n",
       "      <td>2014J</td>\n",
       "      <td>654064</td>\n",
       "      <td>896939</td>\n",
       "      <td>269</td>\n",
       "      <td>1</td>\n",
       "    </tr>\n",
       "    <tr>\n",
       "      <th>10655279</th>\n",
       "      <td>GGG</td>\n",
       "      <td>2014J</td>\n",
       "      <td>654064</td>\n",
       "      <td>896939</td>\n",
       "      <td>269</td>\n",
       "      <td>1</td>\n",
       "    </tr>\n",
       "  </tbody>\n",
       "</table>\n",
       "<p>10655280 rows × 6 columns</p>\n",
       "</div>"
      ],
      "text/plain": [
       "         code_module code_presentation  id_student  id_site  date  sum_click\n",
       "0                AAA             2013J       28400   546652   -10          4\n",
       "1                AAA             2013J       28400   546652   -10          1\n",
       "2                AAA             2013J       28400   546652   -10          1\n",
       "3                AAA             2013J       28400   546614   -10         11\n",
       "4                AAA             2013J       28400   546714   -10          1\n",
       "...              ...               ...         ...      ...   ...        ...\n",
       "10655275         GGG             2014J      675811   896943   269          3\n",
       "10655276         GGG             2014J      675578   896943   269          1\n",
       "10655277         GGG             2014J      654064   896943   269          3\n",
       "10655278         GGG             2014J      654064   896939   269          1\n",
       "10655279         GGG             2014J      654064   896939   269          1\n",
       "\n",
       "[10655280 rows x 6 columns]"
      ]
     },
     "execution_count": 4,
     "metadata": {},
     "output_type": "execute_result"
    }
   ],
   "source": [
    "chunksize = 100000\n",
    "list_ = []\n",
    "\n",
    "for chunk in pd.read_csv(zpf.open('studentVle.csv'), chunksize=chunksize):\n",
    "    \n",
    "        list_.append(chunk)\n",
    "        student_vle = pd.concat(list_, axis=0)\n",
    "        \n",
    "student_vle"
   ]
  },
  {
   "cell_type": "markdown",
   "id": "resistant-inside",
   "metadata": {},
   "source": [
    "## Count Aggregator"
   ]
  },
  {
   "cell_type": "code",
   "execution_count": 5,
   "id": "opposite-salad",
   "metadata": {
    "execution": {
     "iopub.execute_input": "2021-03-08T05:40:29.346209Z",
     "iopub.status.busy": "2021-03-08T05:40:29.345988Z",
     "iopub.status.idle": "2021-03-08T05:40:31.842849Z",
     "shell.execute_reply": "2021-03-08T05:40:31.842598Z",
     "shell.execute_reply.started": "2021-03-08T05:40:29.346167Z"
    }
   },
   "outputs": [
    {
     "data": {
      "text/html": [
       "<div>\n",
       "<style scoped>\n",
       "    .dataframe tbody tr th:only-of-type {\n",
       "        vertical-align: middle;\n",
       "    }\n",
       "\n",
       "    .dataframe tbody tr th {\n",
       "        vertical-align: top;\n",
       "    }\n",
       "\n",
       "    .dataframe thead th {\n",
       "        text-align: right;\n",
       "    }\n",
       "</style>\n",
       "<table border=\"1\" class=\"dataframe\">\n",
       "  <thead>\n",
       "    <tr style=\"text-align: right;\">\n",
       "      <th></th>\n",
       "      <th>code_module</th>\n",
       "      <th>code_presentation</th>\n",
       "      <th>id_site</th>\n",
       "      <th>date</th>\n",
       "      <th>sum_click</th>\n",
       "    </tr>\n",
       "    <tr>\n",
       "      <th>id_student</th>\n",
       "      <th></th>\n",
       "      <th></th>\n",
       "      <th></th>\n",
       "      <th></th>\n",
       "      <th></th>\n",
       "    </tr>\n",
       "  </thead>\n",
       "  <tbody>\n",
       "    <tr>\n",
       "      <th>6516</th>\n",
       "      <td>662</td>\n",
       "      <td>662</td>\n",
       "      <td>662</td>\n",
       "      <td>662</td>\n",
       "      <td>662</td>\n",
       "    </tr>\n",
       "    <tr>\n",
       "      <th>8462</th>\n",
       "      <td>304</td>\n",
       "      <td>304</td>\n",
       "      <td>304</td>\n",
       "      <td>304</td>\n",
       "      <td>304</td>\n",
       "    </tr>\n",
       "    <tr>\n",
       "      <th>11391</th>\n",
       "      <td>196</td>\n",
       "      <td>196</td>\n",
       "      <td>196</td>\n",
       "      <td>196</td>\n",
       "      <td>196</td>\n",
       "    </tr>\n",
       "    <tr>\n",
       "      <th>23629</th>\n",
       "      <td>59</td>\n",
       "      <td>59</td>\n",
       "      <td>59</td>\n",
       "      <td>59</td>\n",
       "      <td>59</td>\n",
       "    </tr>\n",
       "    <tr>\n",
       "      <th>23698</th>\n",
       "      <td>305</td>\n",
       "      <td>305</td>\n",
       "      <td>305</td>\n",
       "      <td>305</td>\n",
       "      <td>305</td>\n",
       "    </tr>\n",
       "  </tbody>\n",
       "</table>\n",
       "</div>"
      ],
      "text/plain": [
       "            code_module  code_presentation  id_site  date  sum_click\n",
       "id_student                                                          \n",
       "6516                662                662      662   662        662\n",
       "8462                304                304      304   304        304\n",
       "11391               196                196      196   196        196\n",
       "23629                59                 59       59    59         59\n",
       "23698               305                305      305   305        305"
      ]
     },
     "execution_count": 5,
     "metadata": {},
     "output_type": "execute_result"
    }
   ],
   "source": [
    "student_groups = student_vle.groupby('id_student')\n",
    "activity_counts = student_groups.count()\n",
    "\n",
    "activity_counts.head()"
   ]
  },
  {
   "cell_type": "markdown",
   "id": "earned-carnival",
   "metadata": {},
   "source": [
    "## Mean Average Aggregator"
   ]
  },
  {
   "cell_type": "code",
   "execution_count": 6,
   "id": "charged-primary",
   "metadata": {
    "execution": {
     "iopub.execute_input": "2021-03-08T05:45:53.845624Z",
     "iopub.status.busy": "2021-03-08T05:45:53.845437Z",
     "iopub.status.idle": "2021-03-08T05:45:54.833206Z",
     "shell.execute_reply": "2021-03-08T05:45:54.833052Z",
     "shell.execute_reply.started": "2021-03-08T05:45:53.845581Z"
    }
   },
   "outputs": [
    {
     "name": "stdout",
     "output_type": "stream",
     "text": [
      "Mean of median clicks per activity is 3.277612411690169\n"
     ]
    },
    {
     "data": {
      "text/html": [
       "<div>\n",
       "<style scoped>\n",
       "    .dataframe tbody tr th:only-of-type {\n",
       "        vertical-align: middle;\n",
       "    }\n",
       "\n",
       "    .dataframe tbody tr th {\n",
       "        vertical-align: top;\n",
       "    }\n",
       "\n",
       "    .dataframe thead th {\n",
       "        text-align: right;\n",
       "    }\n",
       "</style>\n",
       "<table border=\"1\" class=\"dataframe\">\n",
       "  <thead>\n",
       "    <tr style=\"text-align: right;\">\n",
       "      <th></th>\n",
       "      <th>id_site</th>\n",
       "      <th>date</th>\n",
       "      <th>sum_click</th>\n",
       "    </tr>\n",
       "    <tr>\n",
       "      <th>id_student</th>\n",
       "      <th></th>\n",
       "      <th></th>\n",
       "      <th></th>\n",
       "    </tr>\n",
       "  </thead>\n",
       "  <tbody>\n",
       "    <tr>\n",
       "      <th>6516</th>\n",
       "      <td>877282.676737</td>\n",
       "      <td>110.483384</td>\n",
       "      <td>4.216012</td>\n",
       "    </tr>\n",
       "    <tr>\n",
       "      <th>8462</th>\n",
       "      <td>675792.838816</td>\n",
       "      <td>37.128289</td>\n",
       "      <td>2.157895</td>\n",
       "    </tr>\n",
       "    <tr>\n",
       "      <th>11391</th>\n",
       "      <td>546697.668367</td>\n",
       "      <td>102.132653</td>\n",
       "      <td>4.765306</td>\n",
       "    </tr>\n",
       "    <tr>\n",
       "      <th>23629</th>\n",
       "      <td>542863.067797</td>\n",
       "      <td>43.033898</td>\n",
       "      <td>2.728814</td>\n",
       "    </tr>\n",
       "    <tr>\n",
       "      <th>23698</th>\n",
       "      <td>911160.937705</td>\n",
       "      <td>85.639344</td>\n",
       "      <td>2.983607</td>\n",
       "    </tr>\n",
       "  </tbody>\n",
       "</table>\n",
       "</div>"
      ],
      "text/plain": [
       "                  id_site        date  sum_click\n",
       "id_student                                      \n",
       "6516        877282.676737  110.483384   4.216012\n",
       "8462        675792.838816   37.128289   2.157895\n",
       "11391       546697.668367  102.132653   4.765306\n",
       "23629       542863.067797   43.033898   2.728814\n",
       "23698       911160.937705   85.639344   2.983607"
      ]
     },
     "execution_count": 6,
     "metadata": {},
     "output_type": "execute_result"
    }
   ],
   "source": [
    "average_clicks = student_groups.mean()\n",
    "\n",
    "print('Mean of median clicks per activity is', average_clicks['sum_click'].mean())\n",
    "\n",
    "average_clicks.head()"
   ]
  },
  {
   "cell_type": "code",
   "execution_count": 8,
   "id": "mechanical-yemen",
   "metadata": {
    "execution": {
     "iopub.execute_input": "2021-03-08T05:52:49.872003Z",
     "iopub.status.busy": "2021-03-08T05:52:49.871826Z",
     "iopub.status.idle": "2021-03-08T05:52:49.945565Z",
     "shell.execute_reply": "2021-03-08T05:52:49.945426Z",
     "shell.execute_reply.started": "2021-03-08T05:52:49.871961Z"
    },
    "tags": []
   },
   "outputs": [
    {
     "data": {
      "text/html": [
       "<div>\n",
       "<style scoped>\n",
       "    .dataframe tbody tr th:only-of-type {\n",
       "        vertical-align: middle;\n",
       "    }\n",
       "\n",
       "    .dataframe tbody tr th {\n",
       "        vertical-align: top;\n",
       "    }\n",
       "\n",
       "    .dataframe thead th {\n",
       "        text-align: right;\n",
       "    }\n",
       "</style>\n",
       "<table border=\"1\" class=\"dataframe\">\n",
       "  <thead>\n",
       "    <tr style=\"text-align: right;\">\n",
       "      <th></th>\n",
       "      <th>Total Activities Engaged</th>\n",
       "      <th>Average Clicks Per Activity</th>\n",
       "    </tr>\n",
       "    <tr>\n",
       "      <th>id_student</th>\n",
       "      <th></th>\n",
       "      <th></th>\n",
       "    </tr>\n",
       "  </thead>\n",
       "  <tbody>\n",
       "    <tr>\n",
       "      <th>6516</th>\n",
       "      <td>662</td>\n",
       "      <td>4.216012</td>\n",
       "    </tr>\n",
       "    <tr>\n",
       "      <th>8462</th>\n",
       "      <td>304</td>\n",
       "      <td>2.157895</td>\n",
       "    </tr>\n",
       "    <tr>\n",
       "      <th>11391</th>\n",
       "      <td>196</td>\n",
       "      <td>4.765306</td>\n",
       "    </tr>\n",
       "    <tr>\n",
       "      <th>23629</th>\n",
       "      <td>59</td>\n",
       "      <td>2.728814</td>\n",
       "    </tr>\n",
       "    <tr>\n",
       "      <th>23698</th>\n",
       "      <td>305</td>\n",
       "      <td>2.983607</td>\n",
       "    </tr>\n",
       "  </tbody>\n",
       "</table>\n",
       "</div>"
      ],
      "text/plain": [
       "            Total Activities Engaged  Average Clicks Per Activity\n",
       "id_student                                                       \n",
       "6516                             662                     4.216012\n",
       "8462                             304                     2.157895\n",
       "11391                            196                     4.765306\n",
       "23629                             59                     2.728814\n",
       "23698                            305                     2.983607"
      ]
     },
     "execution_count": 8,
     "metadata": {},
     "output_type": "execute_result"
    }
   ],
   "source": [
    "activities_and_clicks = pd.merge(left=activity_counts['id_site'],\n",
    "                                 right=average_clicks['sum_click'],\n",
    "                                 how='inner',\n",
    "                                 on='id_student')\n",
    "\n",
    "cols = ['Total Activities Engaged', 'Average Clicks per Activity']\n",
    "activities_and_clicks.columns = cols\n",
    "\n",
    "activities_and_clicks.head()"
   ]
  },
  {
   "cell_type": "markdown",
   "id": "final-whale",
   "metadata": {},
   "source": [
    "## Other Groupings"
   ]
  },
  {
   "cell_type": "code",
   "execution_count": 11,
   "id": "sustainable-capacity",
   "metadata": {
    "execution": {
     "iopub.execute_input": "2021-03-08T06:01:49.268540Z",
     "iopub.status.busy": "2021-03-08T06:01:49.268271Z",
     "iopub.status.idle": "2021-03-08T06:01:51.915367Z",
     "shell.execute_reply": "2021-03-08T06:01:51.915213Z",
     "shell.execute_reply.started": "2021-03-08T06:01:49.268448Z"
    },
    "tags": []
   },
   "outputs": [
    {
     "data": {
      "text/html": [
       "<div>\n",
       "<style scoped>\n",
       "    .dataframe tbody tr th:only-of-type {\n",
       "        vertical-align: middle;\n",
       "    }\n",
       "\n",
       "    .dataframe tbody tr th {\n",
       "        vertical-align: top;\n",
       "    }\n",
       "\n",
       "    .dataframe thead th {\n",
       "        text-align: right;\n",
       "    }\n",
       "</style>\n",
       "<table border=\"1\" class=\"dataframe\">\n",
       "  <thead>\n",
       "    <tr style=\"text-align: right;\">\n",
       "      <th></th>\n",
       "      <th>Total Activities Engaged</th>\n",
       "      <th>Average Clicks per Activity</th>\n",
       "    </tr>\n",
       "    <tr>\n",
       "      <th>code_module</th>\n",
       "      <th></th>\n",
       "      <th></th>\n",
       "    </tr>\n",
       "  </thead>\n",
       "  <tbody>\n",
       "    <tr>\n",
       "      <th>AAA</th>\n",
       "      <td>350298</td>\n",
       "      <td>3.558833</td>\n",
       "    </tr>\n",
       "    <tr>\n",
       "      <th>BBB</th>\n",
       "      <td>1567564</td>\n",
       "      <td>3.339051</td>\n",
       "    </tr>\n",
       "    <tr>\n",
       "      <th>CCC</th>\n",
       "      <td>1207827</td>\n",
       "      <td>3.876506</td>\n",
       "    </tr>\n",
       "    <tr>\n",
       "      <th>DDD</th>\n",
       "      <td>2166486</td>\n",
       "      <td>2.552562</td>\n",
       "    </tr>\n",
       "    <tr>\n",
       "      <th>EEE</th>\n",
       "      <td>961433</td>\n",
       "      <td>4.144051</td>\n",
       "    </tr>\n",
       "    <tr>\n",
       "      <th>FFF</th>\n",
       "      <td>4014499</td>\n",
       "      <td>4.382595</td>\n",
       "    </tr>\n",
       "    <tr>\n",
       "      <th>GGG</th>\n",
       "      <td>387173</td>\n",
       "      <td>3.445189</td>\n",
       "    </tr>\n",
       "  </tbody>\n",
       "</table>\n",
       "</div>"
      ],
      "text/plain": [
       "             Total Activities Engaged  Average Clicks per Activity\n",
       "code_module                                                       \n",
       "AAA                            350298                     3.558833\n",
       "BBB                           1567564                     3.339051\n",
       "CCC                           1207827                     3.876506\n",
       "DDD                           2166486                     2.552562\n",
       "EEE                            961433                     4.144051\n",
       "FFF                           4014499                     4.382595\n",
       "GGG                            387173                     3.445189"
      ]
     },
     "execution_count": 11,
     "metadata": {},
     "output_type": "execute_result"
    }
   ],
   "source": [
    "module_group = student_vle.groupby('code_module')\n",
    "module_averages = module_group.mean()\n",
    "module_counts = module_group.count()\n",
    "\n",
    "modules = pd.merge(module_counts['id_site'],\n",
    "                   module_averages['sum_click'],\n",
    "                   how='inner',\n",
    "                   on= 'code_module')\n",
    "\n",
    "modules.columns = ['Total Activities Engaged', 'Average Clicks per Activity']\n",
    "\n",
    "modules"
   ]
  },
  {
   "cell_type": "markdown",
   "id": "demanding-pound",
   "metadata": {},
   "source": [
    "## Multi-Indexing"
   ]
  },
  {
   "cell_type": "code",
   "execution_count": 12,
   "id": "brown-russell",
   "metadata": {
    "execution": {
     "iopub.execute_input": "2021-03-08T06:12:43.880418Z",
     "iopub.status.busy": "2021-03-08T06:12:43.880233Z",
     "iopub.status.idle": "2021-03-08T06:12:47.453320Z",
     "shell.execute_reply": "2021-03-08T06:12:47.452530Z",
     "shell.execute_reply.started": "2021-03-08T06:12:43.880374Z"
    }
   },
   "outputs": [
    {
     "data": {
      "text/html": [
       "<div>\n",
       "<style scoped>\n",
       "    .dataframe tbody tr th:only-of-type {\n",
       "        vertical-align: middle;\n",
       "    }\n",
       "\n",
       "    .dataframe tbody tr th {\n",
       "        vertical-align: top;\n",
       "    }\n",
       "\n",
       "    .dataframe thead th {\n",
       "        text-align: right;\n",
       "    }\n",
       "</style>\n",
       "<table border=\"1\" class=\"dataframe\">\n",
       "  <thead>\n",
       "    <tr style=\"text-align: right;\">\n",
       "      <th></th>\n",
       "      <th></th>\n",
       "      <th></th>\n",
       "      <th>id_site</th>\n",
       "      <th>date</th>\n",
       "      <th>sum_click</th>\n",
       "    </tr>\n",
       "    <tr>\n",
       "      <th>id_student</th>\n",
       "      <th>code_presentation</th>\n",
       "      <th>code_module</th>\n",
       "      <th></th>\n",
       "      <th></th>\n",
       "      <th></th>\n",
       "    </tr>\n",
       "  </thead>\n",
       "  <tbody>\n",
       "    <tr>\n",
       "      <th>6516</th>\n",
       "      <th>2014J</th>\n",
       "      <th>AAA</th>\n",
       "      <td>877282.676737</td>\n",
       "      <td>110.483384</td>\n",
       "      <td>4.216012</td>\n",
       "    </tr>\n",
       "    <tr>\n",
       "      <th rowspan=\"2\" valign=\"top\">8462</th>\n",
       "      <th>2013J</th>\n",
       "      <th>DDD</th>\n",
       "      <td>673952.073333</td>\n",
       "      <td>37.490000</td>\n",
       "      <td>2.153333</td>\n",
       "    </tr>\n",
       "    <tr>\n",
       "      <th>2014J</th>\n",
       "      <th>DDD</th>\n",
       "      <td>813850.250000</td>\n",
       "      <td>10.000000</td>\n",
       "      <td>2.500000</td>\n",
       "    </tr>\n",
       "    <tr>\n",
       "      <th>11391</th>\n",
       "      <th>2013J</th>\n",
       "      <th>AAA</th>\n",
       "      <td>546697.668367</td>\n",
       "      <td>102.132653</td>\n",
       "      <td>4.765306</td>\n",
       "    </tr>\n",
       "    <tr>\n",
       "      <th>23629</th>\n",
       "      <th>2013B</th>\n",
       "      <th>BBB</th>\n",
       "      <td>542863.067797</td>\n",
       "      <td>43.033898</td>\n",
       "      <td>2.728814</td>\n",
       "    </tr>\n",
       "  </tbody>\n",
       "</table>\n",
       "</div>"
      ],
      "text/plain": [
       "                                                id_site        date  sum_click\n",
       "id_student code_presentation code_module                                      \n",
       "6516       2014J             AAA          877282.676737  110.483384   4.216012\n",
       "8462       2013J             DDD          673952.073333   37.490000   2.153333\n",
       "           2014J             DDD          813850.250000   10.000000   2.500000\n",
       "11391      2013J             AAA          546697.668367  102.132653   4.765306\n",
       "23629      2013B             BBB          542863.067797   43.033898   2.728814"
      ]
     },
     "execution_count": 12,
     "metadata": {},
     "output_type": "execute_result"
    }
   ],
   "source": [
    "cols = ['id_student', 'code_presentation', 'code_module']\n",
    "reg_groups = student_vle.groupby(cols)\n",
    "\n",
    "reg_averages = reg_groups.mean()\n",
    "\n",
    "reg_averages.head()"
   ]
  },
  {
   "cell_type": "markdown",
   "id": "italian-template",
   "metadata": {},
   "source": [
    "## Tuple Indices"
   ]
  },
  {
   "cell_type": "code",
   "execution_count": 14,
   "id": "integral-advocacy",
   "metadata": {
    "execution": {
     "iopub.execute_input": "2021-03-08T06:19:32.150196Z",
     "iopub.status.busy": "2021-03-08T06:19:32.149687Z",
     "iopub.status.idle": "2021-03-08T06:19:32.162961Z",
     "shell.execute_reply": "2021-03-08T06:19:32.162876Z",
     "shell.execute_reply.started": "2021-03-08T06:19:32.150168Z"
    },
    "tags": []
   },
   "outputs": [
    {
     "data": {
      "text/plain": [
       "2.1533333333333333"
      ]
     },
     "execution_count": 14,
     "metadata": {},
     "output_type": "execute_result"
    }
   ],
   "source": [
    "reg_averages.loc[(8462, '2013J', 'DDD'), 'sum_click']"
   ]
  },
  {
   "cell_type": "code",
   "execution_count": 15,
   "id": "african-trouble",
   "metadata": {
    "execution": {
     "iopub.execute_input": "2021-03-08T06:21:47.132962Z",
     "iopub.status.busy": "2021-03-08T06:21:47.132847Z",
     "iopub.status.idle": "2021-03-08T06:21:50.309604Z",
     "shell.execute_reply": "2021-03-08T06:21:50.309463Z",
     "shell.execute_reply.started": "2021-03-08T06:21:47.132938Z"
    }
   },
   "outputs": [
    {
     "data": {
      "text/html": [
       "<div>\n",
       "<style scoped>\n",
       "    .dataframe tbody tr th:only-of-type {\n",
       "        vertical-align: middle;\n",
       "    }\n",
       "\n",
       "    .dataframe tbody tr th {\n",
       "        vertical-align: top;\n",
       "    }\n",
       "\n",
       "    .dataframe thead th {\n",
       "        text-align: right;\n",
       "    }\n",
       "</style>\n",
       "<table border=\"1\" class=\"dataframe\">\n",
       "  <thead>\n",
       "    <tr style=\"text-align: right;\">\n",
       "      <th></th>\n",
       "      <th></th>\n",
       "      <th></th>\n",
       "      <th>id_site</th>\n",
       "      <th>date</th>\n",
       "      <th>sum_click</th>\n",
       "    </tr>\n",
       "    <tr>\n",
       "      <th>code_module</th>\n",
       "      <th>code_presentation</th>\n",
       "      <th>id_student</th>\n",
       "      <th></th>\n",
       "      <th></th>\n",
       "      <th></th>\n",
       "    </tr>\n",
       "  </thead>\n",
       "  <tbody>\n",
       "    <tr>\n",
       "      <th rowspan=\"5\" valign=\"top\">AAA</th>\n",
       "      <th rowspan=\"5\" valign=\"top\">2013J</th>\n",
       "      <th>11391</th>\n",
       "      <td>546697.668367</td>\n",
       "      <td>102.132653</td>\n",
       "      <td>4.765306</td>\n",
       "    </tr>\n",
       "    <tr>\n",
       "      <th>28400</th>\n",
       "      <td>546704.453488</td>\n",
       "      <td>86.993023</td>\n",
       "      <td>3.337209</td>\n",
       "    </tr>\n",
       "    <tr>\n",
       "      <th>30268</th>\n",
       "      <td>546721.092105</td>\n",
       "      <td>2.355263</td>\n",
       "      <td>3.697368</td>\n",
       "    </tr>\n",
       "    <tr>\n",
       "      <th>31604</th>\n",
       "      <td>546712.515837</td>\n",
       "      <td>106.147813</td>\n",
       "      <td>3.254902</td>\n",
       "    </tr>\n",
       "    <tr>\n",
       "      <th>32885</th>\n",
       "      <td>546721.215909</td>\n",
       "      <td>91.934659</td>\n",
       "      <td>2.937500</td>\n",
       "    </tr>\n",
       "  </tbody>\n",
       "</table>\n",
       "</div>"
      ],
      "text/plain": [
       "                                                id_site        date  sum_click\n",
       "code_module code_presentation id_student                                      \n",
       "AAA         2013J             11391       546697.668367  102.132653   4.765306\n",
       "                              28400       546704.453488   86.993023   3.337209\n",
       "                              30268       546721.092105    2.355263   3.697368\n",
       "                              31604       546712.515837  106.147813   3.254902\n",
       "                              32885       546721.215909   91.934659   2.937500"
      ]
     },
     "execution_count": 15,
     "metadata": {},
     "output_type": "execute_result"
    }
   ],
   "source": [
    "cols = ['code_module', 'code_presentation', 'id_student']\n",
    "groupby_module = student_vle.groupby(cols)\n",
    "\n",
    "module_averages = groupby_module.mean()\n",
    "\n",
    "module_averages.head()"
   ]
  },
  {
   "cell_type": "code",
   "execution_count": 16,
   "id": "reported-impression",
   "metadata": {
    "execution": {
     "iopub.execute_input": "2021-03-08T06:24:19.485152Z",
     "iopub.status.busy": "2021-03-08T06:24:19.485005Z",
     "iopub.status.idle": "2021-03-08T06:24:19.494573Z",
     "shell.execute_reply": "2021-03-08T06:24:19.494306Z",
     "shell.execute_reply.started": "2021-03-08T06:24:19.485126Z"
    }
   },
   "outputs": [
    {
     "data": {
      "text/plain": [
       "id_student\n",
       "25629      2.285714\n",
       "25997      1.857143\n",
       "27891      3.357143\n",
       "50069      2.540670\n",
       "52426      2.193548\n",
       "             ...   \n",
       "2677541    2.586957\n",
       "2681783    1.857143\n",
       "2683697    1.750000\n",
       "2687378    2.576754\n",
       "2690136    2.000000\n",
       "Name: sum_click, Length: 1294, dtype: float64"
      ]
     },
     "execution_count": 16,
     "metadata": {},
     "output_type": "execute_result"
    }
   ],
   "source": [
    "module_averages.loc[('BBB', '2014B'), 'sum_click']"
   ]
  },
  {
   "cell_type": "markdown",
   "id": "earned-texas",
   "metadata": {},
   "source": [
    "## Flattening a Multi_Index"
   ]
  },
  {
   "cell_type": "code",
   "execution_count": 17,
   "id": "stopped-trust",
   "metadata": {
    "execution": {
     "iopub.execute_input": "2021-03-08T06:28:12.333066Z",
     "iopub.status.busy": "2021-03-08T06:28:12.332884Z",
     "iopub.status.idle": "2021-03-08T06:28:12.361109Z",
     "shell.execute_reply": "2021-03-08T06:28:12.360851Z",
     "shell.execute_reply.started": "2021-03-08T06:28:12.333025Z"
    }
   },
   "outputs": [
    {
     "data": {
      "text/html": [
       "<div>\n",
       "<style scoped>\n",
       "    .dataframe tbody tr th:only-of-type {\n",
       "        vertical-align: middle;\n",
       "    }\n",
       "\n",
       "    .dataframe tbody tr th {\n",
       "        vertical-align: top;\n",
       "    }\n",
       "\n",
       "    .dataframe thead th {\n",
       "        text-align: right;\n",
       "    }\n",
       "</style>\n",
       "<table border=\"1\" class=\"dataframe\">\n",
       "  <thead>\n",
       "    <tr style=\"text-align: right;\">\n",
       "      <th></th>\n",
       "      <th>code_module</th>\n",
       "      <th>code_presentation</th>\n",
       "      <th>id_student</th>\n",
       "      <th>id_site</th>\n",
       "      <th>date</th>\n",
       "      <th>sum_click</th>\n",
       "    </tr>\n",
       "  </thead>\n",
       "  <tbody>\n",
       "    <tr>\n",
       "      <th>0</th>\n",
       "      <td>AAA</td>\n",
       "      <td>2013J</td>\n",
       "      <td>11391</td>\n",
       "      <td>546697.668367</td>\n",
       "      <td>102.132653</td>\n",
       "      <td>4.765306</td>\n",
       "    </tr>\n",
       "    <tr>\n",
       "      <th>1</th>\n",
       "      <td>AAA</td>\n",
       "      <td>2013J</td>\n",
       "      <td>28400</td>\n",
       "      <td>546704.453488</td>\n",
       "      <td>86.993023</td>\n",
       "      <td>3.337209</td>\n",
       "    </tr>\n",
       "    <tr>\n",
       "      <th>2</th>\n",
       "      <td>AAA</td>\n",
       "      <td>2013J</td>\n",
       "      <td>30268</td>\n",
       "      <td>546721.092105</td>\n",
       "      <td>2.355263</td>\n",
       "      <td>3.697368</td>\n",
       "    </tr>\n",
       "    <tr>\n",
       "      <th>3</th>\n",
       "      <td>AAA</td>\n",
       "      <td>2013J</td>\n",
       "      <td>31604</td>\n",
       "      <td>546712.515837</td>\n",
       "      <td>106.147813</td>\n",
       "      <td>3.254902</td>\n",
       "    </tr>\n",
       "    <tr>\n",
       "      <th>4</th>\n",
       "      <td>AAA</td>\n",
       "      <td>2013J</td>\n",
       "      <td>32885</td>\n",
       "      <td>546721.215909</td>\n",
       "      <td>91.934659</td>\n",
       "      <td>2.937500</td>\n",
       "    </tr>\n",
       "  </tbody>\n",
       "</table>\n",
       "</div>"
      ],
      "text/plain": [
       "  code_module code_presentation  id_student        id_site        date  \\\n",
       "0         AAA             2013J       11391  546697.668367  102.132653   \n",
       "1         AAA             2013J       28400  546704.453488   86.993023   \n",
       "2         AAA             2013J       30268  546721.092105    2.355263   \n",
       "3         AAA             2013J       31604  546712.515837  106.147813   \n",
       "4         AAA             2013J       32885  546721.215909   91.934659   \n",
       "\n",
       "   sum_click  \n",
       "0   4.765306  \n",
       "1   3.337209  \n",
       "2   3.697368  \n",
       "3   3.254902  \n",
       "4   2.937500  "
      ]
     },
     "execution_count": 17,
     "metadata": {},
     "output_type": "execute_result"
    }
   ],
   "source": [
    "flat_module_averages = module_averages.reset_index()\n",
    "\n",
    "flat_module_averages.head()"
   ]
  },
  {
   "cell_type": "markdown",
   "id": "burning-windsor",
   "metadata": {},
   "source": [
    "## Full Gist"
   ]
  },
  {
   "cell_type": "code",
   "execution_count": 18,
   "id": "editorial-russell",
   "metadata": {
    "execution": {
     "iopub.execute_input": "2021-03-08T06:38:16.657111Z",
     "iopub.status.busy": "2021-03-08T06:38:16.656939Z",
     "iopub.status.idle": "2021-03-08T06:38:19.944202Z",
     "shell.execute_reply": "2021-03-08T06:38:19.944123Z",
     "shell.execute_reply.started": "2021-03-08T06:38:16.657072Z"
    }
   },
   "outputs": [
    {
     "data": {
      "text/html": [
       "<div>\n",
       "<style scoped>\n",
       "    .dataframe tbody tr th:only-of-type {\n",
       "        vertical-align: middle;\n",
       "    }\n",
       "\n",
       "    .dataframe tbody tr th {\n",
       "        vertical-align: top;\n",
       "    }\n",
       "\n",
       "    .dataframe thead th {\n",
       "        text-align: right;\n",
       "    }\n",
       "</style>\n",
       "<table border=\"1\" class=\"dataframe\">\n",
       "  <thead>\n",
       "    <tr style=\"text-align: right;\">\n",
       "      <th></th>\n",
       "      <th>code_module</th>\n",
       "      <th>code_presentation</th>\n",
       "      <th>id_student</th>\n",
       "      <th>Total Activities Engaged</th>\n",
       "      <th>Average Clicks per Activity</th>\n",
       "    </tr>\n",
       "  </thead>\n",
       "  <tbody>\n",
       "    <tr>\n",
       "      <th>0</th>\n",
       "      <td>AAA</td>\n",
       "      <td>2013J</td>\n",
       "      <td>11391</td>\n",
       "      <td>196</td>\n",
       "      <td>4.765306</td>\n",
       "    </tr>\n",
       "    <tr>\n",
       "      <th>1</th>\n",
       "      <td>AAA</td>\n",
       "      <td>2013J</td>\n",
       "      <td>28400</td>\n",
       "      <td>430</td>\n",
       "      <td>3.337209</td>\n",
       "    </tr>\n",
       "    <tr>\n",
       "      <th>2</th>\n",
       "      <td>AAA</td>\n",
       "      <td>2013J</td>\n",
       "      <td>30268</td>\n",
       "      <td>76</td>\n",
       "      <td>3.697368</td>\n",
       "    </tr>\n",
       "    <tr>\n",
       "      <th>3</th>\n",
       "      <td>AAA</td>\n",
       "      <td>2013J</td>\n",
       "      <td>31604</td>\n",
       "      <td>663</td>\n",
       "      <td>3.254902</td>\n",
       "    </tr>\n",
       "    <tr>\n",
       "      <th>4</th>\n",
       "      <td>AAA</td>\n",
       "      <td>2013J</td>\n",
       "      <td>32885</td>\n",
       "      <td>352</td>\n",
       "      <td>2.937500</td>\n",
       "    </tr>\n",
       "  </tbody>\n",
       "</table>\n",
       "</div>"
      ],
      "text/plain": [
       "  code_module code_presentation  id_student  Total Activities Engaged  \\\n",
       "0         AAA             2013J       11391                       196   \n",
       "1         AAA             2013J       28400                       430   \n",
       "2         AAA             2013J       30268                        76   \n",
       "3         AAA             2013J       31604                       663   \n",
       "4         AAA             2013J       32885                       352   \n",
       "\n",
       "   Average Clicks per Activity  \n",
       "0                     4.765306  \n",
       "1                     3.337209  \n",
       "2                     3.697368  \n",
       "3                     3.254902  \n",
       "4                     2.937500  "
      ]
     },
     "execution_count": 18,
     "metadata": {},
     "output_type": "execute_result"
    }
   ],
   "source": [
    "index_cols = ['code_module', 'code_presentation', 'id_student']\n",
    "student_groups = student_vle.groupby(index_cols)\n",
    "\n",
    "activity_counts = student_groups.count()\n",
    "average_clicks = student_groups.mean()\n",
    "\n",
    "activities_and_clicks = pd.merge(activity_counts['id_site'],\n",
    "                                 average_clicks['sum_click'],\n",
    "                                 how='inner',\n",
    "                                 on=index_cols)\n",
    "\n",
    "activities_and_clicks.columns = ['Total Activities Engaged',\n",
    "                                 'Average Clicks per Activity']\n",
    "\n",
    "activities_and_clicks.reset_index(inplace=True)\n",
    "\n",
    "activities_and_clicks.head()\n"
   ]
  },
  {
   "cell_type": "code",
   "execution_count": null,
   "id": "exciting-forest",
   "metadata": {},
   "outputs": [],
   "source": []
  }
 ],
 "metadata": {
  "kernelspec": {
   "display_name": "Python 3.9 (XPython)",
   "language": "python",
   "name": "xpython"
  },
  "language_info": {
   "file_extension": ".py",
   "mimetype": "text/x-python",
   "name": "python",
   "version": "3.9.2"
  }
 },
 "nbformat": 4,
 "nbformat_minor": 5
}
