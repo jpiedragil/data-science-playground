{
 "cells": [
  {
   "cell_type": "markdown",
   "metadata": {},
   "source": [
    "# Ultimate Pandas Guide — Creating a DataFrame\n",
    "\n",
    "Source code from Medium's article [\"Ultimate Pandas Guide — Creating a DataFrame\"](https://towardsdatascience.com/ultimate-pandas-guide-creating-a-dataframe-9f063e590e78) written by [Skyler Dale](https://towardsdatascience.com/@skylerdale)."
   ]
  },
  {
   "cell_type": "markdown",
   "metadata": {},
   "source": [
    "# Understanding the \"DataFrame\" method"
   ]
  },
  {
   "cell_type": "code",
   "execution_count": 1,
   "metadata": {
    "execution": {
     "iopub.execute_input": "2020-10-01T19:05:06.938934Z",
     "iopub.status.busy": "2020-10-01T19:05:06.938934Z",
     "iopub.status.idle": "2020-10-01T19:05:09.024958Z",
     "shell.execute_reply": "2020-10-01T19:05:09.023957Z",
     "shell.execute_reply.started": "2020-10-01T19:05:06.938934Z"
    }
   },
   "outputs": [],
   "source": [
    "import pandas as pd\n",
    "\n",
    "empty_df = pd.DataFrame()"
   ]
  },
  {
   "cell_type": "markdown",
   "metadata": {
    "execution": {
     "iopub.execute_input": "2020-10-01T19:06:17.880788Z",
     "iopub.status.busy": "2020-10-01T19:06:17.879785Z",
     "iopub.status.idle": "2020-10-01T19:06:17.895789Z",
     "shell.execute_reply": "2020-10-01T19:06:17.893784Z",
     "shell.execute_reply.started": "2020-10-01T19:06:17.880788Z"
    }
   },
   "source": [
    "## Creating a DataFrame from a list of lists"
   ]
  },
  {
   "cell_type": "code",
   "execution_count": 5,
   "metadata": {
    "execution": {
     "iopub.execute_input": "2020-10-01T19:10:11.253296Z",
     "iopub.status.busy": "2020-10-01T19:10:11.252301Z",
     "iopub.status.idle": "2020-10-01T19:10:11.289299Z",
     "shell.execute_reply": "2020-10-01T19:10:11.287296Z",
     "shell.execute_reply.started": "2020-10-01T19:10:11.253296Z"
    }
   },
   "outputs": [
    {
     "data": {
      "text/html": [
       "<div>\n",
       "<style scoped>\n",
       "    .dataframe tbody tr th:only-of-type {\n",
       "        vertical-align: middle;\n",
       "    }\n",
       "\n",
       "    .dataframe tbody tr th {\n",
       "        vertical-align: top;\n",
       "    }\n",
       "\n",
       "    .dataframe thead th {\n",
       "        text-align: right;\n",
       "    }\n",
       "</style>\n",
       "<table border=\"1\" class=\"dataframe\">\n",
       "  <thead>\n",
       "    <tr style=\"text-align: right;\">\n",
       "      <th></th>\n",
       "      <th>animal</th>\n",
       "      <th>favorite_food</th>\n",
       "      <th>cuteness_level</th>\n",
       "    </tr>\n",
       "  </thead>\n",
       "  <tbody>\n",
       "    <tr>\n",
       "      <th>0</th>\n",
       "      <td>panda</td>\n",
       "      <td>bamboo</td>\n",
       "      <td>100</td>\n",
       "    </tr>\n",
       "    <tr>\n",
       "      <th>1</th>\n",
       "      <td>koala</td>\n",
       "      <td>eucalyptus</td>\n",
       "      <td>100</td>\n",
       "    </tr>\n",
       "  </tbody>\n",
       "</table>\n",
       "</div>"
      ],
      "text/plain": [
       "  animal favorite_food  cuteness_level\n",
       "0  panda        bamboo             100\n",
       "1  koala    eucalyptus             100"
      ]
     },
     "execution_count": 5,
     "metadata": {},
     "output_type": "execute_result"
    }
   ],
   "source": [
    "data = [[\"panda\", \"bamboo\", 100],\n",
    "        [\"koala\", \"eucalyptus\", 100]]\n",
    "\n",
    "pd.DataFrame(data, columns=[\"animal\", \"favorite_food\", \"cuteness_level\"])"
   ]
  },
  {
   "cell_type": "markdown",
   "metadata": {},
   "source": [
    "## Creating a DataFrame from a dictionary — Method #1"
   ]
  },
  {
   "cell_type": "code",
   "execution_count": 7,
   "metadata": {
    "execution": {
     "iopub.execute_input": "2020-10-01T19:16:17.270620Z",
     "iopub.status.busy": "2020-10-01T19:16:17.270620Z",
     "iopub.status.idle": "2020-10-01T19:16:17.292619Z",
     "shell.execute_reply": "2020-10-01T19:16:17.290619Z",
     "shell.execute_reply.started": "2020-10-01T19:16:17.270620Z"
    }
   },
   "outputs": [
    {
     "data": {
      "text/html": [
       "<div>\n",
       "<style scoped>\n",
       "    .dataframe tbody tr th:only-of-type {\n",
       "        vertical-align: middle;\n",
       "    }\n",
       "\n",
       "    .dataframe tbody tr th {\n",
       "        vertical-align: top;\n",
       "    }\n",
       "\n",
       "    .dataframe thead th {\n",
       "        text-align: right;\n",
       "    }\n",
       "</style>\n",
       "<table border=\"1\" class=\"dataframe\">\n",
       "  <thead>\n",
       "    <tr style=\"text-align: right;\">\n",
       "      <th></th>\n",
       "      <th>animal</th>\n",
       "      <th>favorite_food</th>\n",
       "      <th>cuteness_level</th>\n",
       "    </tr>\n",
       "  </thead>\n",
       "  <tbody>\n",
       "    <tr>\n",
       "      <th>0</th>\n",
       "      <td>panda</td>\n",
       "      <td>bamboo</td>\n",
       "      <td>100</td>\n",
       "    </tr>\n",
       "    <tr>\n",
       "      <th>1</th>\n",
       "      <td>koala</td>\n",
       "      <td>eucalyptus</td>\n",
       "      <td>100</td>\n",
       "    </tr>\n",
       "  </tbody>\n",
       "</table>\n",
       "</div>"
      ],
      "text/plain": [
       "  animal favorite_food  cuteness_level\n",
       "0  panda        bamboo             100\n",
       "1  koala    eucalyptus             100"
      ]
     },
     "execution_count": 7,
     "metadata": {},
     "output_type": "execute_result"
    }
   ],
   "source": [
    "data = {\"animal\": [\"panda\", \"koala\"],\n",
    "        \"favorite_food\": [\"bamboo\", \"eucalyptus\"],\n",
    "        \"cuteness_level\": [100, 100]\n",
    "       }\n",
    "\n",
    "pd.DataFrame(data)"
   ]
  },
  {
   "cell_type": "markdown",
   "metadata": {},
   "source": [
    "## Creating a DataFrame from a dictionary — Method #2"
   ]
  },
  {
   "cell_type": "code",
   "execution_count": 8,
   "metadata": {
    "execution": {
     "iopub.execute_input": "2020-10-01T19:21:48.287027Z",
     "iopub.status.busy": "2020-10-01T19:21:48.286027Z",
     "iopub.status.idle": "2020-10-01T19:21:48.316028Z",
     "shell.execute_reply": "2020-10-01T19:21:48.314026Z",
     "shell.execute_reply.started": "2020-10-01T19:21:48.287027Z"
    }
   },
   "outputs": [
    {
     "data": {
      "text/html": [
       "<div>\n",
       "<style scoped>\n",
       "    .dataframe tbody tr th:only-of-type {\n",
       "        vertical-align: middle;\n",
       "    }\n",
       "\n",
       "    .dataframe tbody tr th {\n",
       "        vertical-align: top;\n",
       "    }\n",
       "\n",
       "    .dataframe thead th {\n",
       "        text-align: right;\n",
       "    }\n",
       "</style>\n",
       "<table border=\"1\" class=\"dataframe\">\n",
       "  <thead>\n",
       "    <tr style=\"text-align: right;\">\n",
       "      <th></th>\n",
       "      <th>first_animal</th>\n",
       "      <th>second_animal</th>\n",
       "    </tr>\n",
       "  </thead>\n",
       "  <tbody>\n",
       "    <tr>\n",
       "      <th>animal</th>\n",
       "      <td>panda</td>\n",
       "      <td>koala</td>\n",
       "    </tr>\n",
       "    <tr>\n",
       "      <th>favorite_food</th>\n",
       "      <td>bamboo</td>\n",
       "      <td>eucalyptus</td>\n",
       "    </tr>\n",
       "    <tr>\n",
       "      <th>cuteness_level</th>\n",
       "      <td>100</td>\n",
       "      <td>100</td>\n",
       "    </tr>\n",
       "  </tbody>\n",
       "</table>\n",
       "</div>"
      ],
      "text/plain": [
       "               first_animal second_animal\n",
       "animal                panda         koala\n",
       "favorite_food        bamboo    eucalyptus\n",
       "cuteness_level          100           100"
      ]
     },
     "execution_count": 8,
     "metadata": {},
     "output_type": "execute_result"
    }
   ],
   "source": [
    "data = {\"animal\": [\"panda\", \"koala\"],\n",
    "        \"favorite_food\": [\"bamboo\", \"eucalyptus\"],\n",
    "        \"cuteness_level\": [100, 100]\n",
    "       }\n",
    "\n",
    "pd.DataFrame.from_dict(data, orient= \"index\", columns=[\"first_animal\", \"second_animal\"])"
   ]
  },
  {
   "cell_type": "markdown",
   "metadata": {},
   "source": [
    "## Creating a DataFrame from a list of dictionaries"
   ]
  },
  {
   "cell_type": "code",
   "execution_count": 9,
   "metadata": {
    "execution": {
     "iopub.execute_input": "2020-10-01T19:26:54.876594Z",
     "iopub.status.busy": "2020-10-01T19:26:54.876594Z",
     "iopub.status.idle": "2020-10-01T19:26:54.891596Z",
     "shell.execute_reply": "2020-10-01T19:26:54.890595Z",
     "shell.execute_reply.started": "2020-10-01T19:26:54.876594Z"
    }
   },
   "outputs": [
    {
     "data": {
      "text/html": [
       "<div>\n",
       "<style scoped>\n",
       "    .dataframe tbody tr th:only-of-type {\n",
       "        vertical-align: middle;\n",
       "    }\n",
       "\n",
       "    .dataframe tbody tr th {\n",
       "        vertical-align: top;\n",
       "    }\n",
       "\n",
       "    .dataframe thead th {\n",
       "        text-align: right;\n",
       "    }\n",
       "</style>\n",
       "<table border=\"1\" class=\"dataframe\">\n",
       "  <thead>\n",
       "    <tr style=\"text-align: right;\">\n",
       "      <th></th>\n",
       "      <th>animal</th>\n",
       "      <th>favorite_food</th>\n",
       "      <th>cuteness_level</th>\n",
       "    </tr>\n",
       "  </thead>\n",
       "  <tbody>\n",
       "    <tr>\n",
       "      <th>0</th>\n",
       "      <td>panda</td>\n",
       "      <td>bamboo</td>\n",
       "      <td>100</td>\n",
       "    </tr>\n",
       "    <tr>\n",
       "      <th>1</th>\n",
       "      <td>koala</td>\n",
       "      <td>eucalyptus</td>\n",
       "      <td>100</td>\n",
       "    </tr>\n",
       "  </tbody>\n",
       "</table>\n",
       "</div>"
      ],
      "text/plain": [
       "  animal favorite_food  cuteness_level\n",
       "0  panda        bamboo             100\n",
       "1  koala    eucalyptus             100"
      ]
     },
     "execution_count": 9,
     "metadata": {},
     "output_type": "execute_result"
    }
   ],
   "source": [
    "data = [{\"animal\": \"panda\",\n",
    "         \"favorite_food\": \"bamboo\",\n",
    "         \"cuteness_level\": 100\n",
    "        },\n",
    "        {\"animal\": \"koala\",\n",
    "         \"favorite_food\": \"eucalyptus\",\n",
    "         \"cuteness_level\": 100\n",
    "        }\n",
    "       ]\n",
    "\n",
    "pd.DataFrame(data)"
   ]
  },
  {
   "cell_type": "markdown",
   "metadata": {
    "execution": {
     "iopub.execute_input": "2020-10-01T19:28:03.863000Z",
     "iopub.status.busy": "2020-10-01T19:28:03.862000Z",
     "iopub.status.idle": "2020-10-01T19:28:03.876002Z",
     "shell.execute_reply": "2020-10-01T19:28:03.875001Z",
     "shell.execute_reply.started": "2020-10-01T19:28:03.863000Z"
    }
   },
   "source": [
    "## Creating a DataFrame from numpy array"
   ]
  },
  {
   "cell_type": "code",
   "execution_count": 12,
   "metadata": {
    "execution": {
     "iopub.execute_input": "2020-10-01T19:35:33.607971Z",
     "iopub.status.busy": "2020-10-01T19:35:33.606974Z",
     "iopub.status.idle": "2020-10-01T19:35:33.629972Z",
     "shell.execute_reply": "2020-10-01T19:35:33.628971Z",
     "shell.execute_reply.started": "2020-10-01T19:35:33.607971Z"
    }
   },
   "outputs": [
    {
     "data": {
      "text/html": [
       "<div>\n",
       "<style scoped>\n",
       "    .dataframe tbody tr th:only-of-type {\n",
       "        vertical-align: middle;\n",
       "    }\n",
       "\n",
       "    .dataframe tbody tr th {\n",
       "        vertical-align: top;\n",
       "    }\n",
       "\n",
       "    .dataframe thead th {\n",
       "        text-align: right;\n",
       "    }\n",
       "</style>\n",
       "<table border=\"1\" class=\"dataframe\">\n",
       "  <thead>\n",
       "    <tr style=\"text-align: right;\">\n",
       "      <th></th>\n",
       "      <th>animal</th>\n",
       "      <th>favorite_food</th>\n",
       "      <th>cuteness_leve</th>\n",
       "    </tr>\n",
       "  </thead>\n",
       "  <tbody>\n",
       "    <tr>\n",
       "      <th>0</th>\n",
       "      <td>panda</td>\n",
       "      <td>bamboo</td>\n",
       "      <td>100</td>\n",
       "    </tr>\n",
       "    <tr>\n",
       "      <th>1</th>\n",
       "      <td>koala</td>\n",
       "      <td>eucaly</td>\n",
       "      <td>100</td>\n",
       "    </tr>\n",
       "  </tbody>\n",
       "</table>\n",
       "</div>"
      ],
      "text/plain": [
       "  animal favorite_food  cuteness_leve\n",
       "0  panda        bamboo            100\n",
       "1  koala        eucaly            100"
      ]
     },
     "execution_count": 12,
     "metadata": {},
     "output_type": "execute_result"
    }
   ],
   "source": [
    "import numpy as np\n",
    "\n",
    "data = np.array([(\"panda\", \"bamboo\", 100),\n",
    "                 (\"koala\", \"eucalyptus\", 100)],\n",
    "                 dtype=[(\"animal\", \"U6\"),\n",
    "                       (\"favorite_food\", \"U6\"),\n",
    "                       (\"cuteness_leve\", int)\n",
    "                ]\n",
    "               )\n",
    "\n",
    "pd.DataFrame(data)"
   ]
  },
  {
   "cell_type": "code",
   "execution_count": null,
   "metadata": {},
   "outputs": [],
   "source": []
  }
 ],
 "metadata": {
  "kernelspec": {
   "display_name": "Python [conda env:.conda-jpnb_py38] *",
   "language": "python",
   "name": "conda-env-.conda-jpnb_py38-py"
  },
  "language_info": {
   "codemirror_mode": {
    "name": "ipython",
    "version": 3
   },
   "file_extension": ".py",
   "mimetype": "text/x-python",
   "name": "python",
   "nbconvert_exporter": "python",
   "pygments_lexer": "ipython3",
   "version": "3.8.5"
  }
 },
 "nbformat": 4,
 "nbformat_minor": 4
}
