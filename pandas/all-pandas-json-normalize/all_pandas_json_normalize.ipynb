{
 "metadata": {
  "language_info": {
   "codemirror_mode": {
    "name": "ipython",
    "version": 3
   },
   "file_extension": ".py",
   "mimetype": "text/x-python",
   "name": "python",
   "nbconvert_exporter": "python",
   "pygments_lexer": "ipython3",
   "version": "3.9.2"
  },
  "orig_nbformat": 2,
  "kernelspec": {
   "name": "python392jvsc74a57bd0781efe2f02e0a1786bef1869d79841c43af707769b96c8a4e888a356a49ff8a4",
   "display_name": "Python 3.9.2 64-bit ('jplab3_vscode': conda)"
  }
 },
 "nbformat": 4,
 "nbformat_minor": 2,
 "cells": [
  {
   "source": [
    "# All Pandas json_normalize() you should know for flattening JSON\n",
    "\n",
    "Source code for Medium's article [All Pandas json_normalize() you should know for flattening JSON](https://bit.ly/3xxkw07), written by [B. Chen](https://bindichen.medium.com/)."
   ],
   "cell_type": "markdown",
   "metadata": {}
  },
  {
   "source": [
    "## Importing libraries"
   ],
   "cell_type": "markdown",
   "metadata": {}
  },
  {
   "cell_type": "code",
   "execution_count": 37,
   "metadata": {},
   "outputs": [],
   "source": [
    "import json\n",
    "import requests\n",
    "\n",
    "import pandas as pd"
   ]
  },
  {
   "source": [
    "## Flattening a simple JSON"
   ],
   "cell_type": "markdown",
   "metadata": {}
  },
  {
   "source": [
    "### When the JSON is a simple dict"
   ],
   "cell_type": "markdown",
   "metadata": {}
  },
  {
   "cell_type": "code",
   "execution_count": 2,
   "metadata": {},
   "outputs": [],
   "source": [
    "a_dict = {\n",
    "    'school': 'ABC primary school',\n",
    "    'location': 'london',\n",
    "    'ranking': 2\n",
    "}\n",
    "\n",
    "df = pd.json_normalize(a_dict)"
   ]
  },
  {
   "cell_type": "code",
   "execution_count": 3,
   "metadata": {},
   "outputs": [
    {
     "output_type": "execute_result",
     "data": {
      "text/plain": [
       "               school location  ranking\n",
       "0  ABC primary school   london        2"
      ],
      "text/html": "<div>\n<style scoped>\n    .dataframe tbody tr th:only-of-type {\n        vertical-align: middle;\n    }\n\n    .dataframe tbody tr th {\n        vertical-align: top;\n    }\n\n    .dataframe thead th {\n        text-align: right;\n    }\n</style>\n<table border=\"1\" class=\"dataframe\">\n  <thead>\n    <tr style=\"text-align: right;\">\n      <th></th>\n      <th>school</th>\n      <th>location</th>\n      <th>ranking</th>\n    </tr>\n  </thead>\n  <tbody>\n    <tr>\n      <th>0</th>\n      <td>ABC primary school</td>\n      <td>london</td>\n      <td>2</td>\n    </tr>\n  </tbody>\n</table>\n</div>"
     },
     "metadata": {},
     "execution_count": 3
    }
   ],
   "source": [
    "df"
   ]
  },
  {
   "cell_type": "code",
   "execution_count": 4,
   "metadata": {},
   "outputs": [
    {
     "output_type": "stream",
     "name": "stdout",
     "text": [
      "<class 'pandas.core.frame.DataFrame'>\nRangeIndex: 1 entries, 0 to 0\nData columns (total 3 columns):\n #   Column    Non-Null Count  Dtype \n---  ------    --------------  ----- \n 0   school    1 non-null      object\n 1   location  1 non-null      object\n 2   ranking   1 non-null      int64 \ndtypes: int64(1), object(2)\nmemory usage: 152.0+ bytes\n"
     ]
    }
   ],
   "source": [
    "df.info()"
   ]
  },
  {
   "source": [
    "### When the data is a list of dicts"
   ],
   "cell_type": "markdown",
   "metadata": {}
  },
  {
   "cell_type": "code",
   "execution_count": 5,
   "metadata": {},
   "outputs": [],
   "source": [
    "json_list = [\n",
    "    {'class': 'Year 1', 'student number': 20, 'room': 'Yellow'},\n",
    "    {'class': 'Year 2', 'student number': 25, 'room': 'Blue'}\n",
    "]\n",
    "\n",
    "df = pd.json_normalize(json_list)"
   ]
  },
  {
   "cell_type": "code",
   "execution_count": 6,
   "metadata": {},
   "outputs": [
    {
     "output_type": "execute_result",
     "data": {
      "text/plain": [
       "    class  student number    room\n",
       "0  Year 1              20  Yellow\n",
       "1  Year 2              25    Blue"
      ],
      "text/html": "<div>\n<style scoped>\n    .dataframe tbody tr th:only-of-type {\n        vertical-align: middle;\n    }\n\n    .dataframe tbody tr th {\n        vertical-align: top;\n    }\n\n    .dataframe thead th {\n        text-align: right;\n    }\n</style>\n<table border=\"1\" class=\"dataframe\">\n  <thead>\n    <tr style=\"text-align: right;\">\n      <th></th>\n      <th>class</th>\n      <th>student number</th>\n      <th>room</th>\n    </tr>\n  </thead>\n  <tbody>\n    <tr>\n      <th>0</th>\n      <td>Year 1</td>\n      <td>20</td>\n      <td>Yellow</td>\n    </tr>\n    <tr>\n      <th>1</th>\n      <td>Year 2</td>\n      <td>25</td>\n      <td>Blue</td>\n    </tr>\n  </tbody>\n</table>\n</div>"
     },
     "metadata": {},
     "execution_count": 6
    }
   ],
   "source": [
    "df"
   ]
  },
  {
   "cell_type": "code",
   "execution_count": 7,
   "metadata": {},
   "outputs": [],
   "source": [
    "json_list = [\n",
    "    {'class': 'Year 1', 'student number': 20, 'room': 'Yellow'},\n",
    "    {'class': 'Year 2', 'room': 'Blue'}\n",
    "]\n",
    "\n",
    "df = pd.json_normalize(json_list)"
   ]
  },
  {
   "cell_type": "code",
   "execution_count": 8,
   "metadata": {},
   "outputs": [
    {
     "output_type": "execute_result",
     "data": {
      "text/plain": [
       "    class  student number    room\n",
       "0  Year 1            20.0  Yellow\n",
       "1  Year 2             NaN    Blue"
      ],
      "text/html": "<div>\n<style scoped>\n    .dataframe tbody tr th:only-of-type {\n        vertical-align: middle;\n    }\n\n    .dataframe tbody tr th {\n        vertical-align: top;\n    }\n\n    .dataframe thead th {\n        text-align: right;\n    }\n</style>\n<table border=\"1\" class=\"dataframe\">\n  <thead>\n    <tr style=\"text-align: right;\">\n      <th></th>\n      <th>class</th>\n      <th>student number</th>\n      <th>room</th>\n    </tr>\n  </thead>\n  <tbody>\n    <tr>\n      <th>0</th>\n      <td>Year 1</td>\n      <td>20.0</td>\n      <td>Yellow</td>\n    </tr>\n    <tr>\n      <th>1</th>\n      <td>Year 2</td>\n      <td>NaN</td>\n      <td>Blue</td>\n    </tr>\n  </tbody>\n</table>\n</div>"
     },
     "metadata": {},
     "execution_count": 8
    }
   ],
   "source": [
    "df"
   ]
  },
  {
   "source": [
    "## Flattening a JSON with multiple levels "
   ],
   "cell_type": "markdown",
   "metadata": {}
  },
  {
   "source": [
    "### When the data is a dict"
   ],
   "cell_type": "markdown",
   "metadata": {}
  },
  {
   "cell_type": "code",
   "execution_count": 9,
   "metadata": {},
   "outputs": [],
   "source": [
    "json_obj = {\n",
    "    'school': 'ABC primary school',\n",
    "    'location': 'London',\n",
    "    'ranking': 2,\n",
    "    'info': {\n",
    "        'president': 'John Kasich',\n",
    "        'contacts': {\n",
    "            'email': {\n",
    "                'admission': 'admission@abc.com',\n",
    "                'general': 'info@abc.com'\n",
    "            },\n",
    "            'tel': '123456789'\n",
    "        }\n",
    "    }\n",
    "}\n",
    "\n",
    "df = pd.json_normalize(json_obj)"
   ]
  },
  {
   "cell_type": "code",
   "execution_count": 10,
   "metadata": {},
   "outputs": [
    {
     "output_type": "execute_result",
     "data": {
      "text/plain": [
       "               school location  ranking info.president  \\\n",
       "0  ABC primary school   London        2    John Kasich   \n",
       "\n",
       "  info.contacts.email.admission info.contacts.email.general info.contacts.tel  \n",
       "0             admission@abc.com                info@abc.com         123456789  "
      ],
      "text/html": "<div>\n<style scoped>\n    .dataframe tbody tr th:only-of-type {\n        vertical-align: middle;\n    }\n\n    .dataframe tbody tr th {\n        vertical-align: top;\n    }\n\n    .dataframe thead th {\n        text-align: right;\n    }\n</style>\n<table border=\"1\" class=\"dataframe\">\n  <thead>\n    <tr style=\"text-align: right;\">\n      <th></th>\n      <th>school</th>\n      <th>location</th>\n      <th>ranking</th>\n      <th>info.president</th>\n      <th>info.contacts.email.admission</th>\n      <th>info.contacts.email.general</th>\n      <th>info.contacts.tel</th>\n    </tr>\n  </thead>\n  <tbody>\n    <tr>\n      <th>0</th>\n      <td>ABC primary school</td>\n      <td>London</td>\n      <td>2</td>\n      <td>John Kasich</td>\n      <td>admission@abc.com</td>\n      <td>info@abc.com</td>\n      <td>123456789</td>\n    </tr>\n  </tbody>\n</table>\n</div>"
     },
     "metadata": {},
     "execution_count": 10
    }
   ],
   "source": [
    "df"
   ]
  },
  {
   "cell_type": "code",
   "execution_count": 11,
   "metadata": {},
   "outputs": [],
   "source": [
    "df = pd.json_normalize(json_obj, max_level=1)"
   ]
  },
  {
   "cell_type": "code",
   "execution_count": 12,
   "metadata": {},
   "outputs": [
    {
     "output_type": "execute_result",
     "data": {
      "text/plain": [
       "               school location  ranking info.president  \\\n",
       "0  ABC primary school   London        2    John Kasich   \n",
       "\n",
       "                                       info.contacts  \n",
       "0  {'email': {'admission': 'admission@abc.com', '...  "
      ],
      "text/html": "<div>\n<style scoped>\n    .dataframe tbody tr th:only-of-type {\n        vertical-align: middle;\n    }\n\n    .dataframe tbody tr th {\n        vertical-align: top;\n    }\n\n    .dataframe thead th {\n        text-align: right;\n    }\n</style>\n<table border=\"1\" class=\"dataframe\">\n  <thead>\n    <tr style=\"text-align: right;\">\n      <th></th>\n      <th>school</th>\n      <th>location</th>\n      <th>ranking</th>\n      <th>info.president</th>\n      <th>info.contacts</th>\n    </tr>\n  </thead>\n  <tbody>\n    <tr>\n      <th>0</th>\n      <td>ABC primary school</td>\n      <td>London</td>\n      <td>2</td>\n      <td>John Kasich</td>\n      <td>{'email': {'admission': 'admission@abc.com', '...</td>\n    </tr>\n  </tbody>\n</table>\n</div>"
     },
     "metadata": {},
     "execution_count": 12
    }
   ],
   "source": [
    "df"
   ]
  },
  {
   "source": [
    "### When the data is a list of dicts"
   ],
   "cell_type": "markdown",
   "metadata": {}
  },
  {
   "cell_type": "code",
   "execution_count": 13,
   "metadata": {},
   "outputs": [],
   "source": [
    "json_list = [\n",
    "    {\n",
    "        'class': 'Year 1',\n",
    "        'student count': 20,\n",
    "        'room': 'Yellow',\n",
    "        'info': {\n",
    "            'teachers': {\n",
    "                'math': 'Rick Scott',\n",
    "                'physics': 'Elon Mask'\n",
    "            }\n",
    "        }\n",
    "    },\n",
    "    {\n",
    "        'class': 'Year 2',\n",
    "        'student count': 25,\n",
    "        'room': 'Blue',\n",
    "        'info': {\n",
    "            'teachers': {\n",
    "                'math': 'Alan Turing',\n",
    "                'physics': 'Albert Einstein'\n",
    "            }\n",
    "        }\n",
    "    }\n",
    "]\n",
    "\n",
    "df = pd.json_normalize(json_list) "
   ]
  },
  {
   "cell_type": "code",
   "execution_count": 14,
   "metadata": {},
   "outputs": [
    {
     "output_type": "execute_result",
     "data": {
      "text/plain": [
       "    class  student count    room info.teachers.math info.teachers.physics\n",
       "0  Year 1             20  Yellow         Rick Scott             Elon Mask\n",
       "1  Year 2             25    Blue        Alan Turing       Albert Einstein"
      ],
      "text/html": "<div>\n<style scoped>\n    .dataframe tbody tr th:only-of-type {\n        vertical-align: middle;\n    }\n\n    .dataframe tbody tr th {\n        vertical-align: top;\n    }\n\n    .dataframe thead th {\n        text-align: right;\n    }\n</style>\n<table border=\"1\" class=\"dataframe\">\n  <thead>\n    <tr style=\"text-align: right;\">\n      <th></th>\n      <th>class</th>\n      <th>student count</th>\n      <th>room</th>\n      <th>info.teachers.math</th>\n      <th>info.teachers.physics</th>\n    </tr>\n  </thead>\n  <tbody>\n    <tr>\n      <th>0</th>\n      <td>Year 1</td>\n      <td>20</td>\n      <td>Yellow</td>\n      <td>Rick Scott</td>\n      <td>Elon Mask</td>\n    </tr>\n    <tr>\n      <th>1</th>\n      <td>Year 2</td>\n      <td>25</td>\n      <td>Blue</td>\n      <td>Alan Turing</td>\n      <td>Albert Einstein</td>\n    </tr>\n  </tbody>\n</table>\n</div>"
     },
     "metadata": {},
     "execution_count": 14
    }
   ],
   "source": [
    "df"
   ]
  },
  {
   "cell_type": "code",
   "execution_count": 15,
   "metadata": {},
   "outputs": [],
   "source": [
    "df = pd.json_normalize(json_list, max_level=1)"
   ]
  },
  {
   "cell_type": "code",
   "execution_count": 16,
   "metadata": {},
   "outputs": [
    {
     "output_type": "execute_result",
     "data": {
      "text/plain": [
       "    class  student count    room  \\\n",
       "0  Year 1             20  Yellow   \n",
       "1  Year 2             25    Blue   \n",
       "\n",
       "                                       info.teachers  \n",
       "0     {'math': 'Rick Scott', 'physics': 'Elon Mask'}  \n",
       "1  {'math': 'Alan Turing', 'physics': 'Albert Ein...  "
      ],
      "text/html": "<div>\n<style scoped>\n    .dataframe tbody tr th:only-of-type {\n        vertical-align: middle;\n    }\n\n    .dataframe tbody tr th {\n        vertical-align: top;\n    }\n\n    .dataframe thead th {\n        text-align: right;\n    }\n</style>\n<table border=\"1\" class=\"dataframe\">\n  <thead>\n    <tr style=\"text-align: right;\">\n      <th></th>\n      <th>class</th>\n      <th>student count</th>\n      <th>room</th>\n      <th>info.teachers</th>\n    </tr>\n  </thead>\n  <tbody>\n    <tr>\n      <th>0</th>\n      <td>Year 1</td>\n      <td>20</td>\n      <td>Yellow</td>\n      <td>{'math': 'Rick Scott', 'physics': 'Elon Mask'}</td>\n    </tr>\n    <tr>\n      <th>1</th>\n      <td>Year 2</td>\n      <td>25</td>\n      <td>Blue</td>\n      <td>{'math': 'Alan Turing', 'physics': 'Albert Ein...</td>\n    </tr>\n  </tbody>\n</table>\n</div>"
     },
     "metadata": {},
     "execution_count": 16
    }
   ],
   "source": [
    "df"
   ]
  },
  {
   "source": [
    "## Flattening JSON with a nested list"
   ],
   "cell_type": "markdown",
   "metadata": {}
  },
  {
   "source": [
    "### When the data is a dict"
   ],
   "cell_type": "markdown",
   "metadata": {}
  },
  {
   "cell_type": "code",
   "execution_count": 17,
   "metadata": {},
   "outputs": [],
   "source": [
    "json_obj = {\n",
    "    'school': 'ABC primary school',\n",
    "    'location': 'London',\n",
    "    'ranking': 2,\n",
    "    'info': {\n",
    "        'president': 'John Kasich',\n",
    "        'contacts': {\n",
    "            'email': {\n",
    "                'admission': 'admission@abc.com',\n",
    "                'general': 'info@abc.com'\n",
    "            },\n",
    "            'tel': '123456789'\n",
    "        }\n",
    "    },\n",
    "    'students': [\n",
    "        {'name': 'Tom'},\n",
    "        {'name': 'James'},\n",
    "        {'name': 'Jacqueline'},\n",
    "    ]\n",
    "}\n",
    "\n",
    "df = pd.json_normalize(json_obj)"
   ]
  },
  {
   "cell_type": "code",
   "execution_count": 18,
   "metadata": {},
   "outputs": [
    {
     "output_type": "execute_result",
     "data": {
      "text/plain": [
       "               school location  ranking  \\\n",
       "0  ABC primary school   London        2   \n",
       "\n",
       "                                            students info.president  \\\n",
       "0  [{'name': 'Tom'}, {'name': 'James'}, {'name': ...    John Kasich   \n",
       "\n",
       "  info.contacts.email.admission info.contacts.email.general info.contacts.tel  \n",
       "0             admission@abc.com                info@abc.com         123456789  "
      ],
      "text/html": "<div>\n<style scoped>\n    .dataframe tbody tr th:only-of-type {\n        vertical-align: middle;\n    }\n\n    .dataframe tbody tr th {\n        vertical-align: top;\n    }\n\n    .dataframe thead th {\n        text-align: right;\n    }\n</style>\n<table border=\"1\" class=\"dataframe\">\n  <thead>\n    <tr style=\"text-align: right;\">\n      <th></th>\n      <th>school</th>\n      <th>location</th>\n      <th>ranking</th>\n      <th>students</th>\n      <th>info.president</th>\n      <th>info.contacts.email.admission</th>\n      <th>info.contacts.email.general</th>\n      <th>info.contacts.tel</th>\n    </tr>\n  </thead>\n  <tbody>\n    <tr>\n      <th>0</th>\n      <td>ABC primary school</td>\n      <td>London</td>\n      <td>2</td>\n      <td>[{'name': 'Tom'}, {'name': 'James'}, {'name': ...</td>\n      <td>John Kasich</td>\n      <td>admission@abc.com</td>\n      <td>info@abc.com</td>\n      <td>123456789</td>\n    </tr>\n  </tbody>\n</table>\n</div>"
     },
     "metadata": {},
     "execution_count": 18
    }
   ],
   "source": [
    "df"
   ]
  },
  {
   "cell_type": "code",
   "execution_count": 19,
   "metadata": {},
   "outputs": [],
   "source": [
    "df = pd.json_normalize(json_obj, record_path=['students'])"
   ]
  },
  {
   "cell_type": "code",
   "execution_count": 20,
   "metadata": {},
   "outputs": [
    {
     "output_type": "execute_result",
     "data": {
      "text/plain": [
       "         name\n",
       "0         Tom\n",
       "1       James\n",
       "2  Jacqueline"
      ],
      "text/html": "<div>\n<style scoped>\n    .dataframe tbody tr th:only-of-type {\n        vertical-align: middle;\n    }\n\n    .dataframe tbody tr th {\n        vertical-align: top;\n    }\n\n    .dataframe thead th {\n        text-align: right;\n    }\n</style>\n<table border=\"1\" class=\"dataframe\">\n  <thead>\n    <tr style=\"text-align: right;\">\n      <th></th>\n      <th>name</th>\n    </tr>\n  </thead>\n  <tbody>\n    <tr>\n      <th>0</th>\n      <td>Tom</td>\n    </tr>\n    <tr>\n      <th>1</th>\n      <td>James</td>\n    </tr>\n    <tr>\n      <th>2</th>\n      <td>Jacqueline</td>\n    </tr>\n  </tbody>\n</table>\n</div>"
     },
     "metadata": {},
     "execution_count": 20
    }
   ],
   "source": [
    "df"
   ]
  },
  {
   "cell_type": "code",
   "execution_count": 21,
   "metadata": {},
   "outputs": [],
   "source": [
    "df = pd.json_normalize(\n",
    "     json_obj,\n",
    "     record_path=['students'],\n",
    "     meta=['school', ['info', 'contacts', 'tel']]\n",
    "     )"
   ]
  },
  {
   "cell_type": "code",
   "execution_count": 22,
   "metadata": {},
   "outputs": [
    {
     "output_type": "execute_result",
     "data": {
      "text/plain": [
       "         name              school info.contacts.tel\n",
       "0         Tom  ABC primary school         123456789\n",
       "1       James  ABC primary school         123456789\n",
       "2  Jacqueline  ABC primary school         123456789"
      ],
      "text/html": "<div>\n<style scoped>\n    .dataframe tbody tr th:only-of-type {\n        vertical-align: middle;\n    }\n\n    .dataframe tbody tr th {\n        vertical-align: top;\n    }\n\n    .dataframe thead th {\n        text-align: right;\n    }\n</style>\n<table border=\"1\" class=\"dataframe\">\n  <thead>\n    <tr style=\"text-align: right;\">\n      <th></th>\n      <th>name</th>\n      <th>school</th>\n      <th>info.contacts.tel</th>\n    </tr>\n  </thead>\n  <tbody>\n    <tr>\n      <th>0</th>\n      <td>Tom</td>\n      <td>ABC primary school</td>\n      <td>123456789</td>\n    </tr>\n    <tr>\n      <th>1</th>\n      <td>James</td>\n      <td>ABC primary school</td>\n      <td>123456789</td>\n    </tr>\n    <tr>\n      <th>2</th>\n      <td>Jacqueline</td>\n      <td>ABC primary school</td>\n      <td>123456789</td>\n    </tr>\n  </tbody>\n</table>\n</div>"
     },
     "metadata": {},
     "execution_count": 22
    }
   ],
   "source": [
    "df"
   ]
  },
  {
   "source": [
    "### When the data is a list of dicts"
   ],
   "cell_type": "markdown",
   "metadata": {}
  },
  {
   "cell_type": "code",
   "execution_count": 23,
   "metadata": {},
   "outputs": [],
   "source": [
    "json_list = [\n",
    "    {\n",
    "        'class': 'Year 1',\n",
    "        'student count': 20,\n",
    "        'room': 'Yellow',\n",
    "        'info': {\n",
    "            'teachers': {\n",
    "                'math': 'Rick Scott',\n",
    "                'physics': 'Elon Mask'\n",
    "            }\n",
    "        },\n",
    "        'students': [\n",
    "            {\n",
    "                'name': 'Tom',\n",
    "                'sex': 'M',\n",
    "                'grades': {'math': 66, 'physics': 77}\n",
    "            },\n",
    "            {\n",
    "                'name': 'James',\n",
    "                'sex': 'M',\n",
    "                'grades': {'math': 80, 'physics': 78}\n",
    "            }\n",
    "        ]\n",
    "    },\n",
    "    {\n",
    "        'class': 'Year 2',\n",
    "        'student count': 25,\n",
    "        'room': 'Blue',\n",
    "        'info': {\n",
    "            'teachers': {\n",
    "                'math': 'Alan Turing',\n",
    "                'physics': 'Albert Einstein'\n",
    "            }\n",
    "        },\n",
    "        'students': [\n",
    "            {\n",
    "                'name': 'Tony',\n",
    "                'sex': 'M',\n",
    "            },\n",
    "            {\n",
    "                'name': 'Jacqueline',\n",
    "                'sex': 'F'\n",
    "            }\n",
    "        ]\n",
    "    }\n",
    "]\n",
    "\n",
    "df = pd.json_normalize(json_list)"
   ]
  },
  {
   "cell_type": "code",
   "execution_count": 24,
   "metadata": {},
   "outputs": [
    {
     "output_type": "execute_result",
     "data": {
      "text/plain": [
       "    class  student count    room  \\\n",
       "0  Year 1             20  Yellow   \n",
       "1  Year 2             25    Blue   \n",
       "\n",
       "                                            students info.teachers.math  \\\n",
       "0  [{'name': 'Tom', 'sex': 'M', 'grades': {'math'...         Rick Scott   \n",
       "1  [{'name': 'Tony', 'sex': 'M'}, {'name': 'Jacqu...        Alan Turing   \n",
       "\n",
       "  info.teachers.physics  \n",
       "0             Elon Mask  \n",
       "1       Albert Einstein  "
      ],
      "text/html": "<div>\n<style scoped>\n    .dataframe tbody tr th:only-of-type {\n        vertical-align: middle;\n    }\n\n    .dataframe tbody tr th {\n        vertical-align: top;\n    }\n\n    .dataframe thead th {\n        text-align: right;\n    }\n</style>\n<table border=\"1\" class=\"dataframe\">\n  <thead>\n    <tr style=\"text-align: right;\">\n      <th></th>\n      <th>class</th>\n      <th>student count</th>\n      <th>room</th>\n      <th>students</th>\n      <th>info.teachers.math</th>\n      <th>info.teachers.physics</th>\n    </tr>\n  </thead>\n  <tbody>\n    <tr>\n      <th>0</th>\n      <td>Year 1</td>\n      <td>20</td>\n      <td>Yellow</td>\n      <td>[{'name': 'Tom', 'sex': 'M', 'grades': {'math'...</td>\n      <td>Rick Scott</td>\n      <td>Elon Mask</td>\n    </tr>\n    <tr>\n      <th>1</th>\n      <td>Year 2</td>\n      <td>25</td>\n      <td>Blue</td>\n      <td>[{'name': 'Tony', 'sex': 'M'}, {'name': 'Jacqu...</td>\n      <td>Alan Turing</td>\n      <td>Albert Einstein</td>\n    </tr>\n  </tbody>\n</table>\n</div>"
     },
     "metadata": {},
     "execution_count": 24
    }
   ],
   "source": [
    "df"
   ]
  },
  {
   "cell_type": "code",
   "execution_count": 25,
   "metadata": {},
   "outputs": [],
   "source": [
    "df = pd.json_normalize(json_list, record_path=['students'])"
   ]
  },
  {
   "cell_type": "code",
   "execution_count": 26,
   "metadata": {},
   "outputs": [
    {
     "output_type": "execute_result",
     "data": {
      "text/plain": [
       "         name sex  grades.math  grades.physics\n",
       "0         Tom   M         66.0            77.0\n",
       "1       James   M         80.0            78.0\n",
       "2        Tony   M          NaN             NaN\n",
       "3  Jacqueline   F          NaN             NaN"
      ],
      "text/html": "<div>\n<style scoped>\n    .dataframe tbody tr th:only-of-type {\n        vertical-align: middle;\n    }\n\n    .dataframe tbody tr th {\n        vertical-align: top;\n    }\n\n    .dataframe thead th {\n        text-align: right;\n    }\n</style>\n<table border=\"1\" class=\"dataframe\">\n  <thead>\n    <tr style=\"text-align: right;\">\n      <th></th>\n      <th>name</th>\n      <th>sex</th>\n      <th>grades.math</th>\n      <th>grades.physics</th>\n    </tr>\n  </thead>\n  <tbody>\n    <tr>\n      <th>0</th>\n      <td>Tom</td>\n      <td>M</td>\n      <td>66.0</td>\n      <td>77.0</td>\n    </tr>\n    <tr>\n      <th>1</th>\n      <td>James</td>\n      <td>M</td>\n      <td>80.0</td>\n      <td>78.0</td>\n    </tr>\n    <tr>\n      <th>2</th>\n      <td>Tony</td>\n      <td>M</td>\n      <td>NaN</td>\n      <td>NaN</td>\n    </tr>\n    <tr>\n      <th>3</th>\n      <td>Jacqueline</td>\n      <td>F</td>\n      <td>NaN</td>\n      <td>NaN</td>\n    </tr>\n  </tbody>\n</table>\n</div>"
     },
     "metadata": {},
     "execution_count": 26
    }
   ],
   "source": [
    "df"
   ]
  },
  {
   "cell_type": "code",
   "execution_count": 27,
   "metadata": {},
   "outputs": [],
   "source": [
    "df = pd.json_normalize(\n",
    "     json_list,\n",
    "     record_path=['students'],\n",
    "     meta=['class', 'room', ['info', 'teachers', 'math']]\n",
    "    )"
   ]
  },
  {
   "cell_type": "code",
   "execution_count": 28,
   "metadata": {},
   "outputs": [
    {
     "output_type": "execute_result",
     "data": {
      "text/plain": [
       "         name sex  grades.math  grades.physics   class    room  \\\n",
       "0         Tom   M         66.0            77.0  Year 1  Yellow   \n",
       "1       James   M         80.0            78.0  Year 1  Yellow   \n",
       "2        Tony   M          NaN             NaN  Year 2    Blue   \n",
       "3  Jacqueline   F          NaN             NaN  Year 2    Blue   \n",
       "\n",
       "  info.teachers.math  \n",
       "0         Rick Scott  \n",
       "1         Rick Scott  \n",
       "2        Alan Turing  \n",
       "3        Alan Turing  "
      ],
      "text/html": "<div>\n<style scoped>\n    .dataframe tbody tr th:only-of-type {\n        vertical-align: middle;\n    }\n\n    .dataframe tbody tr th {\n        vertical-align: top;\n    }\n\n    .dataframe thead th {\n        text-align: right;\n    }\n</style>\n<table border=\"1\" class=\"dataframe\">\n  <thead>\n    <tr style=\"text-align: right;\">\n      <th></th>\n      <th>name</th>\n      <th>sex</th>\n      <th>grades.math</th>\n      <th>grades.physics</th>\n      <th>class</th>\n      <th>room</th>\n      <th>info.teachers.math</th>\n    </tr>\n  </thead>\n  <tbody>\n    <tr>\n      <th>0</th>\n      <td>Tom</td>\n      <td>M</td>\n      <td>66.0</td>\n      <td>77.0</td>\n      <td>Year 1</td>\n      <td>Yellow</td>\n      <td>Rick Scott</td>\n    </tr>\n    <tr>\n      <th>1</th>\n      <td>James</td>\n      <td>M</td>\n      <td>80.0</td>\n      <td>78.0</td>\n      <td>Year 1</td>\n      <td>Yellow</td>\n      <td>Rick Scott</td>\n    </tr>\n    <tr>\n      <th>2</th>\n      <td>Tony</td>\n      <td>M</td>\n      <td>NaN</td>\n      <td>NaN</td>\n      <td>Year 2</td>\n      <td>Blue</td>\n      <td>Alan Turing</td>\n    </tr>\n    <tr>\n      <th>3</th>\n      <td>Jacqueline</td>\n      <td>F</td>\n      <td>NaN</td>\n      <td>NaN</td>\n      <td>Year 2</td>\n      <td>Blue</td>\n      <td>Alan Turing</td>\n    </tr>\n  </tbody>\n</table>\n</div>"
     },
     "metadata": {},
     "execution_count": 28
    }
   ],
   "source": [
    "df"
   ]
  },
  {
   "source": [
    "## The errors argument"
   ],
   "cell_type": "markdown",
   "metadata": {}
  },
  {
   "cell_type": "code",
   "execution_count": 29,
   "metadata": {},
   "outputs": [
    {
     "output_type": "error",
     "ename": "KeyError",
     "evalue": "\"Try running with errors='ignore' as key 'math' is not always present\"",
     "traceback": [
      "\u001b[1;31m---------------------------------------------------------------------------\u001b[0m",
      "\u001b[1;31mKeyError\u001b[0m                                  Traceback (most recent call last)",
      "\u001b[1;32m~\\anaconda3\\envs\\jplab3_vscode\\lib\\site-packages\\pandas\\io\\json\\_normalize.py\u001b[0m in \u001b[0;36m_recursive_extract\u001b[1;34m(data, path, seen_meta, level)\u001b[0m\n\u001b[0;32m    323\u001b[0m                         \u001b[1;32mtry\u001b[0m\u001b[1;33m:\u001b[0m\u001b[1;33m\u001b[0m\u001b[1;33m\u001b[0m\u001b[0m\n\u001b[1;32m--> 324\u001b[1;33m                             \u001b[0mmeta_val\u001b[0m \u001b[1;33m=\u001b[0m \u001b[0m_pull_field\u001b[0m\u001b[1;33m(\u001b[0m\u001b[0mobj\u001b[0m\u001b[1;33m,\u001b[0m \u001b[0mval\u001b[0m\u001b[1;33m[\u001b[0m\u001b[0mlevel\u001b[0m\u001b[1;33m:\u001b[0m\u001b[1;33m]\u001b[0m\u001b[1;33m)\u001b[0m\u001b[1;33m\u001b[0m\u001b[1;33m\u001b[0m\u001b[0m\n\u001b[0m\u001b[0;32m    325\u001b[0m                         \u001b[1;32mexcept\u001b[0m \u001b[0mKeyError\u001b[0m \u001b[1;32mas\u001b[0m \u001b[0me\u001b[0m\u001b[1;33m:\u001b[0m\u001b[1;33m\u001b[0m\u001b[1;33m\u001b[0m\u001b[0m\n",
      "\u001b[1;32m~\\anaconda3\\envs\\jplab3_vscode\\lib\\site-packages\\pandas\\io\\json\\_normalize.py\u001b[0m in \u001b[0;36m_pull_field\u001b[1;34m(js, spec)\u001b[0m\n\u001b[0;32m    236\u001b[0m             \u001b[1;32mfor\u001b[0m \u001b[0mfield\u001b[0m \u001b[1;32min\u001b[0m \u001b[0mspec\u001b[0m\u001b[1;33m:\u001b[0m\u001b[1;33m\u001b[0m\u001b[1;33m\u001b[0m\u001b[0m\n\u001b[1;32m--> 237\u001b[1;33m                 \u001b[0mresult\u001b[0m \u001b[1;33m=\u001b[0m \u001b[0mresult\u001b[0m\u001b[1;33m[\u001b[0m\u001b[0mfield\u001b[0m\u001b[1;33m]\u001b[0m\u001b[1;33m\u001b[0m\u001b[1;33m\u001b[0m\u001b[0m\n\u001b[0m\u001b[0;32m    238\u001b[0m         \u001b[1;32melse\u001b[0m\u001b[1;33m:\u001b[0m\u001b[1;33m\u001b[0m\u001b[1;33m\u001b[0m\u001b[0m\n",
      "\u001b[1;31mKeyError\u001b[0m: 'math'",
      "\nThe above exception was the direct cause of the following exception:\n",
      "\u001b[1;31mKeyError\u001b[0m                                  Traceback (most recent call last)",
      "\u001b[1;32m<ipython-input-29-5f8acf7aa5cb>\u001b[0m in \u001b[0;36m<module>\u001b[1;34m\u001b[0m\n\u001b[0;32m     45\u001b[0m ]\n\u001b[0;32m     46\u001b[0m \u001b[1;33m\u001b[0m\u001b[0m\n\u001b[1;32m---> 47\u001b[1;33m df = pd.json_normalize(\n\u001b[0m\u001b[0;32m     48\u001b[0m      \u001b[0mjson_list\u001b[0m\u001b[1;33m,\u001b[0m\u001b[1;33m\u001b[0m\u001b[1;33m\u001b[0m\u001b[0m\n\u001b[0;32m     49\u001b[0m      \u001b[0mrecord_path\u001b[0m\u001b[1;33m=\u001b[0m\u001b[1;33m[\u001b[0m\u001b[1;34m'students'\u001b[0m\u001b[1;33m]\u001b[0m\u001b[1;33m,\u001b[0m\u001b[1;33m\u001b[0m\u001b[1;33m\u001b[0m\u001b[0m\n",
      "\u001b[1;32m~\\anaconda3\\envs\\jplab3_vscode\\lib\\site-packages\\pandas\\io\\json\\_normalize.py\u001b[0m in \u001b[0;36m_json_normalize\u001b[1;34m(data, record_path, meta, meta_prefix, record_prefix, errors, sep, max_level)\u001b[0m\n\u001b[0;32m    334\u001b[0m                 \u001b[0mrecords\u001b[0m\u001b[1;33m.\u001b[0m\u001b[0mextend\u001b[0m\u001b[1;33m(\u001b[0m\u001b[0mrecs\u001b[0m\u001b[1;33m)\u001b[0m\u001b[1;33m\u001b[0m\u001b[1;33m\u001b[0m\u001b[0m\n\u001b[0;32m    335\u001b[0m \u001b[1;33m\u001b[0m\u001b[0m\n\u001b[1;32m--> 336\u001b[1;33m     \u001b[0m_recursive_extract\u001b[0m\u001b[1;33m(\u001b[0m\u001b[0mdata\u001b[0m\u001b[1;33m,\u001b[0m \u001b[0mrecord_path\u001b[0m\u001b[1;33m,\u001b[0m \u001b[1;33m{\u001b[0m\u001b[1;33m}\u001b[0m\u001b[1;33m,\u001b[0m \u001b[0mlevel\u001b[0m\u001b[1;33m=\u001b[0m\u001b[1;36m0\u001b[0m\u001b[1;33m)\u001b[0m\u001b[1;33m\u001b[0m\u001b[1;33m\u001b[0m\u001b[0m\n\u001b[0m\u001b[0;32m    337\u001b[0m \u001b[1;33m\u001b[0m\u001b[0m\n\u001b[0;32m    338\u001b[0m     \u001b[0mresult\u001b[0m \u001b[1;33m=\u001b[0m \u001b[0mDataFrame\u001b[0m\u001b[1;33m(\u001b[0m\u001b[0mrecords\u001b[0m\u001b[1;33m)\u001b[0m\u001b[1;33m\u001b[0m\u001b[1;33m\u001b[0m\u001b[0m\n",
      "\u001b[1;32m~\\anaconda3\\envs\\jplab3_vscode\\lib\\site-packages\\pandas\\io\\json\\_normalize.py\u001b[0m in \u001b[0;36m_recursive_extract\u001b[1;34m(data, path, seen_meta, level)\u001b[0m\n\u001b[0;32m    327\u001b[0m                                 \u001b[0mmeta_val\u001b[0m \u001b[1;33m=\u001b[0m \u001b[0mnp\u001b[0m\u001b[1;33m.\u001b[0m\u001b[0mnan\u001b[0m\u001b[1;33m\u001b[0m\u001b[1;33m\u001b[0m\u001b[0m\n\u001b[0;32m    328\u001b[0m                             \u001b[1;32melse\u001b[0m\u001b[1;33m:\u001b[0m\u001b[1;33m\u001b[0m\u001b[1;33m\u001b[0m\u001b[0m\n\u001b[1;32m--> 329\u001b[1;33m                                 raise KeyError(\n\u001b[0m\u001b[0;32m    330\u001b[0m                                     \u001b[1;34m\"Try running with errors='ignore' as key \"\u001b[0m\u001b[1;33m\u001b[0m\u001b[1;33m\u001b[0m\u001b[0m\n\u001b[0;32m    331\u001b[0m                                     \u001b[1;34mf\"{e} is not always present\"\u001b[0m\u001b[1;33m\u001b[0m\u001b[1;33m\u001b[0m\u001b[0m\n",
      "\u001b[1;31mKeyError\u001b[0m: \"Try running with errors='ignore' as key 'math' is not always present\""
     ]
    }
   ],
   "source": [
    "json_list = [\n",
    "    {\n",
    "        'class': 'Year 1',\n",
    "        'student count': 20,\n",
    "        'room': 'Yellow',\n",
    "        'info': {\n",
    "            'teachers': {\n",
    "                'math': 'Rick Scott',\n",
    "                'physics': 'Elon Mask'\n",
    "            }\n",
    "        },\n",
    "        'students': [\n",
    "            {\n",
    "                'name': 'Tom',\n",
    "                'sex': 'M'\n",
    "            },\n",
    "            {\n",
    "                'name': 'James',\n",
    "                'sex': 'M'\n",
    "            }\n",
    "        ]\n",
    "    },\n",
    "    {\n",
    "        'class': 'Year 2',\n",
    "        'student count': 25,\n",
    "        'room': 'Blue',\n",
    "        'info': {\n",
    "            'teachers': {\n",
    "                # No math teacher\n",
    "                #\n",
    "                'physics': 'Albert Einstein'\n",
    "            }\n",
    "        },\n",
    "        'students': [\n",
    "            {\n",
    "                'name': 'Tony',\n",
    "                'sex': 'M',\n",
    "            },\n",
    "            {\n",
    "                'name': 'Jacqueline',\n",
    "                'sex': 'F'\n",
    "            }\n",
    "        ]\n",
    "    }\n",
    "]\n",
    "\n",
    "df = pd.json_normalize(\n",
    "     json_list,\n",
    "     record_path=['students'],\n",
    "     meta=['class', 'room', ['info', 'teachers', 'math']]\n",
    "    )"
   ]
  },
  {
   "cell_type": "code",
   "execution_count": 31,
   "metadata": {},
   "outputs": [],
   "source": [
    "df = pd.json_normalize(\n",
    "     json_list,\n",
    "     record_path=['students'],\n",
    "     meta=['class', 'room', ['info', 'teachers', 'math']],\n",
    "     errors='ignore'\n",
    "    )"
   ]
  },
  {
   "cell_type": "code",
   "execution_count": 32,
   "metadata": {},
   "outputs": [
    {
     "output_type": "execute_result",
     "data": {
      "text/plain": [
       "         name sex   class    room info.teachers.math\n",
       "0         Tom   M  Year 1  Yellow         Rick Scott\n",
       "1       James   M  Year 1  Yellow         Rick Scott\n",
       "2        Tony   M  Year 2    Blue                NaN\n",
       "3  Jacqueline   F  Year 2    Blue                NaN"
      ],
      "text/html": "<div>\n<style scoped>\n    .dataframe tbody tr th:only-of-type {\n        vertical-align: middle;\n    }\n\n    .dataframe tbody tr th {\n        vertical-align: top;\n    }\n\n    .dataframe thead th {\n        text-align: right;\n    }\n</style>\n<table border=\"1\" class=\"dataframe\">\n  <thead>\n    <tr style=\"text-align: right;\">\n      <th></th>\n      <th>name</th>\n      <th>sex</th>\n      <th>class</th>\n      <th>room</th>\n      <th>info.teachers.math</th>\n    </tr>\n  </thead>\n  <tbody>\n    <tr>\n      <th>0</th>\n      <td>Tom</td>\n      <td>M</td>\n      <td>Year 1</td>\n      <td>Yellow</td>\n      <td>Rick Scott</td>\n    </tr>\n    <tr>\n      <th>1</th>\n      <td>James</td>\n      <td>M</td>\n      <td>Year 1</td>\n      <td>Yellow</td>\n      <td>Rick Scott</td>\n    </tr>\n    <tr>\n      <th>2</th>\n      <td>Tony</td>\n      <td>M</td>\n      <td>Year 2</td>\n      <td>Blue</td>\n      <td>NaN</td>\n    </tr>\n    <tr>\n      <th>3</th>\n      <td>Jacqueline</td>\n      <td>F</td>\n      <td>Year 2</td>\n      <td>Blue</td>\n      <td>NaN</td>\n    </tr>\n  </tbody>\n</table>\n</div>"
     },
     "metadata": {},
     "execution_count": 32
    }
   ],
   "source": [
    "df"
   ]
  },
  {
   "source": [
    "## Custom Separator using the sep argument"
   ],
   "cell_type": "markdown",
   "metadata": {}
  },
  {
   "cell_type": "code",
   "execution_count": 33,
   "metadata": {},
   "outputs": [],
   "source": [
    "json_list = [\n",
    "    {\n",
    "        'class': 'Year 1',\n",
    "        'student count': 20,\n",
    "        'room': 'Yellow',\n",
    "        'info': {\n",
    "            'teachers': {\n",
    "                'math': 'Rick Scott',\n",
    "                'physics': 'Elon Mask'\n",
    "            }\n",
    "        },\n",
    "        'students': [\n",
    "            {\n",
    "                'name': 'Tom',\n",
    "                'sex': 'M',\n",
    "                'grades': {'math': 66, 'physics': 77}\n",
    "            },\n",
    "            {\n",
    "                'name': 'James',\n",
    "                'sex': 'M',\n",
    "                'grades': {'math': 80, 'physics': 78}\n",
    "            }\n",
    "        ]\n",
    "    },\n",
    "    {\n",
    "        'class': 'Year 2',\n",
    "        'student count': 25,\n",
    "        'room': 'Blue',\n",
    "        'info': {\n",
    "            'teachers': {\n",
    "                'math': 'Alan Turing',\n",
    "                'physics': 'Albert Einstein'\n",
    "            }\n",
    "        },\n",
    "        'students': [\n",
    "            {\n",
    "                'name': 'Tony',\n",
    "                'sex': 'M',\n",
    "            },\n",
    "            {\n",
    "                'name': 'Jacqueline',\n",
    "                'sex': 'F'\n",
    "            }\n",
    "        ]\n",
    "    }\n",
    "]\n",
    "\n",
    "df = pd.json_normalize(\n",
    "     json_list,\n",
    "     record_path=['students'],\n",
    "     meta=['class', 'room',['info', 'teachers', 'math']],\n",
    "     errors='ignore',\n",
    "     sep='->'\n",
    "    )"
   ]
  },
  {
   "cell_type": "code",
   "execution_count": 34,
   "metadata": {},
   "outputs": [
    {
     "output_type": "execute_result",
     "data": {
      "text/plain": [
       "         name sex  grades->math  grades->physics   class    room  \\\n",
       "0         Tom   M          66.0             77.0  Year 1  Yellow   \n",
       "1       James   M          80.0             78.0  Year 1  Yellow   \n",
       "2        Tony   M           NaN              NaN  Year 2    Blue   \n",
       "3  Jacqueline   F           NaN              NaN  Year 2    Blue   \n",
       "\n",
       "  info->teachers->math  \n",
       "0           Rick Scott  \n",
       "1           Rick Scott  \n",
       "2          Alan Turing  \n",
       "3          Alan Turing  "
      ],
      "text/html": "<div>\n<style scoped>\n    .dataframe tbody tr th:only-of-type {\n        vertical-align: middle;\n    }\n\n    .dataframe tbody tr th {\n        vertical-align: top;\n    }\n\n    .dataframe thead th {\n        text-align: right;\n    }\n</style>\n<table border=\"1\" class=\"dataframe\">\n  <thead>\n    <tr style=\"text-align: right;\">\n      <th></th>\n      <th>name</th>\n      <th>sex</th>\n      <th>grades-&gt;math</th>\n      <th>grades-&gt;physics</th>\n      <th>class</th>\n      <th>room</th>\n      <th>info-&gt;teachers-&gt;math</th>\n    </tr>\n  </thead>\n  <tbody>\n    <tr>\n      <th>0</th>\n      <td>Tom</td>\n      <td>M</td>\n      <td>66.0</td>\n      <td>77.0</td>\n      <td>Year 1</td>\n      <td>Yellow</td>\n      <td>Rick Scott</td>\n    </tr>\n    <tr>\n      <th>1</th>\n      <td>James</td>\n      <td>M</td>\n      <td>80.0</td>\n      <td>78.0</td>\n      <td>Year 1</td>\n      <td>Yellow</td>\n      <td>Rick Scott</td>\n    </tr>\n    <tr>\n      <th>2</th>\n      <td>Tony</td>\n      <td>M</td>\n      <td>NaN</td>\n      <td>NaN</td>\n      <td>Year 2</td>\n      <td>Blue</td>\n      <td>Alan Turing</td>\n    </tr>\n    <tr>\n      <th>3</th>\n      <td>Jacqueline</td>\n      <td>F</td>\n      <td>NaN</td>\n      <td>NaN</td>\n      <td>Year 2</td>\n      <td>Blue</td>\n      <td>Alan Turing</td>\n    </tr>\n  </tbody>\n</table>\n</div>"
     },
     "metadata": {},
     "execution_count": 34
    }
   ],
   "source": [
    "df"
   ]
  },
  {
   "source": [
    "## Adding prefix for meta and record data"
   ],
   "cell_type": "markdown",
   "metadata": {}
  },
  {
   "cell_type": "code",
   "execution_count": 35,
   "metadata": {},
   "outputs": [],
   "source": [
    "df = pd.json_normalize(\n",
    "     json_list,\n",
    "     record_path=['students'],\n",
    "     meta=['class'],\n",
    "     meta_prefix='meta-',\n",
    "     record_prefix='student-',\n",
    "     errors='ignore'\n",
    "    )"
   ]
  },
  {
   "cell_type": "code",
   "execution_count": 36,
   "metadata": {},
   "outputs": [
    {
     "output_type": "execute_result",
     "data": {
      "text/plain": [
       "  student-name student-sex  student-grades.math  student-grades.physics  \\\n",
       "0          Tom           M                 66.0                    77.0   \n",
       "1        James           M                 80.0                    78.0   \n",
       "2         Tony           M                  NaN                     NaN   \n",
       "3   Jacqueline           F                  NaN                     NaN   \n",
       "\n",
       "  meta-class  \n",
       "0     Year 1  \n",
       "1     Year 1  \n",
       "2     Year 2  \n",
       "3     Year 2  "
      ],
      "text/html": "<div>\n<style scoped>\n    .dataframe tbody tr th:only-of-type {\n        vertical-align: middle;\n    }\n\n    .dataframe tbody tr th {\n        vertical-align: top;\n    }\n\n    .dataframe thead th {\n        text-align: right;\n    }\n</style>\n<table border=\"1\" class=\"dataframe\">\n  <thead>\n    <tr style=\"text-align: right;\">\n      <th></th>\n      <th>student-name</th>\n      <th>student-sex</th>\n      <th>student-grades.math</th>\n      <th>student-grades.physics</th>\n      <th>meta-class</th>\n    </tr>\n  </thead>\n  <tbody>\n    <tr>\n      <th>0</th>\n      <td>Tom</td>\n      <td>M</td>\n      <td>66.0</td>\n      <td>77.0</td>\n      <td>Year 1</td>\n    </tr>\n    <tr>\n      <th>1</th>\n      <td>James</td>\n      <td>M</td>\n      <td>80.0</td>\n      <td>78.0</td>\n      <td>Year 1</td>\n    </tr>\n    <tr>\n      <th>2</th>\n      <td>Tony</td>\n      <td>M</td>\n      <td>NaN</td>\n      <td>NaN</td>\n      <td>Year 2</td>\n    </tr>\n    <tr>\n      <th>3</th>\n      <td>Jacqueline</td>\n      <td>F</td>\n      <td>NaN</td>\n      <td>NaN</td>\n      <td>Year 2</td>\n    </tr>\n  </tbody>\n</table>\n</div>"
     },
     "metadata": {},
     "execution_count": 36
    }
   ],
   "source": [
    "df"
   ]
  },
  {
   "source": [
    "## Working witha local file"
   ],
   "cell_type": "markdown",
   "metadata": {}
  },
  {
   "cell_type": "code",
   "execution_count": null,
   "metadata": {},
   "outputs": [],
   "source": [
    "# This code needs a file to work\n",
    "#\n",
    "\n",
    "# Load data using Python JSON module\n",
    "#\n",
    "with open('data/simple.json', 'r') as f:\n",
    "\n",
    "    data = json.loads(f.read())\n",
    "\n",
    "# Flattening JSON data\n",
    "#\n",
    "df = pd.json_normalize(data)"
   ]
  },
  {
   "source": [
    "## Working with a URL"
   ],
   "cell_type": "markdown",
   "metadata": {}
  },
  {
   "cell_type": "code",
   "execution_count": 38,
   "metadata": {},
   "outputs": [],
   "source": [
    "URL = 'http://raw.githubusercontent.com/BindiChen/machine-learning/master/data-analysis/027-pandas-convert-json/data/simple.json'\n",
    "\n",
    "data = json.loads(requests.get(URL).text)\n",
    "\n",
    "# Flattening JSON data\n",
    "#\n",
    "df = pd.json_normalize(data)"
   ]
  },
  {
   "cell_type": "code",
   "execution_count": 39,
   "metadata": {},
   "outputs": [
    {
     "output_type": "execute_result",
     "data": {
      "text/plain": [
       "     id   name  math  physics  chemistry\n",
       "0  A001    Tom    60       66         61\n",
       "1  A002  James    89       76         51\n",
       "2  A003  Jenny    79       90         78"
      ],
      "text/html": "<div>\n<style scoped>\n    .dataframe tbody tr th:only-of-type {\n        vertical-align: middle;\n    }\n\n    .dataframe tbody tr th {\n        vertical-align: top;\n    }\n\n    .dataframe thead th {\n        text-align: right;\n    }\n</style>\n<table border=\"1\" class=\"dataframe\">\n  <thead>\n    <tr style=\"text-align: right;\">\n      <th></th>\n      <th>id</th>\n      <th>name</th>\n      <th>math</th>\n      <th>physics</th>\n      <th>chemistry</th>\n    </tr>\n  </thead>\n  <tbody>\n    <tr>\n      <th>0</th>\n      <td>A001</td>\n      <td>Tom</td>\n      <td>60</td>\n      <td>66</td>\n      <td>61</td>\n    </tr>\n    <tr>\n      <th>1</th>\n      <td>A002</td>\n      <td>James</td>\n      <td>89</td>\n      <td>76</td>\n      <td>51</td>\n    </tr>\n    <tr>\n      <th>2</th>\n      <td>A003</td>\n      <td>Jenny</td>\n      <td>79</td>\n      <td>90</td>\n      <td>78</td>\n    </tr>\n  </tbody>\n</table>\n</div>"
     },
     "metadata": {},
     "execution_count": 39
    }
   ],
   "source": [
    "df"
   ]
  },
  {
   "cell_type": "code",
   "execution_count": null,
   "metadata": {},
   "outputs": [],
   "source": []
  }
 ]
}