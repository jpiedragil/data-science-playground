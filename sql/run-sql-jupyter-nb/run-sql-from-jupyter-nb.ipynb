{
 "cells": [
  {
   "cell_type": "markdown",
   "id": "valuable-minority",
   "metadata": {},
   "source": [
    "# How To run SQL queries from a Jupyter Notebook\n",
    "\n",
    "Source code for Medium's article [How To run SQL queries from a Jupyter Notebook](https://bit.ly/3d7w2qJ), written by [Roman Orac](https://romanorac.medium.com/)."
   ]
  },
  {
   "cell_type": "markdown",
   "id": "durable-baltimore",
   "metadata": {},
   "source": [
    "## Import libraries"
   ]
  },
  {
   "cell_type": "code",
   "execution_count": 3,
   "id": "crucial-ending",
   "metadata": {
    "execution": {
     "iopub.execute_input": "2021-04-11T08:18:59.702652Z",
     "iopub.status.busy": "2021-04-11T08:18:59.702462Z",
     "iopub.status.idle": "2021-04-11T08:19:03.519708Z",
     "shell.execute_reply": "2021-04-11T08:19:03.519492Z",
     "shell.execute_reply.started": "2021-04-11T08:18:59.702605Z"
    },
    "tags": []
   },
   "outputs": [],
   "source": [
    "import sqlalchemy\n",
    "import pandas as pd"
   ]
  },
  {
   "cell_type": "markdown",
   "id": "hindu-cleaning",
   "metadata": {},
   "source": [
    "## Meet ipython-sql"
   ]
  },
  {
   "cell_type": "markdown",
   "id": "boring-component",
   "metadata": {},
   "source": [
    "### Load SQL module"
   ]
  },
  {
   "cell_type": "code",
   "execution_count": 5,
   "id": "rising-violence",
   "metadata": {
    "execution": {
     "iopub.execute_input": "2021-04-11T08:19:06.852811Z",
     "iopub.status.busy": "2021-04-11T08:19:06.852629Z",
     "iopub.status.idle": "2021-04-11T08:19:07.236586Z",
     "shell.execute_reply": "2021-04-11T08:19:07.236423Z",
     "shell.execute_reply.started": "2021-04-11T08:19:06.852770Z"
    },
    "tags": []
   },
   "outputs": [
    {
     "data": {
      "text/plain": [
       "'Connected: @None'"
      ]
     },
     "execution_count": 2,
     "metadata": {},
     "output_type": "execute_result"
    }
   ],
   "source": [
    "%load_ext sql\n",
    "\n",
    "# Connect to SQlite\n",
    "#\n",
    "%sql sqlite://"
   ]
  },
  {
   "cell_type": "code",
   "execution_count": 7,
   "id": "legitimate-robertson",
   "metadata": {
    "execution": {
     "iopub.execute_input": "2021-04-11T08:19:09.436840Z",
     "iopub.status.busy": "2021-04-11T08:19:09.436588Z",
     "iopub.status.idle": "2021-04-11T08:19:09.488629Z",
     "shell.execute_reply": "2021-04-11T08:19:09.488212Z",
     "shell.execute_reply.started": "2021-04-11T08:19:09.436796Z"
    }
   },
   "outputs": [
    {
     "name": "stdout",
     "output_type": "stream",
     "text": [
      " * sqlite://\n",
      "Done.\n",
      "6 rows affected.\n"
     ]
    },
    {
     "ename": "ResourceClosedError",
     "evalue": "This result object does not return rows. It has been closed automatically.",
     "output_type": "error",
     "traceback": [
      "\u001b[0;31m---------------------------------------------------------------------------\u001b[0m\n\u001b[0;31mResourceClosedError\u001b[0m                       Traceback (most recent call last)",
      "File \u001b[0;34mC:\\Users\\jpied\\anaconda3\\envs\\xeus-python\\lib\\site-packages\\IPython\\core\\interactiveshell.py\u001b[0m, in \u001b[0;32mrun_code\u001b[0m:\nLine \u001b[0;34m3437\u001b[0m:  exec(code_obj, \u001b[36mself\u001b[39;49;00m.user_global_ns, \u001b[36mself\u001b[39;49;00m.user_ns)\n",
      "In  \u001b[0;34m[3]\u001b[0m:\nLine \u001b[0;34m1\u001b[0m:     get_ipython().run_cell_magic(\u001b[33m'\u001b[39;49;00m\u001b[33msql\u001b[39;49;00m\u001b[33m'\u001b[39;49;00m, \u001b[33m'\u001b[39;49;00m\u001b[33m'\u001b[39;49;00m, \u001b[33m\"\u001b[39;49;00m\u001b[33m\\n\u001b[39;49;00m\u001b[33mCREATE TABLE sales\u001b[39;49;00m\u001b[33m\\n\u001b[39;49;00m\u001b[33m(\u001b[39;49;00m\u001b[33m\\n\u001b[39;49;00m\u001b[33m    key       varchar(6),\u001b[39;49;00m\u001b[33m\\n\u001b[39;49;00m\u001b[33m    ts        timestamp,\u001b[39;49;00m\u001b[33m\\n\u001b[39;49;00m\u001b[33m    product   integer,\u001b[39;49;00m\u001b[33m\\n\u001b[39;49;00m\u001b[33m    completed boolean,\u001b[39;49;00m\u001b[33m\\n\u001b[39;49;00m\u001b[33m    price     float\u001b[39;49;00m\u001b[33m\\n\u001b[39;49;00m\u001b[33m);\u001b[39;49;00m\u001b[33m\\n\u001b[39;49;00m\u001b[33m\\n\u001b[39;49;00m\u001b[33mINSERT INTO sales\u001b[39;49;00m\u001b[33m\\n\u001b[39;49;00m\u001b[33mVALUES (\u001b[39;49;00m\u001b[33m'\u001b[39;49;00m\u001b[33msale_1\u001b[39;49;00m\u001b[33m'\u001b[39;49;00m\u001b[33m, \u001b[39;49;00m\u001b[33m'\u001b[39;49;00m\u001b[33m2019-11-08 00:00\u001b[39;49;00m\u001b[33m'\u001b[39;49;00m\u001b[33m, 0, TRUE, 1.1),\u001b[39;49;00m\u001b[33m\\n\u001b[39;49;00m\u001b[33m       (\u001b[39;49;00m\u001b[33m'\u001b[39;49;00m\u001b[33msale_2\u001b[39;49;00m\u001b[33m'\u001b[39;49;00m\u001b[33m, \u001b[39;49;00m\u001b[33m'\u001b[39;49;00m\u001b[33m2019-11-08 01:00\u001b[39;49;00m\u001b[33m'\u001b[39;49;00m\u001b[33m, 0, FALSE, 1.2),\u001b[39;49;00m\u001b[33m\\n\u001b[39;49;00m\u001b[33m       (\u001b[39;49;00m\u001b[33m'\u001b[39;49;00m\u001b[33msale_3\u001b[39;49;00m\u001b[33m'\u001b[39;49;00m\u001b[33m, \u001b[39;49;00m\u001b[33m'\u001b[39;49;00m\u001b[33m2019-11-08 01:00\u001b[39;49;00m\u001b[33m'\u001b[39;49;00m\u001b[33m, 0, TRUE, 1.3),\u001b[39;49;00m\u001b[33m\\n\u001b[39;49;00m\u001b[33m       (\u001b[39;49;00m\u001b[33m'\u001b[39;49;00m\u001b[33msale_4\u001b[39;49;00m\u001b[33m'\u001b[39;49;00m\u001b[33m, \u001b[39;49;00m\u001b[33m'\u001b[39;49;00m\u001b[33m2019-11-08 01:00\u001b[39;49;00m\u001b[33m'\u001b[39;49;00m\u001b[33m, 1, FALSE, 1.4),\u001b[39;49;00m\u001b[33m\\n\u001b[39;49;00m\u001b[33m       (\u001b[39;49;00m\u001b[33m'\u001b[39;49;00m\u001b[33msale_5\u001b[39;49;00m\u001b[33m'\u001b[39;49;00m\u001b[33m, \u001b[39;49;00m\u001b[33m'\u001b[39;49;00m\u001b[33m2019-11-08 02:00\u001b[39;49;00m\u001b[33m'\u001b[39;49;00m\u001b[33m, 1, TRUE, 1.5),\u001b[39;49;00m\u001b[33m\\n\u001b[39;49;00m\u001b[33m       (\u001b[39;49;00m\u001b[33m'\u001b[39;49;00m\u001b[33msale_6\u001b[39;49;00m\u001b[33m'\u001b[39;49;00m\u001b[33m, \u001b[39;49;00m\u001b[33m'\u001b[39;49;00m\u001b[33m2019-11-08 02:00\u001b[39;49;00m\u001b[33m'\u001b[39;49;00m\u001b[33m, 1, TRUE, 1.5);\u001b[39;49;00m\u001b[33m\\n\u001b[39;49;00m\u001b[33m\"\u001b[39;49;00m)\n",
      "File \u001b[0;34mC:\\Users\\jpied\\anaconda3\\envs\\xeus-python\\lib\\site-packages\\IPython\\core\\interactiveshell.py\u001b[0m, in \u001b[0;32mrun_cell_magic\u001b[0m:\nLine \u001b[0;34m2399\u001b[0m:  result = fn(*args, **kwargs)\n",
      "File \u001b[0;34m<decorator-gen-111>\u001b[0m, in \u001b[0;32mexecute\u001b[0m:\nLine \u001b[0;34m2\u001b[0m:     \n",
      "File \u001b[0;34mC:\\Users\\jpied\\anaconda3\\envs\\xeus-python\\lib\\site-packages\\IPython\\core\\magic.py\u001b[0m, in \u001b[0;32m<lambda>\u001b[0m:\nLine \u001b[0;34m187\u001b[0m:   call = \u001b[34mlambda\u001b[39;49;00m f, *a, **k: f(*a, **k)\n",
      "File \u001b[0;34m<decorator-gen-110>\u001b[0m, in \u001b[0;32mexecute\u001b[0m:\nLine \u001b[0;34m2\u001b[0m:     \n",
      "File \u001b[0;34mC:\\Users\\jpied\\anaconda3\\envs\\xeus-python\\lib\\site-packages\\IPython\\core\\magic.py\u001b[0m, in \u001b[0;32m<lambda>\u001b[0m:\nLine \u001b[0;34m187\u001b[0m:   call = \u001b[34mlambda\u001b[39;49;00m f, *a, **k: f(*a, **k)\n",
      "File \u001b[0;34mC:\\Users\\jpied\\anaconda3\\envs\\xeus-python\\lib\\site-packages\\sql\\magic.py\u001b[0m, in \u001b[0;32mexecute\u001b[0m:\nLine \u001b[0;34m95\u001b[0m:    result = sql.run.run(conn, parsed[\u001b[33m'\u001b[39;49;00m\u001b[33msql\u001b[39;49;00m\u001b[33m'\u001b[39;49;00m], \u001b[36mself\u001b[39;49;00m, user_ns)\n",
      "File \u001b[0;34mC:\\Users\\jpied\\anaconda3\\envs\\xeus-python\\lib\\site-packages\\sql\\run.py\u001b[0m, in \u001b[0;32mrun\u001b[0m:\nLine \u001b[0;34m344\u001b[0m:   resultset = ResultSet(result, statement, config)\n",
      "File \u001b[0;34mC:\\Users\\jpied\\anaconda3\\envs\\xeus-python\\lib\\site-packages\\sql\\run.py\u001b[0m, in \u001b[0;32m__init__\u001b[0m:\nLine \u001b[0;34m107\u001b[0m:   \u001b[36mself\u001b[39;49;00m.keys = sqlaproxy.keys()\n",
      "File \u001b[0;34mC:\\Users\\jpied\\anaconda3\\envs\\xeus-python\\lib\\site-packages\\sqlalchemy\\engine\\result.py\u001b[0m, in \u001b[0;32mkeys\u001b[0m:\nLine \u001b[0;34m707\u001b[0m:   \u001b[34mreturn\u001b[39;49;00m \u001b[36mself\u001b[39;49;00m._metadata.keys\n",
      "File \u001b[0;34mC:\\Users\\jpied\\anaconda3\\envs\\xeus-python\\lib\\site-packages\\sqlalchemy\\engine\\cursor.py\u001b[0m, in \u001b[0;32mkeys\u001b[0m:\nLine \u001b[0;34m1201\u001b[0m:  \u001b[36mself\u001b[39;49;00m._we_dont_return_rows()\n",
      "File \u001b[0;34mC:\\Users\\jpied\\anaconda3\\envs\\xeus-python\\lib\\site-packages\\sqlalchemy\\engine\\cursor.py\u001b[0m, in \u001b[0;32m_we_dont_return_rows\u001b[0m:\nLine \u001b[0;34m1178\u001b[0m:  util.raise_(\n",
      "File \u001b[0;34mC:\\Users\\jpied\\anaconda3\\envs\\xeus-python\\lib\\site-packages\\sqlalchemy\\util\\compat.py\u001b[0m, in \u001b[0;32mraise_\u001b[0m:\nLine \u001b[0;34m211\u001b[0m:   \u001b[34mraise\u001b[39;49;00m exception\n",
      "\u001b[0;31mResourceClosedError\u001b[0m: This result object does not return rows. It has been closed automatically.\n\u001b[0;31m---------------------------------------------------------------------------\u001b[0m"
     ]
    }
   ],
   "source": [
    "%%sql\n",
    "\n",
    "CREATE TABLE sales\n",
    "(\n",
    "    key       varchar(6),\n",
    "    ts        timestamp,\n",
    "    product   integer,\n",
    "    completed boolean,\n",
    "    price     float\n",
    ");\n",
    "\n",
    "INSERT INTO sales\n",
    "VALUES ('sale_1', '2019-11-08 00:00', 0, TRUE, 1.1),\n",
    "       ('sale_2', '2019-11-08 01:00', 0, FALSE, 1.2),\n",
    "       ('sale_3', '2019-11-08 01:00', 0, TRUE, 1.3),\n",
    "       ('sale_4', '2019-11-08 01:00', 1, FALSE, 1.4),\n",
    "       ('sale_5', '2019-11-08 02:00', 1, TRUE, 1.5),\n",
    "       ('sale_6', '2019-11-08 02:00', 1, TRUE, 1.5);"
   ]
  },
  {
   "cell_type": "code",
   "execution_count": 9,
   "id": "electric-knight",
   "metadata": {
    "execution": {
     "iopub.execute_input": "2021-04-11T08:19:12.383027Z",
     "iopub.status.busy": "2021-04-11T08:19:12.382803Z",
     "iopub.status.idle": "2021-04-11T08:19:12.395123Z",
     "shell.execute_reply": "2021-04-11T08:19:12.394945Z",
     "shell.execute_reply.started": "2021-04-11T08:19:12.382981Z"
    }
   },
   "outputs": [
    {
     "name": "stdout",
     "output_type": "stream",
     "text": [
      " * sqlite://\n",
      "Done.\n"
     ]
    },
    {
     "data": {
      "text/html": [
       "<table>\n",
       "    <thead>\n",
       "        <tr>\n",
       "            <th>key</th>\n",
       "            <th>ts</th>\n",
       "            <th>product</th>\n",
       "            <th>completed</th>\n",
       "            <th>price</th>\n",
       "        </tr>\n",
       "    </thead>\n",
       "    <tbody>\n",
       "        <tr>\n",
       "            <td>sale_1</td>\n",
       "            <td>2019-11-08 00:00</td>\n",
       "            <td>0</td>\n",
       "            <td>1</td>\n",
       "            <td>1.1</td>\n",
       "        </tr>\n",
       "        <tr>\n",
       "            <td>sale_2</td>\n",
       "            <td>2019-11-08 01:00</td>\n",
       "            <td>0</td>\n",
       "            <td>0</td>\n",
       "            <td>1.2</td>\n",
       "        </tr>\n",
       "        <tr>\n",
       "            <td>sale_3</td>\n",
       "            <td>2019-11-08 01:00</td>\n",
       "            <td>0</td>\n",
       "            <td>1</td>\n",
       "            <td>1.3</td>\n",
       "        </tr>\n",
       "        <tr>\n",
       "            <td>sale_4</td>\n",
       "            <td>2019-11-08 01:00</td>\n",
       "            <td>1</td>\n",
       "            <td>0</td>\n",
       "            <td>1.4</td>\n",
       "        </tr>\n",
       "        <tr>\n",
       "            <td>sale_5</td>\n",
       "            <td>2019-11-08 02:00</td>\n",
       "            <td>1</td>\n",
       "            <td>1</td>\n",
       "            <td>1.5</td>\n",
       "        </tr>\n",
       "        <tr>\n",
       "            <td>sale_6</td>\n",
       "            <td>2019-11-08 02:00</td>\n",
       "            <td>1</td>\n",
       "            <td>1</td>\n",
       "            <td>1.5</td>\n",
       "        </tr>\n",
       "    </tbody>\n",
       "</table>"
      ],
      "text/plain": [
       "[('sale_1', '2019-11-08 00:00', 0, 1, 1.1),\n",
       " ('sale_2', '2019-11-08 01:00', 0, 0, 1.2),\n",
       " ('sale_3', '2019-11-08 01:00', 0, 1, 1.3),\n",
       " ('sale_4', '2019-11-08 01:00', 1, 0, 1.4),\n",
       " ('sale_5', '2019-11-08 02:00', 1, 1, 1.5),\n",
       " ('sale_6', '2019-11-08 02:00', 1, 1, 1.5)]"
      ]
     },
     "execution_count": 4,
     "metadata": {},
     "output_type": "execute_result"
    }
   ],
   "source": [
    "%%sql\n",
    "\n",
    "SELECT * FROM sales;"
   ]
  },
  {
   "cell_type": "code",
   "execution_count": 11,
   "id": "prescribed-orleans",
   "metadata": {
    "execution": {
     "iopub.execute_input": "2021-04-11T08:19:14.982117Z",
     "iopub.status.busy": "2021-04-11T08:19:14.981930Z",
     "iopub.status.idle": "2021-04-11T08:19:14.983928Z",
     "shell.execute_reply": "2021-04-11T08:19:14.983782Z",
     "shell.execute_reply.started": "2021-04-11T08:19:14.982073Z"
    }
   },
   "outputs": [],
   "source": [
    "# Assign the query's result from the previous cell\n",
    "# to a variable\n",
    "#\n",
    "result = _"
   ]
  },
  {
   "cell_type": "code",
   "execution_count": 13,
   "id": "sunrise-offset",
   "metadata": {
    "execution": {
     "iopub.execute_input": "2021-04-11T08:19:16.550731Z",
     "iopub.status.busy": "2021-04-11T08:19:16.550426Z",
     "iopub.status.idle": "2021-04-11T08:19:16.553783Z",
     "shell.execute_reply": "2021-04-11T08:19:16.553646Z",
     "shell.execute_reply.started": "2021-04-11T08:19:16.550656Z"
    }
   },
   "outputs": [
    {
     "data": {
      "text/plain": [
       "sql.run.ResultSet"
      ]
     },
     "execution_count": 6,
     "metadata": {},
     "output_type": "execute_result"
    }
   ],
   "source": [
    "type(result)"
   ]
  },
  {
   "cell_type": "code",
   "execution_count": 15,
   "id": "typical-jason",
   "metadata": {
    "execution": {
     "iopub.execute_input": "2021-04-11T08:19:23.142397Z",
     "iopub.status.busy": "2021-04-11T08:19:23.142124Z",
     "iopub.status.idle": "2021-04-11T08:19:23.182392Z",
     "shell.execute_reply": "2021-04-11T08:19:23.182106Z",
     "shell.execute_reply.started": "2021-04-11T08:19:23.142340Z"
    }
   },
   "outputs": [
    {
     "data": {
      "text/html": [
       "<div>\n",
       "<style scoped>\n",
       "    .dataframe tbody tr th:only-of-type {\n",
       "        vertical-align: middle;\n",
       "    }\n",
       "\n",
       "    .dataframe tbody tr th {\n",
       "        vertical-align: top;\n",
       "    }\n",
       "\n",
       "    .dataframe thead th {\n",
       "        text-align: right;\n",
       "    }\n",
       "</style>\n",
       "<table border=\"1\" class=\"dataframe\">\n",
       "  <thead>\n",
       "    <tr style=\"text-align: right;\">\n",
       "      <th></th>\n",
       "      <th>key</th>\n",
       "      <th>ts</th>\n",
       "      <th>product</th>\n",
       "      <th>completed</th>\n",
       "      <th>price</th>\n",
       "    </tr>\n",
       "  </thead>\n",
       "  <tbody>\n",
       "    <tr>\n",
       "      <th>0</th>\n",
       "      <td>sale_1</td>\n",
       "      <td>2019-11-08 00:00</td>\n",
       "      <td>0</td>\n",
       "      <td>1</td>\n",
       "      <td>1.1</td>\n",
       "    </tr>\n",
       "    <tr>\n",
       "      <th>1</th>\n",
       "      <td>sale_2</td>\n",
       "      <td>2019-11-08 01:00</td>\n",
       "      <td>0</td>\n",
       "      <td>0</td>\n",
       "      <td>1.2</td>\n",
       "    </tr>\n",
       "    <tr>\n",
       "      <th>2</th>\n",
       "      <td>sale_3</td>\n",
       "      <td>2019-11-08 01:00</td>\n",
       "      <td>0</td>\n",
       "      <td>1</td>\n",
       "      <td>1.3</td>\n",
       "    </tr>\n",
       "    <tr>\n",
       "      <th>3</th>\n",
       "      <td>sale_4</td>\n",
       "      <td>2019-11-08 01:00</td>\n",
       "      <td>1</td>\n",
       "      <td>0</td>\n",
       "      <td>1.4</td>\n",
       "    </tr>\n",
       "    <tr>\n",
       "      <th>4</th>\n",
       "      <td>sale_5</td>\n",
       "      <td>2019-11-08 02:00</td>\n",
       "      <td>1</td>\n",
       "      <td>1</td>\n",
       "      <td>1.5</td>\n",
       "    </tr>\n",
       "    <tr>\n",
       "      <th>5</th>\n",
       "      <td>sale_6</td>\n",
       "      <td>2019-11-08 02:00</td>\n",
       "      <td>1</td>\n",
       "      <td>1</td>\n",
       "      <td>1.5</td>\n",
       "    </tr>\n",
       "  </tbody>\n",
       "</table>\n",
       "</div>"
      ],
      "text/plain": [
       "      key                ts  product  completed  price\n",
       "0  sale_1  2019-11-08 00:00        0          1    1.1\n",
       "1  sale_2  2019-11-08 01:00        0          0    1.2\n",
       "2  sale_3  2019-11-08 01:00        0          1    1.3\n",
       "3  sale_4  2019-11-08 01:00        1          0    1.4\n",
       "4  sale_5  2019-11-08 02:00        1          1    1.5\n",
       "5  sale_6  2019-11-08 02:00        1          1    1.5"
      ]
     },
     "execution_count": 7,
     "metadata": {},
     "output_type": "execute_result"
    }
   ],
   "source": [
    "df = result.DataFrame()\n",
    "df"
   ]
  }
 ],
 "metadata": {
  "kernelspec": {
   "display_name": "Python 3.9 (XPython)",
   "language": "python",
   "name": "xpython"
  },
  "language_info": {
   "file_extension": ".py",
   "mimetype": "text/x-python",
   "name": "python",
   "version": "3.9.2"
  }
 },
 "nbformat": 4,
 "nbformat_minor": 5
}
