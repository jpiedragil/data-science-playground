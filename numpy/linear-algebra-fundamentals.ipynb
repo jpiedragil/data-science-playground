{
 "metadata": {
  "language_info": {
   "codemirror_mode": {
    "name": "ipython",
    "version": 3
   },
   "file_extension": ".py",
   "mimetype": "text/x-python",
   "name": "python",
   "nbconvert_exporter": "python",
   "pygments_lexer": "ipython3",
   "version": "3.9.2"
  },
  "orig_nbformat": 2,
  "kernelspec": {
   "name": "python392jvsc74a57bd0781efe2f02e0a1786bef1869d79841c43af707769b96c8a4e888a356a49ff8a4",
   "display_name": "Python 3.9.2 64-bit ('jplab3_vscode': conda)"
  }
 },
 "nbformat": 4,
 "nbformat_minor": 2,
 "cells": [
  {
   "source": [
    "#  Linear Algebra Fundamentals for Data Science\n",
    "\n",
    "Source code from Medium's article [\"Linear Algebra Fundamentals for Data Science\"](https://bit.ly/33o7iEV), written by [Fortune Uwha](https://fortune-uwha.medium.com/)."
   ],
   "cell_type": "markdown",
   "metadata": {}
  },
  {
   "source": [
    "# Import libaries"
   ],
   "cell_type": "markdown",
   "metadata": {}
  },
  {
   "cell_type": "code",
   "execution_count": 1,
   "metadata": {},
   "outputs": [],
   "source": [
    "import numpy as np"
   ]
  },
  {
   "source": [
    "# Scalars, Vectors, Matrices and Tensors"
   ],
   "cell_type": "markdown",
   "metadata": {}
  },
  {
   "cell_type": "code",
   "execution_count": 2,
   "metadata": {},
   "outputs": [
    {
     "output_type": "stream",
     "name": "stdout",
     "text": [
      "3\n"
     ]
    }
   ],
   "source": [
    "# Declare a scalar as int\n",
    "#\n",
    "s = 3\n",
    "print(s)"
   ]
  },
  {
   "cell_type": "code",
   "execution_count": 3,
   "metadata": {},
   "outputs": [
    {
     "output_type": "stream",
     "name": "stdout",
     "text": [
      "3\n"
     ]
    }
   ],
   "source": [
    "# Or as an array\n",
    "#\n",
    "s_array = np.array(3)\n",
    "print(s_array)"
   ]
  },
  {
   "cell_type": "code",
   "execution_count": 4,
   "metadata": {},
   "outputs": [
    {
     "output_type": "stream",
     "name": "stdout",
     "text": [
      "[ 3 -5  6  1]\n"
     ]
    }
   ],
   "source": [
    "# Create a vector\n",
    "#\n",
    "v = np.array([3, -5, 6, 1])\n",
    "print(v)"
   ]
  },
  {
   "cell_type": "code",
   "execution_count": 5,
   "metadata": {},
   "outputs": [
    {
     "output_type": "stream",
     "name": "stdout",
     "text": [
      "[[2 3 1]\n [5 6 3]]\n"
     ]
    }
   ],
   "source": [
    "# Create a matrix\n",
    "#\n",
    "m = np.array([[2, 3, 1], [5, 6, 3]])\n",
    "print(m)"
   ]
  },
  {
   "cell_type": "code",
   "execution_count": 6,
   "metadata": {},
   "outputs": [
    {
     "output_type": "stream",
     "name": "stdout",
     "text": [
      "[[0 1 2]\n [3 4 5]]\n"
     ]
    }
   ],
   "source": [
    "# Or\n",
    "#\n",
    "M = np.arange(6).reshape(2, 3)\n",
    "print(M)"
   ]
  },
  {
   "cell_type": "code",
   "execution_count": 7,
   "metadata": {},
   "outputs": [
    {
     "output_type": "stream",
     "name": "stdout",
     "text": [
      "[[[ 2  3  1]\n  [ 5  6  3]]\n\n [[ 3 -1  5]\n  [ 9  2  4]]]\n(2, 2, 3)\n"
     ]
    }
   ],
   "source": [
    "# Create a Tensor\n",
    "#\n",
    "m1 = np.array([[2, 3, 1], [5, 6, 3]])\n",
    "\n",
    "m2 = np.array([[3, -1, 5], [9, 2, 4]])\n",
    "\n",
    "# Tensor: m1 + m2\n",
    "#\n",
    "t = np.array([m1, m2])\n",
    "\n",
    "print(t)\n",
    "print(t.shape)"
   ]
  },
  {
   "cell_type": "code",
   "execution_count": 9,
   "metadata": {},
   "outputs": [
    {
     "output_type": "stream",
     "name": "stdout",
     "text": [
      "[[[ 1  2  3]\n  [ 4  5  6]\n  [ 7  8  9]]\n\n [[11 12 13]\n  [14 15 16]\n  [17 18 19]]]\n(2, 3, 3)\n"
     ]
    }
   ],
   "source": [
    "T = np.array([[[1, 2, 3], [4, 5, 6], [7, 8, 9]],\n",
    "              [[11, 12, 13], [14, 15, 16], [17, 18, 19]]])\n",
    "\n",
    "print(T)\n",
    "print(T.shape)"
   ]
  },
  {
   "cell_type": "code",
   "execution_count": null,
   "metadata": {},
   "outputs": [],
   "source": []
  }
 ]
}