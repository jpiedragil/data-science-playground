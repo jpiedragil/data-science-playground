{
 "cells": [
  {
   "cell_type": "markdown",
   "metadata": {},
   "source": [
    "# Python has a Built-in Database – Here’s How to use it\n",
    "\n",
    "Source code from Better Data Science [\"Python has a Built-in Database – Here’s How to use it\"](https://www.betterdatascience.com/python-has-a-built-in-database-heres-how-to-use-it/) written by [Dario Radečić](https://www.betterdatascience.com/author/betterdatascience_onouc8/)."
   ]
  },
  {
   "cell_type": "markdown",
   "metadata": {
    "execution": {
     "iopub.execute_input": "2020-10-02T16:02:38.082390Z",
     "iopub.status.busy": "2020-10-02T16:02:38.081390Z",
     "iopub.status.idle": "2020-10-02T16:02:38.096390Z",
     "shell.execute_reply": "2020-10-02T16:02:38.094391Z",
     "shell.execute_reply.started": "2020-10-02T16:02:38.082390Z"
    }
   },
   "source": [
    "# Importing libraries"
   ]
  },
  {
   "cell_type": "code",
   "execution_count": 1,
   "metadata": {
    "execution": {
     "iopub.execute_input": "2020-10-02T18:51:26.747243Z",
     "iopub.status.busy": "2020-10-02T18:51:26.747243Z",
     "iopub.status.idle": "2020-10-02T18:51:27.647245Z",
     "shell.execute_reply": "2020-10-02T18:51:27.645261Z",
     "shell.execute_reply.started": "2020-10-02T18:51:26.747243Z"
    }
   },
   "outputs": [],
   "source": [
    "import pandas as pd\n",
    "\n",
    "import sqlite3 as lite"
   ]
  },
  {
   "cell_type": "markdown",
   "metadata": {},
   "source": [
    "# Functions"
   ]
  },
  {
   "cell_type": "code",
   "execution_count": 2,
   "metadata": {
    "execution": {
     "iopub.execute_input": "2020-10-02T18:51:30.090215Z",
     "iopub.status.busy": "2020-10-02T18:51:30.089216Z",
     "iopub.status.idle": "2020-10-02T18:51:30.119218Z",
     "shell.execute_reply": "2020-10-02T18:51:30.118214Z",
     "shell.execute_reply.started": "2020-10-02T18:51:30.089216Z"
    }
   },
   "outputs": [],
   "source": [
    "def table_exists(conn, table_name):\n",
    "    \n",
    "    c.execute('''SELECT\n",
    "                   COUNT(name)\n",
    "                 FROM\n",
    "                   sqlite_master\n",
    "                 WHERE\n",
    "                 TYPE = 'table' and\n",
    "                 name = '{}' '''.format(table_name))\n",
    "    \n",
    "    if c.fetchone()[0] == 1:\n",
    "        \n",
    "        return True\n",
    "    \n",
    "    return False\n",
    "\n",
    "def insert_movie(conn, c, movie_id, name, release_year, genre, rating):\n",
    "    \n",
    "    c.execute('''\n",
    "              INSERT INTO\n",
    "                movies (movie_id, name, release_year, genre, rating)\n",
    "                VALUES (?, ?, ?, ?, ?)\n",
    "              ''', (movie_id, name, release_year,genre, rating))\n",
    "    \n",
    "    conn.commit()\n",
    "    \n",
    "def get_movies(c):\n",
    "    \n",
    "    c.execute('''SELECT * FROM movies ''')\n",
    "    \n",
    "    data = []\n",
    "    \n",
    "    for row in c.fetchall():\n",
    "        \n",
    "        data.append(row)\n",
    "        \n",
    "    return data\n",
    "\n",
    "def get_movie(c, movie_id):\n",
    "    \n",
    "    c.execute('''\n",
    "              SELECT *\n",
    "              FROM\n",
    "                movies\n",
    "              WHERE\n",
    "                movie_id = {}\n",
    "              '''.format(movie_id))\n",
    "    \n",
    "    data = []\n",
    "    \n",
    "    for row in c.fetchall():\n",
    "        \n",
    "        data.append(row)\n",
    "        \n",
    "    return data\n",
    "\n",
    "def update_movie(conn, c, movie_id, update_dict):\n",
    "    \n",
    "    valid_keys = ['name', 'release_year', 'genre', 'rating']\n",
    "    \n",
    "    for key in update_dict.keys():\n",
    "        \n",
    "        if key not in valid_keys:\n",
    "            \n",
    "            raise Exception('Invalid field name!')\n",
    "            \n",
    "        for key in update_dict.keys():\n",
    "            \n",
    "            if type(update_dict[key] == str):\n",
    "                \n",
    "                stmt = '''\n",
    "                       UPDATE movies\n",
    "                       SET\n",
    "                         {} = '{}'\n",
    "                       WHERE\n",
    "                         movie_id = {}\n",
    "                       '''.format(key, update_dict[key], movie_id)\n",
    "                \n",
    "            else:\n",
    "                \n",
    "                stmt = '''\n",
    "                       UPDATE movies\n",
    "                       SET\n",
    "                         {} = {}\n",
    "                       WHERE\n",
    "                         movie_id = {}\n",
    "                       '''.format(key, update_dict[key], movie_id)\n",
    "                \n",
    "            c.execute(stmt)\n",
    "            \n",
    "        conn.commit()\n",
    "        \n",
    "def delete_movie(conn, c, movie_id):\n",
    "    \n",
    "    c.execute('''DELETE FROM movies WHERE movie_id = {}'''.format(movie_id))\n",
    "    conn.commit()            "
   ]
  },
  {
   "cell_type": "markdown",
   "metadata": {},
   "source": [
    "# Creating tables"
   ]
  },
  {
   "cell_type": "code",
   "execution_count": 16,
   "metadata": {
    "execution": {
     "iopub.execute_input": "2020-10-02T19:04:43.101638Z",
     "iopub.status.busy": "2020-10-02T19:04:43.100639Z",
     "iopub.status.idle": "2020-10-02T19:04:43.114639Z",
     "shell.execute_reply": "2020-10-02T19:04:43.112638Z",
     "shell.execute_reply.started": "2020-10-02T19:04:43.101638Z"
    }
   },
   "outputs": [],
   "source": [
    "conn = lite.connect('movies')\n",
    "\n",
    "c = conn.cursor()\n",
    "\n",
    "if not table_exists(conn, 'movies'):\n",
    "    \n",
    "    c.execute('''\n",
    "              CREATE TABLE movies (\n",
    "                  movie_id INTEGER,\n",
    "                  name TEXT,\n",
    "                  release_year INTEGER,\n",
    "                  genre TEXT,\n",
    "                  rating REAL\n",
    "              )\n",
    "              '''\n",
    "             )            "
   ]
  },
  {
   "cell_type": "markdown",
   "metadata": {},
   "source": [
    "# Test time"
   ]
  },
  {
   "cell_type": "code",
   "execution_count": 6,
   "metadata": {
    "execution": {
     "iopub.execute_input": "2020-10-02T18:54:30.108876Z",
     "iopub.status.busy": "2020-10-02T18:54:30.107876Z",
     "iopub.status.idle": "2020-10-02T18:54:30.802874Z",
     "shell.execute_reply": "2020-10-02T18:54:30.801878Z",
     "shell.execute_reply.started": "2020-10-02T18:54:30.108876Z"
    }
   },
   "outputs": [],
   "source": [
    "insert_movie(conn, c, 1, 'Titanic', 1997, 'Drama', 7.8)\n",
    "insert_movie(conn, c, 2, 'The Day After Tomorrow', 2004, 'action', 6.4)\n",
    "insert_movie(conn, c, 3, '2012', 2009, 'Action', 5.8)\n",
    "insert_movie(conn, c, 4, 'Men in Black', 1997, 'Action', 7.3)\n",
    "insert_movie(conn, c, 5, 'World War Z', 2013, 'Romance', 10)"
   ]
  },
  {
   "cell_type": "code",
   "execution_count": 7,
   "metadata": {
    "execution": {
     "iopub.execute_input": "2020-10-02T18:55:05.279613Z",
     "iopub.status.busy": "2020-10-02T18:55:05.278612Z",
     "iopub.status.idle": "2020-10-02T18:55:05.302615Z",
     "shell.execute_reply": "2020-10-02T18:55:05.300613Z",
     "shell.execute_reply.started": "2020-10-02T18:55:05.279613Z"
    }
   },
   "outputs": [
    {
     "name": "stdout",
     "output_type": "stream",
     "text": [
      "[(1, 'Titanic', 1997, 'Drama', 7.8), (2, 'The Day After Tomorrow', 2004, 'action', 6.4), (3, '2012', 2009, 'Action', 5.8), (4, 'Men in Black', 1997, 'Action', 7.3), (5, 'World War Z', 2013, 'Romance', 10.0)]\n"
     ]
    }
   ],
   "source": [
    "print(get_movies(c))"
   ]
  },
  {
   "cell_type": "code",
   "execution_count": 9,
   "metadata": {
    "execution": {
     "iopub.execute_input": "2020-10-02T18:56:11.325300Z",
     "iopub.status.busy": "2020-10-02T18:56:11.324301Z",
     "iopub.status.idle": "2020-10-02T18:56:11.338297Z",
     "shell.execute_reply": "2020-10-02T18:56:11.336294Z",
     "shell.execute_reply.started": "2020-10-02T18:56:11.325300Z"
    }
   },
   "outputs": [
    {
     "name": "stdout",
     "output_type": "stream",
     "text": [
      "[(2, 'The Day After Tomorrow', 2004, 'action', 6.4)]\n"
     ]
    }
   ],
   "source": [
    "print(get_movie(c, 2))"
   ]
  },
  {
   "cell_type": "code",
   "execution_count": 11,
   "metadata": {
    "execution": {
     "iopub.execute_input": "2020-10-02T18:58:04.437037Z",
     "iopub.status.busy": "2020-10-02T18:58:04.436037Z",
     "iopub.status.idle": "2020-10-02T18:58:04.609030Z",
     "shell.execute_reply": "2020-10-02T18:58:04.608029Z",
     "shell.execute_reply.started": "2020-10-02T18:58:04.437037Z"
    }
   },
   "outputs": [],
   "source": [
    "update_movie(conn, c, 5, {'genre': 'Horror', 'rating': 7.0})"
   ]
  },
  {
   "cell_type": "code",
   "execution_count": 12,
   "metadata": {
    "execution": {
     "iopub.execute_input": "2020-10-02T18:58:29.422085Z",
     "iopub.status.busy": "2020-10-02T18:58:29.421086Z",
     "iopub.status.idle": "2020-10-02T18:58:29.430089Z",
     "shell.execute_reply": "2020-10-02T18:58:29.428091Z",
     "shell.execute_reply.started": "2020-10-02T18:58:29.422085Z"
    }
   },
   "outputs": [
    {
     "name": "stdout",
     "output_type": "stream",
     "text": [
      "[(5, 'World War Z', 2013, 'Horror', 7.0)]\n"
     ]
    }
   ],
   "source": [
    "print(get_movie(c, 5))"
   ]
  },
  {
   "cell_type": "code",
   "execution_count": 13,
   "metadata": {
    "execution": {
     "iopub.execute_input": "2020-10-02T18:59:26.168933Z",
     "iopub.status.busy": "2020-10-02T18:59:26.167933Z",
     "iopub.status.idle": "2020-10-02T18:59:26.328931Z",
     "shell.execute_reply": "2020-10-02T18:59:26.327940Z",
     "shell.execute_reply.started": "2020-10-02T18:59:26.168933Z"
    }
   },
   "outputs": [],
   "source": [
    "delete_movie(conn, c, 3)"
   ]
  },
  {
   "cell_type": "code",
   "execution_count": 14,
   "metadata": {
    "execution": {
     "iopub.execute_input": "2020-10-02T18:59:41.627182Z",
     "iopub.status.busy": "2020-10-02T18:59:41.626183Z",
     "iopub.status.idle": "2020-10-02T18:59:41.644184Z",
     "shell.execute_reply": "2020-10-02T18:59:41.642183Z",
     "shell.execute_reply.started": "2020-10-02T18:59:41.627182Z"
    }
   },
   "outputs": [
    {
     "name": "stdout",
     "output_type": "stream",
     "text": [
      "[(1, 'Titanic', 1997, 'Drama', 7.8), (2, 'The Day After Tomorrow', 2004, 'action', 6.4), (4, 'Men in Black', 1997, 'Action', 7.3), (5, 'World War Z', 2013, 'Horror', 7.0)]\n"
     ]
    }
   ],
   "source": [
    "print(get_movies(c))"
   ]
  },
  {
   "cell_type": "code",
   "execution_count": null,
   "metadata": {},
   "outputs": [],
   "source": []
  }
 ],
 "metadata": {
  "kernelspec": {
   "display_name": "Python [conda env:.conda-jpnb_py38] *",
   "language": "python",
   "name": "conda-env-.conda-jpnb_py38-py"
  },
  "language_info": {
   "codemirror_mode": {
    "name": "ipython",
    "version": 3
   },
   "file_extension": ".py",
   "mimetype": "text/x-python",
   "name": "python",
   "nbconvert_exporter": "python",
   "pygments_lexer": "ipython3",
   "version": "3.8.5"
  }
 },
 "nbformat": 4,
 "nbformat_minor": 4
}
