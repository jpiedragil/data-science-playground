{
 "cells": [
  {
   "cell_type": "markdown",
   "id": "limited-sewing",
   "metadata": {},
   "source": [
    "# Powerful Exploratory Data Analysis in just two lines of code\n",
    "\n",
    "Source code from Medium's article [Powerful Exploratory Data Analysis in just two lines of code](https://towardsdatascience.com/powerful-eda-exploratory-data-analysis-in-just-two-lines-of-code-using-sweetviz-6c943d32f34), written by [Francois Bertrand](https://medium.com/@fbertrand27)."
   ]
  },
  {
   "cell_type": "markdown",
   "id": "diagnostic-potential",
   "metadata": {},
   "source": [
    "## Import libraries"
   ]
  },
  {
   "cell_type": "code",
   "execution_count": null,
   "id": "compatible-familiar",
   "metadata": {
    "tags": []
   },
   "outputs": [],
   "source": [
    "import sweetviz\n",
    "import pandas as pd"
   ]
  },
  {
   "cell_type": "code",
   "execution_count": null,
   "id": "trained-labor",
   "metadata": {},
   "outputs": [],
   "source": [
    "train = pd.read_csv(\"train.csv\")\n",
    "\n",
    "test = pd.read_csv(\"test.csv\")"
   ]
  },
  {
   "cell_type": "code",
   "execution_count": null,
   "id": "temporal-zealand",
   "metadata": {},
   "outputs": [],
   "source": [
    "my_report = sweetviz.compare([train, \"Train\"], [test, \"Test\"], \"Survived\")"
   ]
  },
  {
   "cell_type": "code",
   "execution_count": null,
   "id": "forbidden-brand",
   "metadata": {},
   "outputs": [],
   "source": [
    "my_report.show_html(\"Report.html\") # Not providing a filename will default to SWEETVIZ_REPORT.html."
   ]
  },
  {
   "cell_type": "markdown",
   "id": "directed-biography",
   "metadata": {},
   "source": [
    "## FeatureConfig: forcing data types, skipping columns"
   ]
  },
  {
   "cell_type": "code",
   "execution_count": null,
   "id": "touched-colors",
   "metadata": {
    "tags": []
   },
   "outputs": [],
   "source": [
    "feature_config = sweetviz.FeatureConfig(skip=\"PassengerId\", force_cat=[\"Ticket\"])\n",
    "\n",
    "my_report = sweetviz.compare([train, \"Train\"], [test, \"Test\"], \"Survived\", feature_config)"
   ]
  },
  {
   "cell_type": "code",
   "execution_count": null,
   "id": "atomic-bridges",
   "metadata": {},
   "outputs": [],
   "source": [
    "my_report.show_html(\"Report.html\") # Not providing a filename will default to SWEETVIZ_REPORT.html."
   ]
  },
  {
   "cell_type": "markdown",
   "id": "looking-designer",
   "metadata": {},
   "source": [
    "## Comparing sub-populations (e.g. Male vs Female)"
   ]
  },
  {
   "cell_type": "code",
   "execution_count": null,
   "id": "welcome-peninsula",
   "metadata": {},
   "outputs": [],
   "source": [
    "my_report = sweetviz.compare_intra(train, train[\"Sex\"] == 'male', [\"Male\", \"Female\"], 'Survived')\n",
    "\n",
    "my_report.show_html() # Not providing a filename will default to SWEETVIZ_REPORT.html."
   ]
  },
  {
   "cell_type": "code",
   "execution_count": null,
   "id": "played-adelaide",
   "metadata": {},
   "outputs": [],
   "source": []
  }
 ],
 "metadata": {
  "kernelspec": {
   "display_name": "Python 3.9 (XPython)",
   "language": "python",
   "name": "xpython"
  },
  "language_info": {
   "file_extension": ".py",
   "mimetype": "text/x-python",
   "name": "python",
   "version": "3.9.2"
  }
 },
 "nbformat": 4,
 "nbformat_minor": 5
}
